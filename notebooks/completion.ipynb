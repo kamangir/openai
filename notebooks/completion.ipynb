{
 "cells": [
  {
   "cell_type": "code",
   "execution_count": 1,
   "metadata": {},
   "outputs": [
    {
     "name": "stderr",
     "output_type": "stream",
     "text": [
      "using openai_cli-2.86.1.\n"
     ]
    }
   ],
   "source": [
    "import os\n",
    "from abcli import file\n",
    "from openai_cli import NAME, VERSION\n",
    "from openai_cli.completion.functions import complete_prompt\n",
    "from openai_cli.completion.classes import ai_function\n",
    "import matplotlib.pyplot as plt\n",
    "import abcli.logging\n",
    "import logging\n",
    "\n",
    "logger = logging.getLogger()\n",
    "\n",
    "logger.info(f\"using {NAME}-{VERSION}.\")"
   ]
  },
  {
   "cell_type": "code",
   "execution_count": 2,
   "metadata": {},
   "outputs": [
    {
     "name": "stderr",
     "output_type": "stream",
     "text": [
      "ai_function.prompt=Write a python function named ai_function_18577650\n",
      "that inputs an image as a numpy array\n",
      "and does not run a for loop on the pixels and\n",
      "uses opencv vector functions and\n",
      "imports all modules that are used in the code\n",
      "and returns a darker version of the input image\n"
     ]
    }
   ],
   "source": [
    "func = ai_function(\n",
    "    inputs = [\"an image as a numpy array\"],\n",
    "    returns = [\"a darker version of the input image\"],\n",
    "    requirements = [\n",
    "        \"does not run a for loop on the pixels\",\n",
    "        \"uses numpy vector functions\",\n",
    "        \"imports all modules that are used in the code\"\n",
    "    ],\n",
    "    output_class_name=\"ndarray\",\n",
    "    verbose=False,\n",
    ")"
   ]
  },
  {
   "cell_type": "code",
   "execution_count": 3,
   "metadata": {},
   "outputs": [
    {
     "name": "stderr",
     "output_type": "stream",
     "text": [
      "message='Request to OpenAI API' method=post path=https://api.openai.com/v1/completions\n",
      "message='OpenAI API response' path=https://api.openai.com/v1/completions processing_ms=9169 request_id=036209fc826dc1f1975edec65934a952 response_code=200\n",
      "openai-cli.complete(): finish_reason: stop.\n",
      "code: \n",
      "\n",
      "import cv2\n",
      "\n",
      "def ai_function_18577650(image):\n",
      "    # convert to grayscale\n",
      "    img_grayed = cv2.cvtColor(image, cv2.COLOR_RGB2GRAY)\n",
      " \n",
      "    # scaling down the values of grayscale pixels\n",
      "    img_darker = img_grayed/255\n",
      " \n",
      "    # apply gamma correction\n",
      "    gamma = 0.7\n",
      "    img_darker = img_darker**gamma\n",
      " \n",
      "    # convert back to RGB\n",
      "    result_img = cv2.cvtColor(img_darker, cv2.COLOR_GRAY2RGB)\n",
      " \n",
      "    return result_img\n"
     ]
    }
   ],
   "source": [
    "assert func.generate()"
   ]
  },
  {
   "cell_type": "code",
   "execution_count": 4,
   "metadata": {},
   "outputs": [
    {
     "name": "stderr",
     "output_type": "stream",
     "text": [
      "func_ai.compute(ndarray)\n"
     ]
    },
    {
     "ename": "error",
     "evalue": "OpenCV(4.6.0) /Users/runner/work/opencv-python/opencv-python/opencv/modules/imgproc/src/color.simd_helpers.hpp:94: error: (-2:Unspecified error) in function 'cv::impl::(anonymous namespace)::CvtHelper<cv::impl::(anonymous namespace)::Set<1, -1, -1>, cv::impl::(anonymous namespace)::Set<3, 4, -1>, cv::impl::(anonymous namespace)::Set<0, 2, 5>, cv::impl::(anonymous namespace)::NONE>::CvtHelper(cv::InputArray, cv::OutputArray, int) [VScn = cv::impl::(anonymous namespace)::Set<1, -1, -1>, VDcn = cv::impl::(anonymous namespace)::Set<3, 4, -1>, VDepth = cv::impl::(anonymous namespace)::Set<0, 2, 5>, sizePolicy = cv::impl::(anonymous namespace)::NONE]'\n> Unsupported depth of input image:\n>     'VDepth::contains(depth)'\n> where\n>     'depth' is 6 (CV_64F)\n",
     "output_type": "error",
     "traceback": [
      "\u001b[0;31m---------------------------------------------------------------------------\u001b[0m",
      "\u001b[0;31merror\u001b[0m                                     Traceback (most recent call last)",
      "\u001b[1;32m/Users/kamangir/git/openai/notebooks/completion.ipynb Cell 4\u001b[0m in \u001b[0;36m<cell line: 6>\u001b[0;34m()\u001b[0m\n\u001b[1;32m      <a href='vscode-notebook-cell:/Users/kamangir/git/openai/notebooks/completion.ipynb#W6sZmlsZQ%3D%3D?line=0'>1</a>\u001b[0m input_image \u001b[39m=\u001b[39m file\u001b[39m.\u001b[39mload_image(\n\u001b[1;32m      <a href='vscode-notebook-cell:/Users/kamangir/git/openai/notebooks/completion.ipynb#W6sZmlsZQ%3D%3D?line=1'>2</a>\u001b[0m     os\u001b[39m.\u001b[39mpath\u001b[39m.\u001b[39mjoin(\n\u001b[1;32m      <a href='vscode-notebook-cell:/Users/kamangir/git/openai/notebooks/completion.ipynb#W6sZmlsZQ%3D%3D?line=2'>3</a>\u001b[0m         os\u001b[39m.\u001b[39mgetenv(\u001b[39m\"\u001b[39m\u001b[39mHOME\u001b[39m\u001b[39m\"\u001b[39m,\u001b[39m\"\u001b[39m\u001b[39m\"\u001b[39m),\n\u001b[1;32m      <a href='vscode-notebook-cell:/Users/kamangir/git/openai/notebooks/completion.ipynb#W6sZmlsZQ%3D%3D?line=3'>4</a>\u001b[0m         \u001b[39m\"\u001b[39m\u001b[39mgit/blue-bracket/images/portal-34.jpg\u001b[39m\u001b[39m\"\u001b[39m)\n\u001b[1;32m      <a href='vscode-notebook-cell:/Users/kamangir/git/openai/notebooks/completion.ipynb#W6sZmlsZQ%3D%3D?line=4'>5</a>\u001b[0m         )[\u001b[39m1\u001b[39m]\n\u001b[0;32m----> <a href='vscode-notebook-cell:/Users/kamangir/git/openai/notebooks/completion.ipynb#W6sZmlsZQ%3D%3D?line=5'>6</a>\u001b[0m image_output \u001b[39m=\u001b[39m func\u001b[39m.\u001b[39;49mcompute(input_image)\n\u001b[1;32m      <a href='vscode-notebook-cell:/Users/kamangir/git/openai/notebooks/completion.ipynb#W6sZmlsZQ%3D%3D?line=6'>7</a>\u001b[0m \u001b[39massert\u001b[39;00m image_output \u001b[39mis\u001b[39;00m \u001b[39mnot\u001b[39;00m \u001b[39mNone\u001b[39;00m\n",
      "File \u001b[0;32m~/git/openai/openai_cli/completion/classes.py:45\u001b[0m, in \u001b[0;36mai_function.compute\u001b[0;34m(self, inputs)\u001b[0m\n\u001b[1;32m     41\u001b[0m     \u001b[39mreturn\u001b[39;00m \u001b[39mNone\u001b[39;00m\n\u001b[1;32m     43\u001b[0m logger\u001b[39m.\u001b[39minfo(\u001b[39m\"\u001b[39m\u001b[39mfunc_ai.compute(\u001b[39m\u001b[39m{}\u001b[39;00m\u001b[39m)\u001b[39m\u001b[39m\"\u001b[39m\u001b[39m.\u001b[39mformat(inputs\u001b[39m.\u001b[39m\u001b[39m__class__\u001b[39m\u001b[39m.\u001b[39m\u001b[39m__name__\u001b[39m))\n\u001b[0;32m---> 45\u001b[0m outputs \u001b[39m=\u001b[39m \u001b[39mself\u001b[39;49m\u001b[39m.\u001b[39;49mfunction_handle(inputs)\n\u001b[1;32m     47\u001b[0m \u001b[39mif\u001b[39;00m \u001b[39mself\u001b[39m\u001b[39m.\u001b[39moutput_class_name:\n\u001b[1;32m     48\u001b[0m     \u001b[39mif\u001b[39;00m outputs\u001b[39m.\u001b[39m\u001b[39m__class__\u001b[39m\u001b[39m.\u001b[39m\u001b[39m__name__\u001b[39m \u001b[39m!=\u001b[39m \u001b[39mself\u001b[39m\u001b[39m.\u001b[39moutput_class_name:\n",
      "File \u001b[0;32m<string>:17\u001b[0m, in \u001b[0;36mai_function_18577650\u001b[0;34m(image)\u001b[0m\n",
      "\u001b[0;31merror\u001b[0m: OpenCV(4.6.0) /Users/runner/work/opencv-python/opencv-python/opencv/modules/imgproc/src/color.simd_helpers.hpp:94: error: (-2:Unspecified error) in function 'cv::impl::(anonymous namespace)::CvtHelper<cv::impl::(anonymous namespace)::Set<1, -1, -1>, cv::impl::(anonymous namespace)::Set<3, 4, -1>, cv::impl::(anonymous namespace)::Set<0, 2, 5>, cv::impl::(anonymous namespace)::NONE>::CvtHelper(cv::InputArray, cv::OutputArray, int) [VScn = cv::impl::(anonymous namespace)::Set<1, -1, -1>, VDcn = cv::impl::(anonymous namespace)::Set<3, 4, -1>, VDepth = cv::impl::(anonymous namespace)::Set<0, 2, 5>, sizePolicy = cv::impl::(anonymous namespace)::NONE]'\n> Unsupported depth of input image:\n>     'VDepth::contains(depth)'\n> where\n>     'depth' is 6 (CV_64F)\n"
     ]
    }
   ],
   "source": [
    "input_image = file.load_image(\n",
    "    os.path.join(\n",
    "        os.getenv(\"HOME\",\"\"),\n",
    "        \"git/blue-bracket/images/portal-34.jpg\")\n",
    "        )[1]\n",
    "image_output = func.compute(input_image)\n",
    "assert image_output is not None"
   ]
  },
  {
   "cell_type": "code",
   "execution_count": null,
   "metadata": {},
   "outputs": [],
   "source": [
    "fig, axes = plt.subplots(1, 2, figsize=(10, 5))\n",
    "axes[0].imshow(input_image)\n",
    "axes[0].axis('off') \n",
    "axes[0].set_title(\"input image\")\n",
    "\n",
    "axes[1].imshow(image_output)\n",
    "axes[1].axis('off')\n",
    "axes[1].set_title(\"output image\")\n",
    "\n",
    "# Adjust the spacing between subplots\n",
    "plt.subplots_adjust(wspace=0.1)\n",
    "plt.show()"
   ]
  },
  {
   "cell_type": "code",
   "execution_count": null,
   "metadata": {},
   "outputs": [],
   "source": [
    "# END"
   ]
  }
 ],
 "metadata": {
  "kernelspec": {
   "display_name": "Python 3",
   "language": "python",
   "name": "python3"
  },
  "language_info": {
   "codemirror_mode": {
    "name": "ipython",
    "version": 3
   },
   "file_extension": ".py",
   "mimetype": "text/x-python",
   "name": "python",
   "nbconvert_exporter": "python",
   "pygments_lexer": "ipython3",
   "version": "3.9.13"
  },
  "orig_nbformat": 4
 },
 "nbformat": 4,
 "nbformat_minor": 2
}
