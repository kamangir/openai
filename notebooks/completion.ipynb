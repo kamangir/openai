{
 "cells": [
  {
   "cell_type": "code",
   "execution_count": 1,
   "metadata": {},
   "outputs": [
    {
     "name": "stderr",
     "output_type": "stream",
     "text": [
      "using openai_cli-2.87.1.\n"
     ]
    }
   ],
   "source": [
    "import os\n",
    "from abcli import file\n",
    "from openai_cli import NAME, VERSION\n",
    "from openai_cli.completion.functions import complete_prompt\n",
    "from openai_cli.completion.classes import ai_function\n",
    "import matplotlib.pyplot as plt\n",
    "import abcli.logging\n",
    "import logging\n",
    "\n",
    "logger = logging.getLogger()\n",
    "\n",
    "logger.info(f\"using {NAME}-{VERSION}.\")"
   ]
  },
  {
   "cell_type": "code",
   "execution_count": 2,
   "metadata": {},
   "outputs": [],
   "source": [
    "input_image = file.load_image(\n",
    "    os.path.join(\n",
    "        os.getenv(\"HOME\",\"\"),\n",
    "        \"git/blue-bracket/images/portal-34.jpg\")\n",
    "        )[1]"
   ]
  },
  {
   "cell_type": "code",
   "execution_count": 3,
   "metadata": {},
   "outputs": [
    {
     "name": "stderr",
     "output_type": "stream",
     "text": [
      "ai_function.prompt=Write a python function named ai_function_62453973\n",
      "that inputs an image as a numpy array\n",
      "and does not run a for loop on the pixels and\n",
      "uses numpy vector functions and\n",
      "imports all modules that are used in the code\n",
      "and returns an artistically modified version of the input image as a numpy array\n"
     ]
    }
   ],
   "source": [
    "func = ai_function(\n",
    "    inputs = [\"an image as a numpy array\"],\n",
    "    returns = [\"a darker version of the input image as a numpy array\"],\n",
    "    requirements = [\n",
    "        \"does not run a for loop on the pixels\",\n",
    "        \"uses numpy vector functions\",\n",
    "        \"imports all modules that are used in the code\"\n",
    "    ],\n",
    "    output_class_name=\"ndarray\",\n",
    "    verbose=False,\n",
    ")"
   ]
  },
  {
   "cell_type": "code",
   "execution_count": 4,
   "metadata": {},
   "outputs": [
    {
     "name": "stderr",
     "output_type": "stream",
     "text": [
      "message='Request to OpenAI API' method=post path=https://api.openai.com/v1/completions\n",
      "message='OpenAI API response' path=https://api.openai.com/v1/completions processing_ms=27893 request_id=09a31cefe915c2815325346e9d061f76 response_code=200\n",
      "openai-cli.complete(): finish_reason: stop.\n",
      "code: .\n",
      "\n",
      "def ai_function_62453973(image):\n",
      "    import numpy as np\n",
      "    from PIL import Image\n",
      "    from scipy import ndimage\n",
      "    from scipy.ndimage.filters import convolve\n",
      "    \n",
      "    #Convert image to an array of values\n",
      "    image_array = np.asarray(image)\n",
      "    \n",
      "    #Apply edge filter to image\n",
      "    gauss_kernel = np.array([[-1, -1, -1], [-1, 8, -1], [-1, -1, -1]])\n",
      "    filtered_array = convolve(image_array, gauss_kernel)\n",
      "    \n",
      "    #Upscale the new image by two in width and height\n",
      "    upscale_factor = 2\n",
      "    upscale_filtered_array = ndimage.zoom(filtered_array, (upscale_factor, upscale_factor, 1), order=1)\n",
      "    \n",
      "    #Smooth edges\n",
      "    smooth_kernel = np.array([[1/3, 1/2, 1/3], [1/2, 1, 1/2], [1/3, 1/2, 1/3]])\n",
      "    smoothed_Filtered_Array = convolve(upscale_filtered_array, smooth_kernel)\n",
      "    \n",
      "    #Shift the image\n",
      "    shift_array = np.roll(smoothed_Filtered_Array,upscale_factor,0)\n",
      "    shift_array = np.roll(shift_array,upscale_factor,1)\n",
      "    \n",
      "    #Convert shifted array back to an image and return it\n",
      "    shifted_image = Image.fromarray(shift_array.astype('uint8'), 'RGB')\n",
      "    return shifted_image\n",
      "crash: ai_function.generate() failed.\n",
      "exception \n",
      "Traceback (most recent call last):\n",
      "  File \"/Users/kamangir/git/openai/openai_cli/completion/classes.py\", line 79, in generate\n",
      "    exec(self.code)\n",
      "  File \"<string>\", line 1\n",
      "    .\n",
      "    ^\n",
      "SyntaxError: invalid syntax\n",
      "5 more tries.\n",
      "message='Request to OpenAI API' method=post path=https://api.openai.com/v1/completions\n",
      "message='OpenAI API response' path=https://api.openai.com/v1/completions processing_ms=17256 request_id=be11844745c48611764b96fec35f13c5 response_code=200\n",
      "openai-cli.complete(): finish_reason: stop.\n",
      "code: .\n",
      "\n",
      "import numpy as np\n",
      "import cv2\n",
      "\n",
      "def ai_function_62453973(image):\n",
      "    # Convert image to float32\n",
      "    img_32 = np.float32(image)\n",
      "    \n",
      "    # Calculate the magnitude of the fourier transform \n",
      "    # and apply normalization\n",
      "    fourier_magnitude = np.absolute(cv2.dft(img_32))\n",
      "    normalized_frequency = cv2.normalize(fourier_magnitude, None, 0, 255, cv2.NORM_MINMAX)\n",
      "    \n",
      "    # Calculate the logarithmic transformation of the normalized frequency and\n",
      "    # normalize the result again\n",
      "    log_fourier_magnitude = np.log(normalized_frequency)\n",
      "    normalized_log_fourier_magnitude = cv2.normalize(log_fourier_magnitude, None, 0, 255, cv2.NORM_MINMAX)\n",
      "    \n",
      "    # Apply inverse Fourier transform through cv2.idft function to the \n",
      "    # normalized logarithmic transformation of the normalized frequency\n",
      "    modified_img = cv2.idft(normalized_log_fourier_magnitude)\n",
      "    \n",
      "    # Convert the result to a 8-bit image\n",
      "    output_img = cv2.convertScaleAbs(modified_img)\n",
      "    \n",
      "    return output_img\n",
      "crash: ai_function.generate() failed.\n",
      "exception \n",
      "Traceback (most recent call last):\n",
      "  File \"/Users/kamangir/git/openai/openai_cli/completion/classes.py\", line 79, in generate\n",
      "    exec(self.code)\n",
      "  File \"<string>\", line 1\n",
      "    .\n",
      "    ^\n",
      "SyntaxError: invalid syntax\n",
      "4 more tries.\n",
      "message='Request to OpenAI API' method=post path=https://api.openai.com/v1/completions\n",
      "message='OpenAI API response' path=https://api.openai.com/v1/completions processing_ms=23330 request_id=ae5fbe8797784a7cbfd103a76cff979a response_code=200\n",
      "openai-cli.complete(): finish_reason: stop.\n",
      "code: \n",
      "\n",
      "import numpy as np\n",
      "import cv2\n",
      "import scipy\n",
      "\n",
      "def ai_function_62453973(img):\n",
      "    rows, cols, channels = img.shape\n",
      "    blank = np.zeros((rows, cols, channels), np.uint8)\n",
      "\n",
      "    # Edge detection\n",
      "    edges = cv2.Canny(img, 40, 200)\n",
      "    # Blur the edges\n",
      "    edges = cv2.GaussianBlur(edges, (5, 5), 0)\n",
      "    # Convert to HSV\n",
      "    hsv = cv2.cvtColor(edges, cv2.COLOR_GRAY2BGR)\n",
      "    # Make inversion of the image\n",
      "    hsv = cv2.bitwise_not(hsv)\n",
      "    # Overlay with original image\n",
      "    overlay = np.zeros((rows, cols, channels), np.uint8)\n",
      "    overlay[:,:,0] = hsv[:,:,0]\n",
      "    overlay[:,:,1] = img[:,:,1]\n",
      "    overlay[:,:,2] = img[:,:,2]\n",
      "    # Apply color threshold to erase unneccesary artifacts\n",
      "    cv2.threshold(hsv, 40, 255, cv2.THRESH_BINARY, hsv)\n",
      "    # Invert the result\n",
      "    hsv = cv2.bitwise_not(hsv)\n",
      "    # Overlay the edge\n",
      "    out = np.addWeighted(overlay,0.5,hsv,0.5,0)\n",
      "    # Reduce the amount of edges with a filter\n",
      "    out = cv2.GaussianBlur(out, (9, 9), 0)\n",
      "    # Increase the brightness and contrast\n",
      "    out = scipy.ndimage.maximum_filter(out, size=15)\n",
      "    # Reduce the color saturation\n",
      "    out = cv2.cvtColor(out, cv2.COLOR_BGR2GRAY, out)\n",
      "    out = cv2.cvtColor(out, cv2.COLOR_GRAY2BGR, out)\n",
      "\n",
      "    return out\n"
     ]
    }
   ],
   "source": [
    "assert func.generate(validation_input = input_image)"
   ]
  },
  {
   "cell_type": "code",
   "execution_count": 5,
   "metadata": {},
   "outputs": [
    {
     "name": "stderr",
     "output_type": "stream",
     "text": [
      "func_ai.compute(ndarray)\n"
     ]
    },
    {
     "ename": "AttributeError",
     "evalue": "module 'numpy' has no attribute 'addWeighted'",
     "output_type": "error",
     "traceback": [
      "\u001b[0;31m---------------------------------------------------------------------------\u001b[0m",
      "\u001b[0;31mAttributeError\u001b[0m                            Traceback (most recent call last)",
      "\u001b[1;32m/Users/kamangir/git/openai/notebooks/completion.ipynb Cell 5\u001b[0m in \u001b[0;36m<cell line: 1>\u001b[0;34m()\u001b[0m\n\u001b[0;32m----> <a href='vscode-notebook-cell:/Users/kamangir/git/openai/notebooks/completion.ipynb#W4sZmlsZQ%3D%3D?line=0'>1</a>\u001b[0m image_output \u001b[39m=\u001b[39m func\u001b[39m.\u001b[39;49mcompute(input_image)\n\u001b[1;32m      <a href='vscode-notebook-cell:/Users/kamangir/git/openai/notebooks/completion.ipynb#W4sZmlsZQ%3D%3D?line=1'>2</a>\u001b[0m \u001b[39massert\u001b[39;00m image_output \u001b[39mis\u001b[39;00m \u001b[39mnot\u001b[39;00m \u001b[39mNone\u001b[39;00m\n",
      "File \u001b[0;32m~/git/openai/openai_cli/completion/classes.py:45\u001b[0m, in \u001b[0;36mai_function.compute\u001b[0;34m(self, inputs)\u001b[0m\n\u001b[1;32m     41\u001b[0m     \u001b[39mreturn\u001b[39;00m \u001b[39mNone\u001b[39;00m\n\u001b[1;32m     43\u001b[0m logger\u001b[39m.\u001b[39minfo(\u001b[39m\"\u001b[39m\u001b[39mfunc_ai.compute(\u001b[39m\u001b[39m{}\u001b[39;00m\u001b[39m)\u001b[39m\u001b[39m\"\u001b[39m\u001b[39m.\u001b[39mformat(inputs\u001b[39m.\u001b[39m\u001b[39m__class__\u001b[39m\u001b[39m.\u001b[39m\u001b[39m__name__\u001b[39m))\n\u001b[0;32m---> 45\u001b[0m outputs \u001b[39m=\u001b[39m \u001b[39mself\u001b[39;49m\u001b[39m.\u001b[39;49mfunction_handle(inputs)\n\u001b[1;32m     46\u001b[0m logger\u001b[39m.\u001b[39minfo(\u001b[39m\"\u001b[39m\u001b[39m-> \u001b[39m\u001b[39m{}\u001b[39;00m\u001b[39m\"\u001b[39m\u001b[39m.\u001b[39mformat(outputs\u001b[39m.\u001b[39m\u001b[39m__class__\u001b[39m\u001b[39m.\u001b[39m\u001b[39m__name__\u001b[39m))\n\u001b[1;32m     48\u001b[0m \u001b[39mif\u001b[39;00m \u001b[39mself\u001b[39m\u001b[39m.\u001b[39moutput_class_name:\n",
      "File \u001b[0;32m<string>:29\u001b[0m, in \u001b[0;36mai_function_62453973\u001b[0;34m(img)\u001b[0m\n",
      "File \u001b[0;32m/usr/local/lib/python3.9/site-packages/numpy/__init__.py:311\u001b[0m, in \u001b[0;36m__getattr__\u001b[0;34m(attr)\u001b[0m\n\u001b[1;32m    308\u001b[0m     \u001b[39mfrom\u001b[39;00m \u001b[39m.\u001b[39;00m\u001b[39mtesting\u001b[39;00m \u001b[39mimport\u001b[39;00m Tester\n\u001b[1;32m    309\u001b[0m     \u001b[39mreturn\u001b[39;00m Tester\n\u001b[0;32m--> 311\u001b[0m \u001b[39mraise\u001b[39;00m \u001b[39mAttributeError\u001b[39;00m(\u001b[39m\"\u001b[39m\u001b[39mmodule \u001b[39m\u001b[39m{!r}\u001b[39;00m\u001b[39m has no attribute \u001b[39m\u001b[39m\"\u001b[39m\n\u001b[1;32m    312\u001b[0m                      \u001b[39m\"\u001b[39m\u001b[39m{!r}\u001b[39;00m\u001b[39m\"\u001b[39m\u001b[39m.\u001b[39mformat(\u001b[39m__name__\u001b[39m, attr))\n",
      "\u001b[0;31mAttributeError\u001b[0m: module 'numpy' has no attribute 'addWeighted'"
     ]
    }
   ],
   "source": [
    "\n",
    "image_output = func.compute(input_image)\n",
    "assert image_output is not None"
   ]
  },
  {
   "cell_type": "code",
   "execution_count": null,
   "metadata": {},
   "outputs": [],
   "source": [
    "fig, axes = plt.subplots(1, 2, figsize=(10, 5))\n",
    "axes[0].imshow(input_image)\n",
    "axes[0].axis('off') \n",
    "axes[0].set_title(\"input image\")\n",
    "\n",
    "axes[1].imshow(image_output)\n",
    "axes[1].axis('off')\n",
    "axes[1].set_title(\"output image\")\n",
    "\n",
    "# Adjust the spacing between subplots\n",
    "plt.subplots_adjust(wspace=0.1)\n",
    "plt.show()"
   ]
  },
  {
   "cell_type": "code",
   "execution_count": null,
   "metadata": {},
   "outputs": [],
   "source": [
    "# END"
   ]
  }
 ],
 "metadata": {
  "kernelspec": {
   "display_name": "Python 3",
   "language": "python",
   "name": "python3"
  },
  "language_info": {
   "codemirror_mode": {
    "name": "ipython",
    "version": 3
   },
   "file_extension": ".py",
   "mimetype": "text/x-python",
   "name": "python",
   "nbconvert_exporter": "python",
   "pygments_lexer": "ipython3",
   "version": "3.9.13"
  },
  "orig_nbformat": 4
 },
 "nbformat": 4,
 "nbformat_minor": 2
}
