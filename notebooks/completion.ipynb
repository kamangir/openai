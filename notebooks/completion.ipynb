{
 "cells": [
  {
   "attachments": {},
   "cell_type": "markdown",
   "metadata": {},
   "source": [
    "# [OpenAI completion](../openai_cli/completion/api.py)"
   ]
  },
  {
   "cell_type": "code",
   "execution_count": 1,
   "metadata": {},
   "outputs": [],
   "source": [
    "# ! cd ~/git/openai; pip3 install -e .\n",
    "# !pip3 install --upgrade openai"
   ]
  },
  {
   "cell_type": "code",
   "execution_count": 2,
   "metadata": {},
   "outputs": [
    {
     "name": "stderr",
     "output_type": "stream",
     "text": [
      "using openai_cli-2.147.1.\n"
     ]
    }
   ],
   "source": [
    "from openai_cli import NAME, VERSION\n",
    "from openai_cli.completion.api import complete_prompt\n",
    "import abcli.logging\n",
    "import logging\n",
    "\n",
    "logger = logging.getLogger()\n",
    "\n",
    "logger.info(f\"using {NAME}-{VERSION}.\")"
   ]
  },
  {
   "cell_type": "code",
   "execution_count": 3,
   "metadata": {},
   "outputs": [
    {
     "name": "stderr",
     "output_type": "stream",
     "text": [
      "HTTP Request: POST https://api.openai.com/v1/chat/completions \"HTTP/1.1 200 OK\"\n",
      "response: ChatCompletion(id='chatcmpl-8NthVfBqDb3sE06PcmpaTiZHtNSE7', choices=[Choice(finish_reason='stop', index=0, message=ChatCompletionMessage(content='Experience the thrill of exploring a foreign country, immersing yourself in new cultures, and creating unforgettable memories - book your trip today!', role='assistant', function_call=None, tool_calls=None))], created=1700706349, model='gpt-3.5-turbo-0613', object='chat.completion', system_fingerprint=None, usage=CompletionUsage(completion_tokens=27, prompt_tokens=26, total_tokens=53))\n",
      "openai-cli.complete(): finish_reason: stop.\n"
     ]
    }
   ],
   "source": [
    "success, text, _ = complete_prompt(\"write a short sentence to convince your audience to travel to a foreign country as soon as possible.\")\n",
    "assert success"
   ]
  },
  {
   "cell_type": "code",
   "execution_count": 4,
   "metadata": {},
   "outputs": [
    {
     "name": "stderr",
     "output_type": "stream",
     "text": [
      "text: Experience the thrill of exploring a foreign country, immersing yourself in new cultures, and creating unforgettable memories - book your trip today!\n"
     ]
    }
   ],
   "source": [
    "logger.info(f\"text: {text}\")"
   ]
  },
  {
   "cell_type": "code",
   "execution_count": 5,
   "metadata": {},
   "outputs": [],
   "source": [
    "# END"
   ]
  }
 ],
 "metadata": {
  "kernelspec": {
   "display_name": "Python 3",
   "language": "python",
   "name": "python3"
  },
  "language_info": {
   "codemirror_mode": {
    "name": "ipython",
    "version": 3
   },
   "file_extension": ".py",
   "mimetype": "text/x-python",
   "name": "python",
   "nbconvert_exporter": "python",
   "pygments_lexer": "ipython3",
   "version": "3.11.5"
  },
  "orig_nbformat": 4
 },
 "nbformat": 4,
 "nbformat_minor": 2
}
