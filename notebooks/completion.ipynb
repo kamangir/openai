{
 "cells": [
  {
   "cell_type": "code",
   "execution_count": 1,
   "metadata": {},
   "outputs": [
    {
     "name": "stderr",
     "output_type": "stream",
     "text": [
      "using openai_cli-2.82.1.\n"
     ]
    }
   ],
   "source": [
    "import os\n",
    "import openai\n",
    "from abcli import file\n",
    "from abcli.modules.cookie import cookie\n",
    "from openai_cli import NAME, VERSION\n",
    "import abcli.logging\n",
    "import logging\n",
    "\n",
    "logger = logging.getLogger()\n",
    "\n",
    "logger.info(f\"using {NAME}-{VERSION}.\")"
   ]
  },
  {
   "cell_type": "code",
   "execution_count": 2,
   "metadata": {},
   "outputs": [],
   "source": [
    "openai.api_key = os.environ[\"OPENAI_API_KEY\"] = cookie[\"openai_api_key\"]"
   ]
  },
  {
   "cell_type": "code",
   "execution_count": 7,
   "metadata": {},
   "outputs": [
    {
     "name": "stderr",
     "output_type": "stream",
     "text": [
      "message='Request to OpenAI API' method=post path=https://api.openai.com/v1/completions\n",
      "message='OpenAI API response' path=https://api.openai.com/v1/completions processing_ms=9154 request_id=190f3eff7e4e7cab98ca6c8f9d9c045b response_code=200\n"
     ]
    },
    {
     "name": "stdout",
     "output_type": "stream",
     "text": [
      "\n",
      "\n",
      "import numpy as np\n",
      "from PIL import Image\n",
      "\n",
      "# Function takes a image as input and returns a darker version of it\n",
      "def make_darker(input_image):\n",
      "    \n",
      "    #convert the image to a numpy array\n",
      "    arr = np.array(input_image)\n",
      "    \n",
      "    #find the shape of the array\n",
      "    shape = arr.shape\n",
      "    \n",
      "    #create an empty array of the same size\n",
      "    darker_arr = np.empty(shape, dtype='uint8')\n",
      "    \n",
      "    # loop through and subtract 15 from each element in order to make the image darker\n",
      "    for row in range(shape[0]):\n",
      "        for col in range(shape[1]):\n",
      "            darker_arr[row][col] = arr[row][col] - 15\n",
      "           \n",
      "    # return the darker image\n",
      "    return Image.fromarray(darker_arr)\n"
     ]
    }
   ],
   "source": [
    "response = openai.Completion.create(\n",
    "  model=\"text-davinci-003\",\n",
    "  prompt=\"Write a python function that inputs an image and returns a darker version of it.\",\n",
    "  max_tokens=200,\n",
    ")\n",
    "\n",
    "for choice in response[\"choices\"]:\n",
    "  print(choice[\"text\"])"
   ]
  },
  {
   "cell_type": "code",
   "execution_count": 4,
   "metadata": {},
   "outputs": [],
   "source": [
    "# END"
   ]
  }
 ],
 "metadata": {
  "kernelspec": {
   "display_name": "Python 3",
   "language": "python",
   "name": "python3"
  },
  "language_info": {
   "codemirror_mode": {
    "name": "ipython",
    "version": 3
   },
   "file_extension": ".py",
   "mimetype": "text/x-python",
   "name": "python",
   "nbconvert_exporter": "python",
   "pygments_lexer": "ipython3",
   "version": "3.9.13"
  },
  "orig_nbformat": 4
 },
 "nbformat": 4,
 "nbformat_minor": 2
}
