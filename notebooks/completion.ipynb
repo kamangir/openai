{
 "cells": [
  {
   "attachments": {},
   "cell_type": "markdown",
   "metadata": {},
   "source": [
    "# [OpenAI completion](../openai_cli/completion/api.py)"
   ]
  },
  {
   "cell_type": "code",
   "execution_count": 1,
   "metadata": {},
   "outputs": [
    {
     "name": "stderr",
     "output_type": "stream",
     "text": [
      "using openai_cli-2.100.1.\n"
     ]
    }
   ],
   "source": [
    "from openai_cli import NAME, VERSION\n",
    "from openai_cli.completion.api import complete_prompt\n",
    "import abcli.logging\n",
    "import logging\n",
    "\n",
    "logger = logging.getLogger()\n",
    "\n",
    "logger.info(f\"using {NAME}-{VERSION}.\")"
   ]
  },
  {
   "cell_type": "code",
   "execution_count": 2,
   "metadata": {},
   "outputs": [
    {
     "name": "stderr",
     "output_type": "stream",
     "text": [
      "message='Request to OpenAI API' method=post path=https://api.openai.com/v1/completions\n",
      "message='OpenAI API response' path=https://api.openai.com/v1/completions processing_ms=2144 request_id=577071035c63e9f66569c0a48b804b5c response_code=200\n",
      "openai-cli.complete(): finish_reason: stop.\n",
      "{'response': <OpenAIObject text_completion id=cmpl-7TjxUGpJyQn8l3nhhlFcbBHqnEvyV at 0x11b055180> JSON: {\n",
      "  \"choices\": [\n",
      "    {\n",
      "      \"finish_reason\": \"stop\",\n",
      "      \"index\": 0,\n",
      "      \"logprobs\": null,\n",
      "      \"text\": \"\\n\\n\\\"Cafe with a View: Enjoy Vancouver's Fresh Air and Cuisine!\\\"\"\n",
      "    }\n",
      "  ],\n",
      "  \"created\": 1687322532,\n",
      "  \"id\": \"cmpl-7TjxUGpJyQn8l3nhhlFcbBHqnEvyV\",\n",
      "  \"model\": \"text-davinci-003\",\n",
      "  \"object\": \"text_completion\",\n",
      "  \"usage\": {\n",
      "    \"completion_tokens\": 18,\n",
      "    \"prompt_tokens\": 9,\n",
      "    \"total_tokens\": 27\n",
      "  }\n",
      "}, 'status': 'choice: stop'}\n"
     ]
    }
   ],
   "source": [
    "success, text, metadata = complete_prompt(\"Write a tag line for an cafe in Vancouver\")\n",
    "assert success\n",
    "logger.info(metadata)"
   ]
  },
  {
   "cell_type": "code",
   "execution_count": 3,
   "metadata": {},
   "outputs": [],
   "source": [
    "# END"
   ]
  }
 ],
 "metadata": {
  "kernelspec": {
   "display_name": "Python 3",
   "language": "python",
   "name": "python3"
  },
  "language_info": {
   "codemirror_mode": {
    "name": "ipython",
    "version": 3
   },
   "file_extension": ".py",
   "mimetype": "text/x-python",
   "name": "python",
   "nbconvert_exporter": "python",
   "pygments_lexer": "ipython3",
   "version": "3.9.13"
  },
  "orig_nbformat": 4
 },
 "nbformat": 4,
 "nbformat_minor": 2
}
