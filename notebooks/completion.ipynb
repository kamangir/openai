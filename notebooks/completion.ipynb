{
 "cells": [
  {
   "attachments": {},
   "cell_type": "markdown",
   "metadata": {},
   "source": [
    "# [OpenAI completion](../openai_cli/completion/api.py)"
   ]
  },
  {
   "cell_type": "code",
   "execution_count": 1,
   "metadata": {},
   "outputs": [
    {
     "name": "stderr",
     "output_type": "stream",
     "text": [
      "using openai_cli-2.113.1.\n"
     ]
    }
   ],
   "source": [
    "from openai_cli import NAME, VERSION\n",
    "from openai_cli.completion.api import complete_prompt\n",
    "import abcli.logging\n",
    "import logging\n",
    "\n",
    "logger = logging.getLogger()\n",
    "\n",
    "logger.info(f\"using {NAME}-{VERSION}.\")"
   ]
  },
  {
   "cell_type": "code",
   "execution_count": 2,
   "metadata": {},
   "outputs": [
    {
     "name": "stderr",
     "output_type": "stream",
     "text": [
      "message='Request to OpenAI API' method=post path=https://api.openai.com/v1/completions\n",
      "message='OpenAI API response' path=https://api.openai.com/v1/completions processing_ms=1316 request_id=8aecfd5b4b94e868612176e7139cc8d4 response_code=200\n",
      "response: {\n",
      "  \"choices\": [\n",
      "    {\n",
      "      \"finish_reason\": \"stop\",\n",
      "      \"index\": 0,\n",
      "      \"logprobs\": null,\n",
      "      \"text\": \"\\n\\nExperience the world and see what it has to offer - travel to a foreign country now!\"\n",
      "    }\n",
      "  ],\n",
      "  \"created\": 1687689937,\n",
      "  \"id\": \"cmpl-7VHXN4QzRAT6vA2BNaCUcveMaDSOu\",\n",
      "  \"model\": \"text-davinci-003\",\n",
      "  \"object\": \"text_completion\",\n",
      "  \"usage\": {\n",
      "    \"completion_tokens\": 20,\n",
      "    \"prompt_tokens\": 19,\n",
      "    \"total_tokens\": 39\n",
      "  }\n",
      "}\n",
      "openai-cli.complete(): finish_reason: stop.\n"
     ]
    }
   ],
   "source": [
    "success, text, _ = complete_prompt(\"write a short sentence to convince your audience to travel to a foreign country as soon as possible.\")\n",
    "assert success"
   ]
  },
  {
   "cell_type": "code",
   "execution_count": 3,
   "metadata": {},
   "outputs": [
    {
     "name": "stderr",
     "output_type": "stream",
     "text": [
      "text: \n",
      "\n",
      "Experience the world and see what it has to offer - travel to a foreign country now!\n"
     ]
    }
   ],
   "source": [
    "logger.info(f\"text: {text}\")"
   ]
  },
  {
   "cell_type": "code",
   "execution_count": 4,
   "metadata": {},
   "outputs": [],
   "source": [
    "# END"
   ]
  }
 ],
 "metadata": {
  "kernelspec": {
   "display_name": "Python 3",
   "language": "python",
   "name": "python3"
  },
  "language_info": {
   "codemirror_mode": {
    "name": "ipython",
    "version": 3
   },
   "file_extension": ".py",
   "mimetype": "text/x-python",
   "name": "python",
   "nbconvert_exporter": "python",
   "pygments_lexer": "ipython3",
   "version": "3.9.13"
  },
  "orig_nbformat": 4
 },
 "nbformat": 4,
 "nbformat_minor": 2
}
