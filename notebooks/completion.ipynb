{
 "cells": [
  {
   "cell_type": "code",
   "execution_count": 1,
   "metadata": {},
   "outputs": [
    {
     "name": "stderr",
     "output_type": "stream",
     "text": [
      "using openai_cli-2.87.1.\n"
     ]
    }
   ],
   "source": [
    "import os\n",
    "from abcli import file\n",
    "from openai_cli import NAME, VERSION\n",
    "from openai_cli.completion.functions import complete_prompt\n",
    "from openai_cli.completion.classes import ai_function\n",
    "import matplotlib.pyplot as plt\n",
    "import abcli.logging\n",
    "import logging\n",
    "\n",
    "logger = logging.getLogger()\n",
    "\n",
    "logger.info(f\"using {NAME}-{VERSION}.\")"
   ]
  },
  {
   "cell_type": "code",
   "execution_count": 2,
   "metadata": {},
   "outputs": [],
   "source": [
    "input_image = file.load_image(\n",
    "    os.path.join(\n",
    "        os.getenv(\"HOME\",\"\"),\n",
    "        \"git/blue-bracket/images/portal-34.jpg\")\n",
    "        )[1]"
   ]
  },
  {
   "cell_type": "code",
   "execution_count": 4,
   "metadata": {},
   "outputs": [
    {
     "name": "stderr",
     "output_type": "stream",
     "text": [
      "ai_function.prompt=Write a python function named ai_function_64350316\n",
      "that inputs an image as a numpy array\n",
      "and does not run a for loop on the pixels and\n",
      "uses numpy vector functions and\n",
      "imports all modules that are used in the code\n",
      "and returns a darker version of the input image\n"
     ]
    }
   ],
   "source": [
    "func = ai_function(\n",
    "    inputs = [\"an image as a numpy array\"],\n",
    "    returns = [\"a darker version of the input image\"],\n",
    "    requirements = [\n",
    "        \"does not run a for loop on the pixels\",\n",
    "        \"uses numpy vector functions\",\n",
    "        \"imports all modules that are used in the code\"\n",
    "    ],\n",
    "    output_class_name=\"ndarray\",\n",
    "    verbose=False,\n",
    ")"
   ]
  },
  {
   "cell_type": "code",
   "execution_count": null,
   "metadata": {},
   "outputs": [],
   "source": [
    "assert func.generate(validation_input = input_image)"
   ]
  },
  {
   "cell_type": "code",
   "execution_count": null,
   "metadata": {},
   "outputs": [],
   "source": [
    "\n",
    "image_output = func.compute(input_image)\n",
    "assert image_output is not None"
   ]
  },
  {
   "cell_type": "code",
   "execution_count": null,
   "metadata": {},
   "outputs": [],
   "source": [
    "fig, axes = plt.subplots(1, 2, figsize=(10, 5))\n",
    "axes[0].imshow(input_image)\n",
    "axes[0].axis('off') \n",
    "axes[0].set_title(\"input image\")\n",
    "\n",
    "axes[1].imshow(image_output)\n",
    "axes[1].axis('off')\n",
    "axes[1].set_title(\"output image\")\n",
    "\n",
    "# Adjust the spacing between subplots\n",
    "plt.subplots_adjust(wspace=0.1)\n",
    "plt.show()"
   ]
  },
  {
   "cell_type": "code",
   "execution_count": null,
   "metadata": {},
   "outputs": [],
   "source": [
    "# END"
   ]
  }
 ],
 "metadata": {
  "kernelspec": {
   "display_name": "Python 3",
   "language": "python",
   "name": "python3"
  },
  "language_info": {
   "codemirror_mode": {
    "name": "ipython",
    "version": 3
   },
   "file_extension": ".py",
   "mimetype": "text/x-python",
   "name": "python",
   "nbconvert_exporter": "python",
   "pygments_lexer": "ipython3",
   "version": "3.9.13"
  },
  "orig_nbformat": 4
 },
 "nbformat": 4,
 "nbformat_minor": 2
}
