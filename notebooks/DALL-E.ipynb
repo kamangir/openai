{
 "cells": [
  {
   "attachments": {},
   "cell_type": "markdown",
   "metadata": {},
   "source": [
    "# [DALL-E](../openai_cli/DALLE/)"
   ]
  },
  {
   "cell_type": "code",
   "execution_count": 18,
   "metadata": {},
   "outputs": [],
   "source": [
    "# ! pip3 install git+https://github.com/kamangir/awesome-bash-cli.git@current#egg=abcli"
   ]
  },
  {
   "cell_type": "code",
   "execution_count": 19,
   "metadata": {},
   "outputs": [
    {
     "name": "stderr",
     "output_type": "stream",
     "text": [
      "🛠️  using openai_commands-3.4.1-abcli-8.213.1.\n"
     ]
    }
   ],
   "source": [
    "from tqdm import tqdm\n",
    "from IPython.display import display, clear_output\n",
    "from abcli.modules import objects\n",
    "from abcli import fullname\n",
    "from articraft.html.functions import ingest_poetry_from_url\n",
    "from openai_commands import NAME, VERSION\n",
    "from openai_commands.DALLE.canvas import Canvas\n",
    "from openai_commands.logger import logger\n",
    "\n",
    "logger.info(f\"using {NAME}-{VERSION}-{fullname()}.\")"
   ]
  },
  {
   "cell_type": "code",
   "execution_count": 20,
   "metadata": {},
   "outputs": [
    {
     "data": {
      "text/plain": [
       "True"
      ]
     },
     "execution_count": 20,
     "metadata": {},
     "output_type": "execute_result"
    }
   ],
   "source": [
    "from abcli.modules import host\n",
    "host.is_jupyter()"
   ]
  },
  {
   "cell_type": "code",
   "execution_count": 21,
   "metadata": {},
   "outputs": [],
   "source": [
    "validation = False\n",
    "brush_size = 256\n",
    "\n",
    "url = \"https://www.poetryfoundation.org/poems/45502/the-red-wheelbarrow\""
   ]
  },
  {
   "cell_type": "code",
   "execution_count": 22,
   "metadata": {},
   "outputs": [
    {
     "name": "stderr",
     "output_type": "stream",
     "text": [
      "🎨  https://www.poetryfoundation.org/poems/45502/the-red-wheelbarrow:0-0\n",
      "The Red Wheelbarrow @ www.poetryfoundation.org: 8 line(s):\n",
      "so much depends\n",
      "upon\n",
      "a red wheel\n",
      "barrow\n",
      "glazed with rain\n",
      "water\n",
      "beside the white\n",
      "chickens\n"
     ]
    }
   ],
   "source": [
    "_, content = ingest_poetry_from_url(url)"
   ]
  },
  {
   "cell_type": "code",
   "execution_count": 23,
   "metadata": {},
   "outputs": [
    {
     "name": "stderr",
     "output_type": "stream",
     "text": [
      "🛠️  DALL-E Canvas(25000x25000): not allocated\n",
      "100%|██████████| 9/9 [00:00<00:00, 114.20it/s]\n",
      "🛠️  Canvas.shape: 9 line(s) @ tiling x 256: 600x970\n"
     ]
    }
   ],
   "source": [
    "shape = Canvas.shape(\n",
    "    content, \n",
    "    brush_size=brush_size)"
   ]
  },
  {
   "cell_type": "code",
   "execution_count": 24,
   "metadata": {},
   "outputs": [
    {
     "name": "stderr",
     "output_type": "stream",
     "text": [
      "🛠️  DALL-E Canvas(25000x25000): not allocated\n",
      "100%|██████████| 9/9 [00:00<00:00, 103.03it/s]\n",
      "🛠️  Canvas.shape: 9 line(s) @ tiling x 256: 600x970\n",
      "🛠️  DALL-E Canvas(600x970): allocated\n"
     ]
    }
   ],
   "source": [
    "canvas = Canvas(\n",
    "    content=content,\n",
    "    verbose=True,\n",
    "    source=url,\n",
    "    brush_size=brush_size)"
   ]
  },
  {
   "cell_type": "code",
   "execution_count": 25,
   "metadata": {},
   "outputs": [
    {
     "name": "stderr",
     "output_type": "stream",
     "text": [
      "🛠️  Canvas.render_text: 9 line(s).\n",
      "  0%|          | 0/9 [00:00<?, ?it/s]🛠️  DALL-E: The Red Wheelbarrow\n",
      "❗️ :: crash: openai_commands: paint(The Red Wheelbarrow)\n",
      "Traceback (most recent call last):\n",
      "  File \"/Users/kamangir/git/openai-commands/openai_commands/DALLE/canvas.py\", line 136, in paint\n",
      "    if not self.dryrun:\n",
      "  File \"/Users/kamangir/opt/miniconda3/envs/openai/lib/python3.9/site-packages/openai/_utils/_proxy.py\", line 22, in __getattr__\n",
      "    return getattr(self.__get_proxied__(), attr)\n",
      "  File \"/Users/kamangir/opt/miniconda3/envs/openai/lib/python3.9/site-packages/openai/_utils/_proxy.py\", line 43, in __get_proxied__\n",
      "    return self.__load__()\n",
      "  File \"/Users/kamangir/opt/miniconda3/envs/openai/lib/python3.9/site-packages/openai/lib/_old_api.py\", line 33, in __load__\n",
      "    raise APIRemovedInV1(symbol=self._symbol)\n",
      "openai.lib._old_api.APIRemovedInV1: \n",
      "\n",
      "You tried to access openai.Image, but this is no longer supported in openai>=1.0.0 - see the README at https://github.com/openai/openai-python for the API.\n",
      "\n",
      "You can run `openai migrate` to automatically upgrade your codebase to use the 1.0.0 interface. \n",
      "\n",
      "Alternatively, you can pin your installation to the old version, e.g. `pip install openai==0.28`\n",
      "\n",
      "A detailed migration guide is available here: https://github.com/openai/openai-python/discussions/742\n",
      "\n",
      "🛠️  TilingBrush: ring:1 @ 0.00 deg\n",
      "🛠️  Canvas -> /Users/kamangir/storage/abcli/DALL-E.png\n",
      "🛠️  DALL-E: so much depends\n",
      "❗️ :: crash: openai_commands: paint(so much depends)\n",
      "Traceback (most recent call last):\n",
      "  File \"/Users/kamangir/git/openai-commands/openai_commands/DALLE/canvas.py\", line 136, in paint\n",
      "    if not self.dryrun:\n",
      "  File \"/Users/kamangir/opt/miniconda3/envs/openai/lib/python3.9/site-packages/openai/_utils/_proxy.py\", line 22, in __getattr__\n",
      "    return getattr(self.__get_proxied__(), attr)\n",
      "  File \"/Users/kamangir/opt/miniconda3/envs/openai/lib/python3.9/site-packages/openai/_utils/_proxy.py\", line 43, in __get_proxied__\n",
      "    return self.__load__()\n",
      "  File \"/Users/kamangir/opt/miniconda3/envs/openai/lib/python3.9/site-packages/openai/lib/_old_api.py\", line 33, in __load__\n",
      "    raise APIRemovedInV1(symbol=self._symbol)\n",
      "openai.lib._old_api.APIRemovedInV1: \n",
      "\n",
      "You tried to access openai.Image, but this is no longer supported in openai>=1.0.0 - see the README at https://github.com/openai/openai-python for the API.\n",
      "\n",
      "You can run `openai migrate` to automatically upgrade your codebase to use the 1.0.0 interface. \n",
      "\n",
      "Alternatively, you can pin your installation to the old version, e.g. `pip install openai==0.28`\n",
      "\n",
      "A detailed migration guide is available here: https://github.com/openai/openai-python/discussions/742\n",
      "\n",
      "🛠️  TilingBrush: ring:1 @ 60.00 deg\n",
      "🛠️  Canvas -> /Users/kamangir/storage/abcli/DALL-E.png\n",
      "🛠️  DALL-E: upon\n",
      "❗️ :: crash: openai_commands: paint(upon)\n",
      "Traceback (most recent call last):\n",
      "  File \"/Users/kamangir/git/openai-commands/openai_commands/DALLE/canvas.py\", line 136, in paint\n",
      "    if not self.dryrun:\n",
      "  File \"/Users/kamangir/opt/miniconda3/envs/openai/lib/python3.9/site-packages/openai/_utils/_proxy.py\", line 22, in __getattr__\n",
      "    return getattr(self.__get_proxied__(), attr)\n",
      "  File \"/Users/kamangir/opt/miniconda3/envs/openai/lib/python3.9/site-packages/openai/_utils/_proxy.py\", line 43, in __get_proxied__\n",
      "    return self.__load__()\n",
      "  File \"/Users/kamangir/opt/miniconda3/envs/openai/lib/python3.9/site-packages/openai/lib/_old_api.py\", line 33, in __load__\n",
      "    raise APIRemovedInV1(symbol=self._symbol)\n",
      "openai.lib._old_api.APIRemovedInV1: \n",
      "\n",
      "You tried to access openai.Image, but this is no longer supported in openai>=1.0.0 - see the README at https://github.com/openai/openai-python for the API.\n",
      "\n",
      "You can run `openai migrate` to automatically upgrade your codebase to use the 1.0.0 interface. \n",
      "\n",
      "Alternatively, you can pin your installation to the old version, e.g. `pip install openai==0.28`\n",
      "\n",
      "A detailed migration guide is available here: https://github.com/openai/openai-python/discussions/742\n",
      "\n",
      "🛠️  TilingBrush: ring:1 @ 120.00 deg\n",
      "🛠️  Canvas -> /Users/kamangir/storage/abcli/DALL-E.png\n",
      " 33%|███▎      | 3/9 [00:00<00:00, 14.09it/s]🛠️  DALL-E: a red wheel\n",
      "❗️ :: crash: openai_commands: paint(a red wheel)\n",
      "Traceback (most recent call last):\n",
      "  File \"/Users/kamangir/git/openai-commands/openai_commands/DALLE/canvas.py\", line 136, in paint\n",
      "    if not self.dryrun:\n",
      "  File \"/Users/kamangir/opt/miniconda3/envs/openai/lib/python3.9/site-packages/openai/_utils/_proxy.py\", line 22, in __getattr__\n",
      "    return getattr(self.__get_proxied__(), attr)\n",
      "  File \"/Users/kamangir/opt/miniconda3/envs/openai/lib/python3.9/site-packages/openai/_utils/_proxy.py\", line 43, in __get_proxied__\n",
      "    return self.__load__()\n",
      "  File \"/Users/kamangir/opt/miniconda3/envs/openai/lib/python3.9/site-packages/openai/lib/_old_api.py\", line 33, in __load__\n",
      "    raise APIRemovedInV1(symbol=self._symbol)\n",
      "openai.lib._old_api.APIRemovedInV1: \n",
      "\n",
      "You tried to access openai.Image, but this is no longer supported in openai>=1.0.0 - see the README at https://github.com/openai/openai-python for the API.\n",
      "\n",
      "You can run `openai migrate` to automatically upgrade your codebase to use the 1.0.0 interface. \n",
      "\n",
      "Alternatively, you can pin your installation to the old version, e.g. `pip install openai==0.28`\n",
      "\n",
      "A detailed migration guide is available here: https://github.com/openai/openai-python/discussions/742\n",
      "\n",
      "🛠️  TilingBrush: ring:1 @ 180.00 deg\n",
      "🛠️  Canvas -> /Users/kamangir/storage/abcli/DALL-E.png\n",
      "🛠️  DALL-E: barrow\n",
      "❗️ :: crash: openai_commands: paint(barrow)\n",
      "Traceback (most recent call last):\n",
      "  File \"/Users/kamangir/git/openai-commands/openai_commands/DALLE/canvas.py\", line 136, in paint\n",
      "    if not self.dryrun:\n",
      "  File \"/Users/kamangir/opt/miniconda3/envs/openai/lib/python3.9/site-packages/openai/_utils/_proxy.py\", line 22, in __getattr__\n",
      "    return getattr(self.__get_proxied__(), attr)\n",
      "  File \"/Users/kamangir/opt/miniconda3/envs/openai/lib/python3.9/site-packages/openai/_utils/_proxy.py\", line 43, in __get_proxied__\n",
      "    return self.__load__()\n",
      "  File \"/Users/kamangir/opt/miniconda3/envs/openai/lib/python3.9/site-packages/openai/lib/_old_api.py\", line 33, in __load__\n",
      "    raise APIRemovedInV1(symbol=self._symbol)\n",
      "openai.lib._old_api.APIRemovedInV1: \n",
      "\n",
      "You tried to access openai.Image, but this is no longer supported in openai>=1.0.0 - see the README at https://github.com/openai/openai-python for the API.\n",
      "\n",
      "You can run `openai migrate` to automatically upgrade your codebase to use the 1.0.0 interface. \n",
      "\n",
      "Alternatively, you can pin your installation to the old version, e.g. `pip install openai==0.28`\n",
      "\n",
      "A detailed migration guide is available here: https://github.com/openai/openai-python/discussions/742\n",
      "\n",
      "🛠️  TilingBrush: ring:1 @ 240.00 deg\n",
      "🛠️  Canvas -> /Users/kamangir/storage/abcli/DALL-E.png\n",
      " 56%|█████▌    | 5/9 [00:00<00:00, 16.35it/s]🛠️  DALL-E: glazed with rain\n",
      "❗️ :: crash: openai_commands: paint(glazed with rain)\n",
      "Traceback (most recent call last):\n",
      "  File \"/Users/kamangir/git/openai-commands/openai_commands/DALLE/canvas.py\", line 136, in paint\n",
      "    if not self.dryrun:\n",
      "  File \"/Users/kamangir/opt/miniconda3/envs/openai/lib/python3.9/site-packages/openai/_utils/_proxy.py\", line 22, in __getattr__\n",
      "    return getattr(self.__get_proxied__(), attr)\n",
      "  File \"/Users/kamangir/opt/miniconda3/envs/openai/lib/python3.9/site-packages/openai/_utils/_proxy.py\", line 43, in __get_proxied__\n",
      "    return self.__load__()\n",
      "  File \"/Users/kamangir/opt/miniconda3/envs/openai/lib/python3.9/site-packages/openai/lib/_old_api.py\", line 33, in __load__\n",
      "    raise APIRemovedInV1(symbol=self._symbol)\n",
      "openai.lib._old_api.APIRemovedInV1: \n",
      "\n",
      "You tried to access openai.Image, but this is no longer supported in openai>=1.0.0 - see the README at https://github.com/openai/openai-python for the API.\n",
      "\n",
      "You can run `openai migrate` to automatically upgrade your codebase to use the 1.0.0 interface. \n",
      "\n",
      "Alternatively, you can pin your installation to the old version, e.g. `pip install openai==0.28`\n",
      "\n",
      "A detailed migration guide is available here: https://github.com/openai/openai-python/discussions/742\n",
      "\n",
      "🛠️  TilingBrush: ring:1 @ 300.00 deg\n",
      "🛠️  Canvas -> /Users/kamangir/storage/abcli/DALL-E.png\n",
      "🛠️  DALL-E: water\n",
      "❗️ :: crash: openai_commands: paint(water)\n",
      "Traceback (most recent call last):\n",
      "  File \"/Users/kamangir/git/openai-commands/openai_commands/DALLE/canvas.py\", line 136, in paint\n",
      "    if not self.dryrun:\n",
      "  File \"/Users/kamangir/opt/miniconda3/envs/openai/lib/python3.9/site-packages/openai/_utils/_proxy.py\", line 22, in __getattr__\n",
      "    return getattr(self.__get_proxied__(), attr)\n",
      "  File \"/Users/kamangir/opt/miniconda3/envs/openai/lib/python3.9/site-packages/openai/_utils/_proxy.py\", line 43, in __get_proxied__\n",
      "    return self.__load__()\n",
      "  File \"/Users/kamangir/opt/miniconda3/envs/openai/lib/python3.9/site-packages/openai/lib/_old_api.py\", line 33, in __load__\n",
      "    raise APIRemovedInV1(symbol=self._symbol)\n",
      "openai.lib._old_api.APIRemovedInV1: \n",
      "\n",
      "You tried to access openai.Image, but this is no longer supported in openai>=1.0.0 - see the README at https://github.com/openai/openai-python for the API.\n",
      "\n",
      "You can run `openai migrate` to automatically upgrade your codebase to use the 1.0.0 interface. \n",
      "\n",
      "Alternatively, you can pin your installation to the old version, e.g. `pip install openai==0.28`\n",
      "\n",
      "A detailed migration guide is available here: https://github.com/openai/openai-python/discussions/742\n",
      "\n",
      "🛠️  TilingBrush: ring:2 @ 0.00 deg\n",
      "🛠️  Canvas -> /Users/kamangir/storage/abcli/DALL-E.png\n",
      "🛠️  DALL-E: beside the white\n",
      "❗️ :: crash: openai_commands: paint(beside the white)\n",
      "Traceback (most recent call last):\n",
      "  File \"/Users/kamangir/git/openai-commands/openai_commands/DALLE/canvas.py\", line 136, in paint\n",
      "    if not self.dryrun:\n",
      "  File \"/Users/kamangir/opt/miniconda3/envs/openai/lib/python3.9/site-packages/openai/_utils/_proxy.py\", line 22, in __getattr__\n",
      "    return getattr(self.__get_proxied__(), attr)\n",
      "  File \"/Users/kamangir/opt/miniconda3/envs/openai/lib/python3.9/site-packages/openai/_utils/_proxy.py\", line 43, in __get_proxied__\n",
      "    return self.__load__()\n",
      "  File \"/Users/kamangir/opt/miniconda3/envs/openai/lib/python3.9/site-packages/openai/lib/_old_api.py\", line 33, in __load__\n",
      "    raise APIRemovedInV1(symbol=self._symbol)\n",
      "openai.lib._old_api.APIRemovedInV1: \n",
      "\n",
      "You tried to access openai.Image, but this is no longer supported in openai>=1.0.0 - see the README at https://github.com/openai/openai-python for the API.\n",
      "\n",
      "You can run `openai migrate` to automatically upgrade your codebase to use the 1.0.0 interface. \n",
      "\n",
      "Alternatively, you can pin your installation to the old version, e.g. `pip install openai==0.28`\n",
      "\n",
      "A detailed migration guide is available here: https://github.com/openai/openai-python/discussions/742\n",
      "\n",
      "🛠️  TilingBrush: ring:2 @ 28.96 deg\n",
      "🛠️  Canvas -> /Users/kamangir/storage/abcli/DALL-E.png\n",
      " 89%|████████▉ | 8/9 [00:00<00:00, 18.56it/s]🛠️  DALL-E: chickens\n",
      "❗️ :: crash: openai_commands: paint(chickens)\n",
      "Traceback (most recent call last):\n",
      "  File \"/Users/kamangir/git/openai-commands/openai_commands/DALLE/canvas.py\", line 136, in paint\n",
      "    if not self.dryrun:\n",
      "  File \"/Users/kamangir/opt/miniconda3/envs/openai/lib/python3.9/site-packages/openai/_utils/_proxy.py\", line 22, in __getattr__\n",
      "    return getattr(self.__get_proxied__(), attr)\n",
      "  File \"/Users/kamangir/opt/miniconda3/envs/openai/lib/python3.9/site-packages/openai/_utils/_proxy.py\", line 43, in __get_proxied__\n",
      "    return self.__load__()\n",
      "  File \"/Users/kamangir/opt/miniconda3/envs/openai/lib/python3.9/site-packages/openai/lib/_old_api.py\", line 33, in __load__\n",
      "    raise APIRemovedInV1(symbol=self._symbol)\n",
      "openai.lib._old_api.APIRemovedInV1: \n",
      "\n",
      "You tried to access openai.Image, but this is no longer supported in openai>=1.0.0 - see the README at https://github.com/openai/openai-python for the API.\n",
      "\n",
      "You can run `openai migrate` to automatically upgrade your codebase to use the 1.0.0 interface. \n",
      "\n",
      "Alternatively, you can pin your installation to the old version, e.g. `pip install openai==0.28`\n",
      "\n",
      "A detailed migration guide is available here: https://github.com/openai/openai-python/discussions/742\n",
      "\n",
      "🛠️  TilingBrush: ring:2 @ 57.91 deg\n",
      "🛠️  Canvas -> /Users/kamangir/storage/abcli/DALL-E.png\n",
      "100%|██████████| 9/9 [00:00<00:00, 17.73it/s]\n",
      "🛠️  Canvas -> /Users/kamangir/storage/abcli/DALL-E.png\n"
     ]
    }
   ],
   "source": [
    "canvas.render_text(\n",
    "    canvas.create_brush(brush_size=brush_size),\n",
    "    content[: 3] if validation else content,\n",
    "    objects.path_of(\"DALL-E.png\"),\n",
    ");"
   ]
  },
  {
   "attachments": {},
   "cell_type": "markdown",
   "metadata": {},
   "source": [
    "```bash\n",
    "aiart package publish\n",
    "```"
   ]
  },
  {
   "attachments": {},
   "cell_type": "markdown",
   "metadata": {},
   "source": [
    "---"
   ]
  },
  {
   "cell_type": "code",
   "execution_count": 26,
   "metadata": {},
   "outputs": [],
   "source": [
    "# END"
   ]
  }
 ],
 "metadata": {
  "kernelspec": {
   "display_name": "Python 3 (ipykernel)",
   "language": "python",
   "name": "python3"
  },
  "language_info": {
   "codemirror_mode": {
    "name": "ipython",
    "version": 3
   },
   "file_extension": ".py",
   "mimetype": "text/x-python",
   "name": "python",
   "nbconvert_exporter": "python",
   "pygments_lexer": "ipython3",
   "version": "3.9.18"
  },
  "toc": {
   "base_numbering": 1,
   "nav_menu": {},
   "number_sections": true,
   "sideBar": true,
   "skip_h1_title": false,
   "title_cell": "Table of Contents",
   "title_sidebar": "Contents",
   "toc_cell": false,
   "toc_position": {},
   "toc_section_display": true,
   "toc_window_display": false
  },
  "vscode": {
   "interpreter": {
    "hash": "aee8b7b246df8f9039afb4144a1f6fd8d2ca17a180786b69acc140d282b71a49"
   }
  }
 },
 "nbformat": 4,
 "nbformat_minor": 2
}
