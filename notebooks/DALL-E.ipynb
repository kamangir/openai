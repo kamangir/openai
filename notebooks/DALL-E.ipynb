{
 "cells": [
  {
   "attachments": {},
   "cell_type": "markdown",
   "metadata": {},
   "source": [
    "# [DALL-E](../openai_cli/DALLE/)"
   ]
  },
  {
   "cell_type": "code",
   "execution_count": 1,
   "metadata": {},
   "outputs": [
    {
     "name": "stdout",
     "output_type": "stream",
     "text": [
      "Collecting abcli\n",
      "  Cloning https://github.com/kamangir/awesome-bash-cli.git (to revision current) to /private/var/folders/0z/ks1j56js1qg29vxv6vtwtcjw0000gp/T/pip-install-_kf_9cus/abcli_fbd6ffa8af07411db64a93510a32e55d\n",
      "  Running command git clone --filter=blob:none --quiet https://github.com/kamangir/awesome-bash-cli.git /private/var/folders/0z/ks1j56js1qg29vxv6vtwtcjw0000gp/T/pip-install-_kf_9cus/abcli_fbd6ffa8af07411db64a93510a32e55d\n",
      "  Resolved https://github.com/kamangir/awesome-bash-cli.git to commit ce103c932cd97d6226c76a29c823c64dce1c0f0f\n",
      "  Preparing metadata (setup.py) ... \u001b[?25ldone\n",
      "\u001b[?25hBuilding wheels for collected packages: abcli\n",
      "  Building wheel for abcli (setup.py) ... \u001b[?25ldone\n",
      "\u001b[?25h  Created wheel for abcli: filename=abcli-7.2815.1-py3-none-any.whl size=38209 sha256=ed90e73688bacec5d6952ab0c42ed548869926c1cfaea20b9cf91596180acf75\n",
      "  Stored in directory: /private/var/folders/0z/ks1j56js1qg29vxv6vtwtcjw0000gp/T/pip-ephem-wheel-cache-kcek0por/wheels/71/bb/5b/474b92aa884c87975260eef2ef8340f97329778a9fb3dba57d\n",
      "Successfully built abcli\n",
      "Installing collected packages: abcli\n",
      "  Attempting uninstall: abcli\n",
      "    Found existing installation: abcli 7.2806.1\n",
      "    Uninstalling abcli-7.2806.1:\n",
      "      Successfully uninstalled abcli-7.2806.1\n",
      "Successfully installed abcli-7.2815.1\n"
     ]
    }
   ],
   "source": [
    "# ! pip3 install git+https://github.com/kamangir/awesome-bash-cli.git@current#egg=abcli"
   ]
  },
  {
   "cell_type": "code",
   "execution_count": 1,
   "metadata": {},
   "outputs": [
    {
     "name": "stderr",
     "output_type": "stream",
     "text": [
      "Found credentials in shared credentials file: ~/.aws/credentials\n",
      "using openai_cli-2.187.1-abcli-7.2542.1-unknown.\n"
     ]
    }
   ],
   "source": [
    "from tqdm import tqdm\n",
    "from IPython.display import display, clear_output\n",
    "from abcli.modules import objects\n",
    "from abcli import fullname\n",
    "from aiart import html\n",
    "from openai_cli import NAME, VERSION\n",
    "from openai_cli.DALLE.canvas import Canvas\n",
    "from openai_cli.logger import logger\n",
    "\n",
    "logger.info(f\"using {NAME}-{VERSION}-{fullname()}.\")"
   ]
  },
  {
   "cell_type": "code",
   "execution_count": 2,
   "metadata": {},
   "outputs": [
    {
     "data": {
      "text/plain": [
       "True"
      ]
     },
     "execution_count": 2,
     "metadata": {},
     "output_type": "execute_result"
    }
   ],
   "source": [
    "from abcli.modules import host\n",
    "host.is_jupyter()"
   ]
  },
  {
   "cell_type": "code",
   "execution_count": 4,
   "metadata": {},
   "outputs": [],
   "source": [
    "validation = False\n",
    "brush_size = 256\n",
    "\n",
    "url = \"https://www.poetryfoundation.org/poems/45502/the-red-wheelbarrow\""
   ]
  },
  {
   "cell_type": "code",
   "execution_count": 5,
   "metadata": {},
   "outputs": [
    {
     "name": "stderr",
     "output_type": "stream",
     "text": [
      "https://www.poetryfoundation.org/poems/45502/the-red-wheelbarrow:0-0\n",
      "The Red Wheelbarrow @ www.poetryfoundation.org: 8 line(s):\n",
      "so much depends\n",
      "upon\n",
      "a red wheel\n",
      "barrow\n",
      "glazed with rain\n",
      "water\n",
      "beside the white\n",
      "chickens\n"
     ]
    }
   ],
   "source": [
    "_, content = html.ingest_poetry_from_url(url)"
   ]
  },
  {
   "cell_type": "code",
   "execution_count": 6,
   "metadata": {},
   "outputs": [
    {
     "name": "stderr",
     "output_type": "stream",
     "text": [
      "DALL-E Canvas(25000x25000): not allocated\n",
      "100%|██████████| 9/9 [00:00<00:00, 13.43it/s]\n",
      "Canvas.shape: 9 line(s) @ tiling x 256: 600x970\n"
     ]
    }
   ],
   "source": [
    "shape = Canvas.shape(\n",
    "    content, \n",
    "    brush_size=brush_size)"
   ]
  },
  {
   "cell_type": "code",
   "execution_count": 7,
   "metadata": {},
   "outputs": [
    {
     "name": "stderr",
     "output_type": "stream",
     "text": [
      "DALL-E Canvas(25000x25000): not allocated\n",
      "100%|██████████| 9/9 [00:00<00:00, 82.04it/s]\n",
      "Canvas.shape: 9 line(s) @ tiling x 256: 600x970\n",
      "DALL-E Canvas(600x970): allocated\n"
     ]
    }
   ],
   "source": [
    "canvas = Canvas(\n",
    "    content=content,\n",
    "    verbose=True,\n",
    "    source=url,\n",
    "    brush_size=brush_size)"
   ]
  },
  {
   "cell_type": "code",
   "execution_count": 8,
   "metadata": {},
   "outputs": [
    {
     "name": "stderr",
     "output_type": "stream",
     "text": [
      "Canvas.render_text: 9 line(s).\n",
      "  0%|          | 0/9 [00:00<?, ?it/s]DALL-E: The Red Wheelbarrow\n",
      "crash: openai_cli: paint(The Red Wheelbarrow)\n",
      "exception \n",
      "Traceback (most recent call last):\n",
      "  File \"/Users/kamangir/git/openai/openai_cli/DALLE/canvas.py\", line 139, in paint\n",
      "    response = openai.Image.create_edit(\n",
      "               ^^^^^^^^^^^^^^^^^^^^^^^^\n",
      "  File \"/usr/local/lib/python3.11/site-packages/openai/_utils/_proxy.py\", line 22, in __getattr__\n",
      "    return getattr(self.__get_proxied__(), attr)\n",
      "                   ^^^^^^^^^^^^^^^^^^^^^^\n",
      "  File \"/usr/local/lib/python3.11/site-packages/openai/_utils/_proxy.py\", line 43, in __get_proxied__\n",
      "    return self.__load__()\n",
      "           ^^^^^^^^^^^^^^^\n",
      "  File \"/usr/local/lib/python3.11/site-packages/openai/lib/_old_api.py\", line 33, in __load__\n",
      "    raise APIRemovedInV1(symbol=self._symbol)\n",
      "openai.lib._old_api.APIRemovedInV1: \n",
      "\n",
      "You tried to access openai.Image, but this is no longer supported in openai>=1.0.0 - see the README at https://github.com/openai/openai-python for the API.\n",
      "\n",
      "You can run `openai migrate` to automatically upgrade your codebase to use the 1.0.0 interface. \n",
      "\n",
      "Alternatively, you can pin your installation to the old version, e.g. `pip install openai==0.28`\n",
      "\n",
      "A detailed migration guide is available here: https://github.com/openai/openai-python/discussions/742\n",
      "\n",
      "TilingBrush: ring:1 @ 0.00 deg\n",
      "crash: -abcli.modules.host: get_name(): failed.\n",
      "exception \n",
      "Traceback (most recent call last):\n",
      "  File \"/Users/kamangir/git/awesome-bash-cli/abcli/modules/host/functions.py\", line 49, in get_name_\n",
      "    with open(\"/sys/firmware/devicetree/base/serial-number\", \"r\") as fp:\n",
      "         ^^^^^^^^^^^^^^^^^^^^^^^^^^^^^^^^^^^^^^^^^^^^^^^^^^^^^^^^\n",
      "FileNotFoundError: [Errno 2] No such file or directory: '/sys/firmware/devicetree/base/serial-number'\n",
      "Canvas -> /Users/kamangir/storage/abcli/DALL-E.png\n",
      " 11%|█         | 1/9 [00:02<00:19,  2.42s/it]DALL-E: so much depends\n",
      "crash: openai_cli: paint(so much depends)\n",
      "exception \n",
      "Traceback (most recent call last):\n",
      "  File \"/Users/kamangir/git/openai/openai_cli/DALLE/canvas.py\", line 139, in paint\n",
      "    response = openai.Image.create_edit(\n",
      "               ^^^^^^^^^^^^^^^^^^^^^^^^\n",
      "  File \"/usr/local/lib/python3.11/site-packages/openai/_utils/_proxy.py\", line 22, in __getattr__\n",
      "    return getattr(self.__get_proxied__(), attr)\n",
      "                   ^^^^^^^^^^^^^^^^^^^^^^\n",
      "  File \"/usr/local/lib/python3.11/site-packages/openai/_utils/_proxy.py\", line 43, in __get_proxied__\n",
      "    return self.__load__()\n",
      "           ^^^^^^^^^^^^^^^\n",
      "  File \"/usr/local/lib/python3.11/site-packages/openai/lib/_old_api.py\", line 33, in __load__\n",
      "    raise APIRemovedInV1(symbol=self._symbol)\n",
      "openai.lib._old_api.APIRemovedInV1: \n",
      "\n",
      "You tried to access openai.Image, but this is no longer supported in openai>=1.0.0 - see the README at https://github.com/openai/openai-python for the API.\n",
      "\n",
      "You can run `openai migrate` to automatically upgrade your codebase to use the 1.0.0 interface. \n",
      "\n",
      "Alternatively, you can pin your installation to the old version, e.g. `pip install openai==0.28`\n",
      "\n",
      "A detailed migration guide is available here: https://github.com/openai/openai-python/discussions/742\n",
      "\n",
      "TilingBrush: ring:1 @ 60.00 deg\n",
      "Canvas -> /Users/kamangir/storage/abcli/DALL-E.png\n",
      "DALL-E: upon\n",
      "crash: openai_cli: paint(upon)\n",
      "exception \n",
      "Traceback (most recent call last):\n",
      "  File \"/Users/kamangir/git/openai/openai_cli/DALLE/canvas.py\", line 139, in paint\n",
      "    response = openai.Image.create_edit(\n",
      "               ^^^^^^^^^^^^^^^^^^^^^^^^\n",
      "  File \"/usr/local/lib/python3.11/site-packages/openai/_utils/_proxy.py\", line 22, in __getattr__\n",
      "    return getattr(self.__get_proxied__(), attr)\n",
      "                   ^^^^^^^^^^^^^^^^^^^^^^\n",
      "  File \"/usr/local/lib/python3.11/site-packages/openai/_utils/_proxy.py\", line 43, in __get_proxied__\n",
      "    return self.__load__()\n",
      "           ^^^^^^^^^^^^^^^\n",
      "  File \"/usr/local/lib/python3.11/site-packages/openai/lib/_old_api.py\", line 33, in __load__\n",
      "    raise APIRemovedInV1(symbol=self._symbol)\n",
      "openai.lib._old_api.APIRemovedInV1: \n",
      "\n",
      "You tried to access openai.Image, but this is no longer supported in openai>=1.0.0 - see the README at https://github.com/openai/openai-python for the API.\n",
      "\n",
      "You can run `openai migrate` to automatically upgrade your codebase to use the 1.0.0 interface. \n",
      "\n",
      "Alternatively, you can pin your installation to the old version, e.g. `pip install openai==0.28`\n",
      "\n",
      "A detailed migration guide is available here: https://github.com/openai/openai-python/discussions/742\n",
      "\n",
      "TilingBrush: ring:1 @ 120.00 deg\n",
      "Canvas -> /Users/kamangir/storage/abcli/DALL-E.png\n",
      "DALL-E: a red wheel\n",
      "crash: openai_cli: paint(a red wheel)\n",
      "exception \n",
      "Traceback (most recent call last):\n",
      "  File \"/Users/kamangir/git/openai/openai_cli/DALLE/canvas.py\", line 139, in paint\n",
      "    response = openai.Image.create_edit(\n",
      "               ^^^^^^^^^^^^^^^^^^^^^^^^\n",
      "  File \"/usr/local/lib/python3.11/site-packages/openai/_utils/_proxy.py\", line 22, in __getattr__\n",
      "    return getattr(self.__get_proxied__(), attr)\n",
      "                   ^^^^^^^^^^^^^^^^^^^^^^\n",
      "  File \"/usr/local/lib/python3.11/site-packages/openai/_utils/_proxy.py\", line 43, in __get_proxied__\n",
      "    return self.__load__()\n",
      "           ^^^^^^^^^^^^^^^\n",
      "  File \"/usr/local/lib/python3.11/site-packages/openai/lib/_old_api.py\", line 33, in __load__\n",
      "    raise APIRemovedInV1(symbol=self._symbol)\n",
      "openai.lib._old_api.APIRemovedInV1: \n",
      "\n",
      "You tried to access openai.Image, but this is no longer supported in openai>=1.0.0 - see the README at https://github.com/openai/openai-python for the API.\n",
      "\n",
      "You can run `openai migrate` to automatically upgrade your codebase to use the 1.0.0 interface. \n",
      "\n",
      "Alternatively, you can pin your installation to the old version, e.g. `pip install openai==0.28`\n",
      "\n",
      "A detailed migration guide is available here: https://github.com/openai/openai-python/discussions/742\n",
      "\n",
      "TilingBrush: ring:1 @ 180.00 deg\n",
      "Canvas -> /Users/kamangir/storage/abcli/DALL-E.png\n",
      " 44%|████▍     | 4/9 [00:02<00:02,  2.01it/s]DALL-E: barrow\n",
      "crash: openai_cli: paint(barrow)\n",
      "exception \n",
      "Traceback (most recent call last):\n",
      "  File \"/Users/kamangir/git/openai/openai_cli/DALLE/canvas.py\", line 139, in paint\n",
      "    response = openai.Image.create_edit(\n",
      "               ^^^^^^^^^^^^^^^^^^^^^^^^\n",
      "  File \"/usr/local/lib/python3.11/site-packages/openai/_utils/_proxy.py\", line 22, in __getattr__\n",
      "    return getattr(self.__get_proxied__(), attr)\n",
      "                   ^^^^^^^^^^^^^^^^^^^^^^\n",
      "  File \"/usr/local/lib/python3.11/site-packages/openai/_utils/_proxy.py\", line 43, in __get_proxied__\n",
      "    return self.__load__()\n",
      "           ^^^^^^^^^^^^^^^\n",
      "  File \"/usr/local/lib/python3.11/site-packages/openai/lib/_old_api.py\", line 33, in __load__\n",
      "    raise APIRemovedInV1(symbol=self._symbol)\n",
      "openai.lib._old_api.APIRemovedInV1: \n",
      "\n",
      "You tried to access openai.Image, but this is no longer supported in openai>=1.0.0 - see the README at https://github.com/openai/openai-python for the API.\n",
      "\n",
      "You can run `openai migrate` to automatically upgrade your codebase to use the 1.0.0 interface. \n",
      "\n",
      "Alternatively, you can pin your installation to the old version, e.g. `pip install openai==0.28`\n",
      "\n",
      "A detailed migration guide is available here: https://github.com/openai/openai-python/discussions/742\n",
      "\n",
      "TilingBrush: ring:1 @ 240.00 deg\n",
      "Canvas -> /Users/kamangir/storage/abcli/DALL-E.png\n",
      "DALL-E: glazed with rain\n",
      "crash: openai_cli: paint(glazed with rain)\n",
      "exception \n",
      "Traceback (most recent call last):\n",
      "  File \"/Users/kamangir/git/openai/openai_cli/DALLE/canvas.py\", line 139, in paint\n",
      "    response = openai.Image.create_edit(\n",
      "               ^^^^^^^^^^^^^^^^^^^^^^^^\n",
      "  File \"/usr/local/lib/python3.11/site-packages/openai/_utils/_proxy.py\", line 22, in __getattr__\n",
      "    return getattr(self.__get_proxied__(), attr)\n",
      "                   ^^^^^^^^^^^^^^^^^^^^^^\n",
      "  File \"/usr/local/lib/python3.11/site-packages/openai/_utils/_proxy.py\", line 43, in __get_proxied__\n",
      "    return self.__load__()\n",
      "           ^^^^^^^^^^^^^^^\n",
      "  File \"/usr/local/lib/python3.11/site-packages/openai/lib/_old_api.py\", line 33, in __load__\n",
      "    raise APIRemovedInV1(symbol=self._symbol)\n",
      "openai.lib._old_api.APIRemovedInV1: \n",
      "\n",
      "You tried to access openai.Image, but this is no longer supported in openai>=1.0.0 - see the README at https://github.com/openai/openai-python for the API.\n",
      "\n",
      "You can run `openai migrate` to automatically upgrade your codebase to use the 1.0.0 interface. \n",
      "\n",
      "Alternatively, you can pin your installation to the old version, e.g. `pip install openai==0.28`\n",
      "\n",
      "A detailed migration guide is available here: https://github.com/openai/openai-python/discussions/742\n",
      "\n",
      "TilingBrush: ring:1 @ 300.00 deg\n",
      "Canvas -> /Users/kamangir/storage/abcli/DALL-E.png\n",
      " 67%|██████▋   | 6/9 [00:02<00:00,  3.25it/s]DALL-E: water\n",
      "crash: openai_cli: paint(water)\n",
      "exception \n",
      "Traceback (most recent call last):\n",
      "  File \"/Users/kamangir/git/openai/openai_cli/DALLE/canvas.py\", line 139, in paint\n",
      "    response = openai.Image.create_edit(\n",
      "               ^^^^^^^^^^^^^^^^^^^^^^^^\n",
      "  File \"/usr/local/lib/python3.11/site-packages/openai/_utils/_proxy.py\", line 22, in __getattr__\n",
      "    return getattr(self.__get_proxied__(), attr)\n",
      "                   ^^^^^^^^^^^^^^^^^^^^^^\n",
      "  File \"/usr/local/lib/python3.11/site-packages/openai/_utils/_proxy.py\", line 43, in __get_proxied__\n",
      "    return self.__load__()\n",
      "           ^^^^^^^^^^^^^^^\n",
      "  File \"/usr/local/lib/python3.11/site-packages/openai/lib/_old_api.py\", line 33, in __load__\n",
      "    raise APIRemovedInV1(symbol=self._symbol)\n",
      "openai.lib._old_api.APIRemovedInV1: \n",
      "\n",
      "You tried to access openai.Image, but this is no longer supported in openai>=1.0.0 - see the README at https://github.com/openai/openai-python for the API.\n",
      "\n",
      "You can run `openai migrate` to automatically upgrade your codebase to use the 1.0.0 interface. \n",
      "\n",
      "Alternatively, you can pin your installation to the old version, e.g. `pip install openai==0.28`\n",
      "\n",
      "A detailed migration guide is available here: https://github.com/openai/openai-python/discussions/742\n",
      "\n",
      "TilingBrush: ring:2 @ 0.00 deg\n",
      "Canvas -> /Users/kamangir/storage/abcli/DALL-E.png\n",
      "DALL-E: beside the white\n",
      "crash: openai_cli: paint(beside the white)\n",
      "exception \n",
      "Traceback (most recent call last):\n",
      "  File \"/Users/kamangir/git/openai/openai_cli/DALLE/canvas.py\", line 139, in paint\n",
      "    response = openai.Image.create_edit(\n",
      "               ^^^^^^^^^^^^^^^^^^^^^^^^\n",
      "  File \"/usr/local/lib/python3.11/site-packages/openai/_utils/_proxy.py\", line 22, in __getattr__\n",
      "    return getattr(self.__get_proxied__(), attr)\n",
      "                   ^^^^^^^^^^^^^^^^^^^^^^\n",
      "  File \"/usr/local/lib/python3.11/site-packages/openai/_utils/_proxy.py\", line 43, in __get_proxied__\n",
      "    return self.__load__()\n",
      "           ^^^^^^^^^^^^^^^\n",
      "  File \"/usr/local/lib/python3.11/site-packages/openai/lib/_old_api.py\", line 33, in __load__\n",
      "    raise APIRemovedInV1(symbol=self._symbol)\n",
      "openai.lib._old_api.APIRemovedInV1: \n",
      "\n",
      "You tried to access openai.Image, but this is no longer supported in openai>=1.0.0 - see the README at https://github.com/openai/openai-python for the API.\n",
      "\n",
      "You can run `openai migrate` to automatically upgrade your codebase to use the 1.0.0 interface. \n",
      "\n",
      "Alternatively, you can pin your installation to the old version, e.g. `pip install openai==0.28`\n",
      "\n",
      "A detailed migration guide is available here: https://github.com/openai/openai-python/discussions/742\n",
      "\n",
      "TilingBrush: ring:2 @ 28.96 deg\n",
      "Canvas -> /Users/kamangir/storage/abcli/DALL-E.png\n",
      " 89%|████████▉ | 8/9 [00:02<00:00,  4.68it/s]DALL-E: chickens\n",
      "crash: openai_cli: paint(chickens)\n",
      "exception \n",
      "Traceback (most recent call last):\n",
      "  File \"/Users/kamangir/git/openai/openai_cli/DALLE/canvas.py\", line 139, in paint\n",
      "    response = openai.Image.create_edit(\n",
      "               ^^^^^^^^^^^^^^^^^^^^^^^^\n",
      "  File \"/usr/local/lib/python3.11/site-packages/openai/_utils/_proxy.py\", line 22, in __getattr__\n",
      "    return getattr(self.__get_proxied__(), attr)\n",
      "                   ^^^^^^^^^^^^^^^^^^^^^^\n",
      "  File \"/usr/local/lib/python3.11/site-packages/openai/_utils/_proxy.py\", line 43, in __get_proxied__\n",
      "    return self.__load__()\n",
      "           ^^^^^^^^^^^^^^^\n",
      "  File \"/usr/local/lib/python3.11/site-packages/openai/lib/_old_api.py\", line 33, in __load__\n",
      "    raise APIRemovedInV1(symbol=self._symbol)\n",
      "openai.lib._old_api.APIRemovedInV1: \n",
      "\n",
      "You tried to access openai.Image, but this is no longer supported in openai>=1.0.0 - see the README at https://github.com/openai/openai-python for the API.\n",
      "\n",
      "You can run `openai migrate` to automatically upgrade your codebase to use the 1.0.0 interface. \n",
      "\n",
      "Alternatively, you can pin your installation to the old version, e.g. `pip install openai==0.28`\n",
      "\n",
      "A detailed migration guide is available here: https://github.com/openai/openai-python/discussions/742\n",
      "\n",
      "TilingBrush: ring:2 @ 57.91 deg\n",
      "Canvas -> /Users/kamangir/storage/abcli/DALL-E.png\n",
      "100%|██████████| 9/9 [00:02<00:00,  3.12it/s]\n",
      "Canvas -> /Users/kamangir/storage/abcli/DALL-E.png\n"
     ]
    }
   ],
   "source": [
    "canvas.render_text(\n",
    "    canvas.create_brush(brush_size=brush_size),\n",
    "    content[: 3] if validation else content,\n",
    "    objects.path_of(\"DALL-E.png\"),\n",
    ");"
   ]
  },
  {
   "attachments": {},
   "cell_type": "markdown",
   "metadata": {},
   "source": [
    "```bash\n",
    "aiart package publish\n",
    "```"
   ]
  },
  {
   "attachments": {},
   "cell_type": "markdown",
   "metadata": {},
   "source": [
    "---"
   ]
  },
  {
   "cell_type": "code",
   "execution_count": 9,
   "metadata": {},
   "outputs": [],
   "source": [
    "# END"
   ]
  }
 ],
 "metadata": {
  "kernelspec": {
   "display_name": "Python 3 (ipykernel)",
   "language": "python",
   "name": "python3"
  },
  "language_info": {
   "codemirror_mode": {
    "name": "ipython",
    "version": 3
   },
   "file_extension": ".py",
   "mimetype": "text/x-python",
   "name": "python",
   "nbconvert_exporter": "python",
   "pygments_lexer": "ipython3",
   "version": "3.9.18"
  },
  "toc": {
   "base_numbering": 1,
   "nav_menu": {},
   "number_sections": true,
   "sideBar": true,
   "skip_h1_title": false,
   "title_cell": "Table of Contents",
   "title_sidebar": "Contents",
   "toc_cell": false,
   "toc_position": {},
   "toc_section_display": true,
   "toc_window_display": false
  },
  "vscode": {
   "interpreter": {
    "hash": "aee8b7b246df8f9039afb4144a1f6fd8d2ca17a180786b69acc140d282b71a49"
   }
  }
 },
 "nbformat": 4,
 "nbformat_minor": 2
}
