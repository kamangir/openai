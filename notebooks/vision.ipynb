{
    "cells": [
        {
            "attachments": {},
            "cell_type": "markdown",
            "metadata": {},
            "source": [
                "# vision"
            ]
        },
        {
            "cell_type": "code",
            "execution_count": 1,
            "metadata": {},
            "outputs": [
                {
                    "name": "stderr",
                    "output_type": "stream",
                    "text": [
                        "Found credentials in shared credentials file: ~/.aws/credentials\n",
                        "abcli-7.2499.1-2023-06-aws-batch-a, built on 24 November 2023, 19:44:32\n"
                    ]
                }
            ],
            "source": [
                "from abcli import file\n",
                "from abcli import fullname\n",
                "from abcli import string\n",
                "from abcli.options import Options\n",
                "from abcli.modules import objects\n",
                "from abcli.plugins import seed\n",
                "from abcli.modules import objects\n",
                "from openai_commands.logger import logger\n",
                "\n",
                "logger.info(f\"{fullname()}, built on {string.pretty_date()}\")"
            ]
        },
        {
            "cell_type": "code",
            "execution_count": 2,
            "metadata": {},
            "outputs": [],
            "source": [
                "object_name = \"vanwatch-process-dev-2023-11-11-v61\"\n",
                "object_path = objects.object_path(object_name)"
            ]
        },
        {
            "cell_type": "code",
            "execution_count": 3,
            "metadata": {},
            "outputs": [
                {
                    "name": "stdout",
                    "output_type": "stream",
                    "text": [
                        "\u001b[0;36mvanwatch-process-dev-2023-11-11-v61 open download started.\u001b[0m\n",
                        "download: s3://kamangir/bolt/vanwatch-process-dev-2023-11-11-v61/vanwatch-process-dev-2023-11-11-v61 to ../../../storage/abcli/vanwatch-process-dev-2023-11-11-v61/vanwatch-process-dev-2023-11-11-v61\n",
                        "\u001b[0;36mvanwatch-process-dev-2023-11-11-v61 download completed.\u001b[0m\n"
                    ]
                }
            ],
            "source": [
                "%%bash -s $object_name\n",
                "source ~/git/awesome-bash-cli/bash/abcli.sh in_notebook\n",
                "\n",
                "object_name=$1\n",
                "\n",
                "abcli download object $object_name"
            ]
        },
        {
            "attachments": {},
            "cell_type": "markdown",
            "metadata": {},
            "source": [
                "---"
            ]
        },
        {
            "cell_type": "code",
            "execution_count": 4,
            "metadata": {},
            "outputs": [
                {
                    "name": "stdout",
                    "output_type": "stream",
                    "text": [
                        "{'Davie': True, 'Bute': True, '.jpg': True, 'inference': False}\n"
                    ]
                }
            ],
            "source": [
                "options = Options(\"Davie,Bute,.jpg\")\n",
                "options[\"inference\"] = False\n",
                "print(options)"
            ]
        },
        {
            "cell_type": "code",
            "execution_count": 5,
            "metadata": {},
            "outputs": [
                {
                    "name": "stderr",
                    "output_type": "stream",
                    "text": [
                        "4 images: ButeNorthDavie.jpg, ButeSouthDavie.jpg, DavieEastBute.jpg, DavieWestBute.jpg\n"
                    ]
                }
            ],
            "source": [
                "list_of_images = objects.list_of_files(object_name, cloud=True)\n",
                "for keyword in options:\n",
                "    list_of_images = [\n",
                "        filename\n",
                "        for filename in list_of_images\n",
                "        if (keyword in filename if options[keyword] else keyword not in filename)\n",
                "    ]\n",
                "logger.info(\n",
                "    \"{} images: {}\".format(\n",
                "        len(list_of_images),\n",
                "        \", \".join(list_of_images),\n",
                "    )\n",
                ")"
            ]
        },
        {
            "attachments": {},
            "cell_type": "markdown",
            "metadata": {},
            "source": [
                "---"
            ]
        },
        {
            "cell_type": "code",
            "execution_count": 6,
            "metadata": {},
            "outputs": [
                {
                    "name": "stdout",
                    "output_type": "stream",
                    "text": [
                        "\u001b[0;36m📂 object :: vanwatch-process-dev-2023-11-11-v61\u001b[0m\n"
                    ]
                },
                {
                    "name": "stderr",
                    "output_type": "stream",
                    "text": [
                        "vanwatch-process-dev-2023-11-11-v61 += #built_by_notebook.\n"
                    ]
                },
                {
                    "name": "stdout",
                    "output_type": "stream",
                    "text": [
                        "\u001b[0;36mconfirmed: vanwatch-process-dev-2023-11-11-v61 does not exist.\u001b[0m\n",
                        "\u001b[0;36mvanwatch-process-dev-2023-11-11-v61 open upload started.\u001b[0m\n"
                    ]
                },
                {
                    "name": "stderr",
                    "output_type": "stream",
                    "text": [
                        "vanwatch-process-dev-2023-11-11-v61 += #open.\n"
                    ]
                }
            ],
            "source": [
                "%%bash -s $object_name\n",
                "source ~/git/awesome-bash-cli/bash/abcli.sh in_notebook\n",
                "\n",
                "object_name=$1\n",
                "\n",
                "abcli select $object_name\n",
                "abcli tag set . built_by_notebook\n",
                "abcli upload"
            ]
        },
        {
            "cell_type": "code",
            "execution_count": 7,
            "metadata": {},
            "outputs": [
                {
                    "name": "stderr",
                    "output_type": "stream",
                    "text": [
                        "abcli select vanwatch-process-dev-2023-11-11-v61; open .\n"
                    ]
                }
            ],
            "source": [
                "seed.log(object_name)"
            ]
        },
        {
            "cell_type": "code",
            "execution_count": 8,
            "metadata": {},
            "outputs": [],
            "source": [
                "# END"
            ]
        }
    ],
    "metadata": {
        "kernelspec": {
            "display_name": "Python 3 (ipykernel)",
            "language": "python",
            "name": "python3"
        },
        "language_info": {
            "codemirror_mode": {
                "name": "ipython",
                "version": 3
            },
            "file_extension": ".py",
            "mimetype": "text/x-python",
            "name": "python",
            "nbconvert_exporter": "python",
            "pygments_lexer": "ipython3",
            "version": "3.11.5"
        },
        "toc": {
            "base_numbering": 1,
            "nav_menu": {},
            "number_sections": true,
            "sideBar": true,
            "skip_h1_title": false,
            "title_cell": "Table of Contents",
            "title_sidebar": "Contents",
            "toc_cell": false,
            "toc_position": {},
            "toc_section_display": true,
            "toc_window_display": false
        }
    },
    "nbformat": 4,
    "nbformat_minor": 2
}
