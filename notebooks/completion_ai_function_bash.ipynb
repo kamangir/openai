{
    "cells": [
        {
            "attachments": {},
            "cell_type": "markdown",
            "metadata": {},
            "source": [
                "# [OpenAi completion/ai_function_bash](../openai_cli/completion/functions/bash.py)"
            ]
        },
        {
            "cell_type": "code",
            "execution_count": 1,
            "metadata": {},
            "outputs": [
                {
                    "name": "stderr",
                    "output_type": "stream",
                    "text": [
                        "Found credentials in shared credentials file: ~/.aws/credentials\n",
                        "abcli-7.2497.1-2023-06-aws-batch-a, built on 22 November 2023, 18:27:11\n"
                    ]
                }
            ],
            "source": [
                "import os\n",
                "\n",
                "from abcli import fullname\n",
                "from abcli import string\n",
                "from abcli.plugins import seed\n",
                "from openai_cli.completion.prompts.bash import bash_prompt\n",
                "from openai_cli.completion.functions.bash import ai_function_bash\n",
                "\n",
                "import abcli.logging\n",
                "import logging\n",
                "\n",
                "logger = logging.getLogger()\n",
                "\n",
                "logger.info(f\"{fullname()}, built on {string.pretty_date()}\")"
            ]
        },
        {
            "cell_type": "code",
            "execution_count": 2,
            "metadata": {},
            "outputs": [],
            "source": [
                "object_name = \"openai-completion-function-2d-v3\""
            ]
        },
        {
            "cell_type": "code",
            "execution_count": 3,
            "metadata": {},
            "outputs": [],
            "source": [
                "function_name = \"vancouver_watching\"\n",
                "function_short_name = \"vanwatch\"\n",
                "prompt = \"write a bash script to download the latest set of images \" \\\n",
                "    \"from traffic cameras in Downtown Vancouver \" \\\n",
                "    \" and count the number of birds in each image and report the total. \""
            ]
        },
        {
            "cell_type": "code",
            "execution_count": 4,
            "metadata": {},
            "outputs": [
                {
                    "name": "stdout",
                    "output_type": "stream",
                    "text": [
                        "env: abcli_object_name=openai-completion-function-2d-v3\n",
                        "env: abcli_object_path=/Users/kamangir/storage/abcli/openai-completion-function-2d-v3\n"
                    ]
                }
            ],
            "source": [
                "HOME=os.getenv(\"HOME\")\n",
                "%env abcli_object_name={object_name}\n",
                "%env abcli_object_path={HOME}/storage/abcli/{object_name}"
            ]
        },
        {
            "cell_type": "code",
            "execution_count": 5,
            "metadata": {},
            "outputs": [
                {
                    "name": "stdout",
                    "output_type": "stream",
                    "text": [
                        "\u001b[0;36m📂 object :: openai-completion-function-2d-v3\u001b[0m\n",
                        "\u001b[0;36mopenai-completion-function-2d-v3 open download started.\u001b[0m\n",
                        "\u001b[0;36mopenai-completion-function-2d-v3 download completed.\u001b[0m\n"
                    ]
                }
            ],
            "source": [
                "%%bash -s $object_name\n",
                "source ~/git/awesome-bash-cli/bash/abcli.sh in_notebook\n",
                "\n",
                "abcli select $1\n",
                "abcli download"
            ]
        },
        {
            "attachments": {},
            "cell_type": "markdown",
            "metadata": {},
            "source": [
                "---"
            ]
        },
        {
            "cell_type": "code",
            "execution_count": 6,
            "metadata": {},
            "outputs": [],
            "source": [
                "prompt_ = bash_prompt(prompt)"
            ]
        },
        {
            "cell_type": "code",
            "execution_count": 7,
            "metadata": {},
            "outputs": [],
            "source": [
                "func = ai_function_bash(function_name)"
            ]
        },
        {
            "cell_type": "code",
            "execution_count": 8,
            "metadata": {},
            "outputs": [
                {
                    "name": "stderr",
                    "output_type": "stream",
                    "text": [
                        "loaded 6 line(s) from /Users/kamangir/storage/abcli/openai-completion-function-2d-v3/vanwatch-description.txt.\n",
                        "prompt: to discover <area>, run vanwatch discover <area> [~upload] [--validate 1].\n",
                        "to ingest <area>, run vanwatch ingest <area> [dryrun,~upload].\n",
                        "to list <area>, run vanwatch list <area> <discovery|ingest>.\n",
                        "to list areas, run vanwatch list areas.\n",
                        "to train a model, run vanwatch train [dryrun,epochs=10,gpu_count=2,image_size=<640>,size=yolov5n|yolov5s|yolov5m|yolov5l|yolov5x,~upload].\n",
                        "\n",
                        "write a bash script to download the latest set of images from traffic cameras in Downtown Vancouver  and count the number of birds in each image and report the total. \n",
                        "HTTP Request: POST https://api.openai.com/v1/chat/completions \"HTTP/1.1 200 OK\"\n",
                        "response: ChatCompletion(id='chatcmpl-8NtiudYUvORmPLwHObxEEHzwou6F8', choices=[Choice(finish_reason='stop', index=0, message=ChatCompletionMessage(content='#!/bin/bash\\n\\n# Set the area to Downtown Vancouver\\narea=\"Downtown\"\\n\\n# Run vanwatch discover command to find the latest set of images\\nvanwatch discover $area --validate 1\\n\\n# Check if the discovery was successful\\nif [ \"$?\" -eq 0 ]; then\\n    # Run vanwatch ingest command to download the images\\n    vanwatch ingest $area\\n\\n    # Check if the ingest was successful\\n    if [ \"$?\" -eq 0 ]; then\\n        # Run vanwatch list command to get the list of downloaded images\\n        images=$(vanwatch list $area ingest)\\n\\n        # Count the number of birds in each image and report the total\\n        total_bird_count=0\\n\\n        for image in $images; do\\n            # Run bird counting script on each image and get the count\\n            bird_count=$(python bird_counter.py $image)\\n\\n            # Report the bird count for each image\\n            echo \"Bird count in $image: $bird_count\"\\n\\n            # Update the total bird count\\n            total_bird_count=$((total_bird_count + bird_count))\\n        done\\n\\n        # Report the total bird count\\n        echo \"Total bird count: $total_bird_count\"\\n    else\\n        echo \"Failed to download images from vanwatch ingest.\"\\n    fi\\nelse\\n    echo \"Failed to discover images from vanwatch discover.\"\\nfi\\n\\n# Note: Replace \"bird_counter.py\" with the actual script to count birds in an image.', role='assistant', function_call=None, tool_calls=None))], created=1700706436, model='gpt-3.5-turbo-0613', object='chat.completion', system_fingerprint=None, usage=CompletionUsage(completion_tokens=305, prompt_tokens=169, total_tokens=474))\n",
                        "openai-cli.complete(): finish_reason: stop.\n",
                        "code: #!/bin/bash\n",
                        "\n",
                        "# Set the area to Downtown Vancouver\n",
                        "area=\"Downtown\"\n",
                        "\n",
                        "# Run vanwatch discover command to find the latest set of images\n",
                        "vanwatch discover $area --validate 1\n",
                        "\n",
                        "# Check if the discovery was successful\n",
                        "if [ \"$?\" -eq 0 ]; then\n",
                        "    # Run vanwatch ingest command to download the images\n",
                        "    vanwatch ingest $area\n",
                        "\n",
                        "    # Check if the ingest was successful\n",
                        "    if [ \"$?\" -eq 0 ]; then\n",
                        "        # Run vanwatch list command to get the list of downloaded images\n",
                        "        images=$(vanwatch list $area ingest)\n",
                        "\n",
                        "        # Count the number of birds in each image and report the total\n",
                        "        total_bird_count=0\n",
                        "\n",
                        "        for image in $images; do\n",
                        "            # Run bird counting script on each image and get the count\n",
                        "            bird_count=$(python bird_counter.py $image)\n",
                        "\n",
                        "            # Report the bird count for each image\n",
                        "            echo \"Bird count in $image: $bird_count\"\n",
                        "\n",
                        "            # Update the total bird count\n",
                        "            total_bird_count=$((total_bird_count + bird_count))\n",
                        "        done\n",
                        "\n",
                        "        # Report the total bird count\n",
                        "        echo \"Total bird count: $total_bird_count\"\n",
                        "    else\n",
                        "        echo \"Failed to download images from vanwatch ingest.\"\n",
                        "    fi\n",
                        "else\n",
                        "    echo \"Failed to discover images from vanwatch discover.\"\n",
                        "fi\n",
                        "\n",
                        "# Note: Replace \"bird_counter.py\" with the actual script to count birds in an image.\n"
                    ]
                }
            ],
            "source": [
                "assert func.generate(prompt_.create(\n",
                "    function_name=func.function_name,\n",
                "    function_short_name=function_short_name))[0]"
            ]
        },
        {
            "cell_type": "code",
            "execution_count": 9,
            "metadata": {},
            "outputs": [
                {
                    "name": "stderr",
                    "output_type": "stream",
                    "text": [
                        "#!/bin/bash\n",
                        "\n",
                        "# Set the area to Downtown Vancouver\n",
                        "area=\"Downtown\"\n",
                        "\n",
                        "# Run vanwatch discover command to find the latest set of images\n",
                        "vanwatch discover $area --validate 1\n",
                        "\n",
                        "# Check if the discovery was successful\n",
                        "if [ \"$?\" -eq 0 ]; then\n",
                        "    # Run vanwatch ingest command to download the images\n",
                        "    vanwatch ingest $area\n",
                        "\n",
                        "    # Check if the ingest was successful\n",
                        "    if [ \"$?\" -eq 0 ]; then\n",
                        "        # Run vanwatch list command to get the list of downloaded images\n",
                        "        images=$(vanwatch list $area ingest)\n",
                        "\n",
                        "        # Count the number of birds in each image and report the total\n",
                        "        total_bird_count=0\n",
                        "\n",
                        "        for image in $images; do\n",
                        "            # Run bird counting script on each image and get the count\n",
                        "            bird_count=$(python bird_counter.py $image)\n",
                        "\n",
                        "            # Report the bird count for each image\n",
                        "            echo \"Bird count in $image: $bird_count\"\n",
                        "\n",
                        "            # Update the total bird count\n",
                        "            total_bird_count=$((total_bird_count + bird_count))\n",
                        "        done\n",
                        "\n",
                        "        # Report the total bird count\n",
                        "        echo \"Total bird count: $total_bird_count\"\n",
                        "    else\n",
                        "        echo \"Failed to download images from vanwatch ingest.\"\n",
                        "    fi\n",
                        "else\n",
                        "    echo \"Failed to discover images from vanwatch discover.\"\n",
                        "fi\n",
                        "\n",
                        "# Note: Replace \"bird_counter.py\" with the actual script to count birds in an image.\n"
                    ]
                }
            ],
            "source": [
                "logging.info(func.code)"
            ]
        },
        {
            "cell_type": "code",
            "execution_count": 10,
            "metadata": {},
            "outputs": [
                {
                    "name": "stdout",
                    "output_type": "stream",
                    "text": [
                        "\u001b[0;36m📂 object :: openai-completion-function-2d-v3\u001b[0m\n"
                    ]
                },
                {
                    "name": "stderr",
                    "output_type": "stream",
                    "text": [
                        "openai-completion-function-2d-v3 += #built_by_notebook.\n"
                    ]
                },
                {
                    "name": "stdout",
                    "output_type": "stream",
                    "text": [
                        "\u001b[0;36mconfirmed: openai-completion-function-2d-v3 does not exist.\u001b[0m\n",
                        "\u001b[0;36mopenai-completion-function-2d-v3 open upload started.\u001b[0m\n"
                    ]
                },
                {
                    "name": "stderr",
                    "output_type": "stream",
                    "text": [
                        "openai-completion-function-2d-v3 += #open.\n"
                    ]
                }
            ],
            "source": [
                "%%bash -s $object_name\n",
                "source ~/git/awesome-bash-cli/bash/abcli.sh in_notebook\n",
                "\n",
                "abcli select $1\n",
                "abcli tag set . built_by_notebook\n",
                "abcli upload"
            ]
        },
        {
            "attachments": {},
            "cell_type": "markdown",
            "metadata": {},
            "source": [
                "---"
            ]
        },
        {
            "cell_type": "code",
            "execution_count": 11,
            "metadata": {},
            "outputs": [
                {
                    "name": "stderr",
                    "output_type": "stream",
                    "text": [
                        "abcli select download_object; open .\n"
                    ]
                }
            ],
            "source": [
                "seed.log(\"download_object\")"
            ]
        },
        {
            "cell_type": "code",
            "execution_count": 12,
            "metadata": {},
            "outputs": [],
            "source": [
                "# END"
            ]
        }
    ],
    "metadata": {
        "kernelspec": {
            "display_name": "Python 3 (ipykernel)",
            "language": "python",
            "name": "python3"
        },
        "language_info": {
            "codemirror_mode": {
                "name": "ipython",
                "version": 3
            },
            "file_extension": ".py",
            "mimetype": "text/x-python",
            "name": "python",
            "nbconvert_exporter": "python",
            "pygments_lexer": "ipython3",
            "version": "3.11.5"
        },
        "toc": {
            "base_numbering": 1,
            "nav_menu": {},
            "number_sections": true,
            "sideBar": true,
            "skip_h1_title": false,
            "title_cell": "Table of Contents",
            "title_sidebar": "Contents",
            "toc_cell": false,
            "toc_position": {},
            "toc_section_display": true,
            "toc_window_display": false
        }
    },
    "nbformat": 4,
    "nbformat_minor": 2
}
