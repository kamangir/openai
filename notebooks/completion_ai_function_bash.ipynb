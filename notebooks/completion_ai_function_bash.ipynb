{
    "cells": [
        {
            "attachments": {},
            "cell_type": "markdown",
            "metadata": {},
            "source": [
                "# [OpenAi completion/ai_function_bash](../openai_cli/completion/functions/bash.py)"
            ]
        },
        {
            "cell_type": "code",
            "execution_count": 1,
            "metadata": {},
            "outputs": [
                {
                    "name": "stderr",
                    "output_type": "stream",
                    "text": [
                        "Found credentials in shared credentials file: ~/.aws/credentials\n",
                        "abcli-7.2303.1-unknown, built on 03 July 2023, 13:06:30\n"
                    ]
                }
            ],
            "source": [
                "import os\n",
                "\n",
                "from abcli import fullname\n",
                "from abcli import string\n",
                "from abcli.plugins import seed\n",
                "from openai_cli.completion.prompts.bash import bash_prompt\n",
                "from openai_cli.completion.functions.bash import ai_function_bash\n",
                "\n",
                "import abcli.logging\n",
                "import logging\n",
                "\n",
                "logger = logging.getLogger()\n",
                "\n",
                "logger.info(f\"{fullname()}, built on {string.pretty_date()}\")"
            ]
        },
        {
            "cell_type": "code",
            "execution_count": 2,
            "metadata": {},
            "outputs": [],
            "source": [
                "object_name = \"openai-completion-function-2d-v3\""
            ]
        },
        {
            "cell_type": "code",
            "execution_count": 3,
            "metadata": {},
            "outputs": [],
            "source": [
                "function_name = \"vancouver_watching\"\n",
                "function_short_name = \"vanwatch\"\n",
                "prompt = \"count the number of birds in images captured by traffic cameras in Downtown Vancouver.\""
            ]
        },
        {
            "cell_type": "code",
            "execution_count": 4,
            "metadata": {},
            "outputs": [
                {
                    "name": "stdout",
                    "output_type": "stream",
                    "text": [
                        "env: abcli_object_name=openai-completion-function-2d-v3\n",
                        "env: abcli_object_path=/Users/kamangir/storage/abcli/openai-completion-function-2d-v3\n"
                    ]
                }
            ],
            "source": [
                "HOME=os.getenv(\"HOME\")\n",
                "%env abcli_object_name={object_name}\n",
                "%env abcli_object_path={HOME}/storage/abcli/{object_name}"
            ]
        },
        {
            "cell_type": "code",
            "execution_count": 5,
            "metadata": {},
            "outputs": [
                {
                    "name": "stdout",
                    "output_type": "stream",
                    "text": [
                        "\u001b[0;36m📂 openai-completion-function-2d-v3\u001b[0m\n",
                        "\u001b[0;36mopenai-completion-function-2d-v3 open download started.\u001b[0m\n",
                        "download: s3://kamangir/bolt/openai-completion-function-2d-v3/abcli.log to ./abcli.log\n",
                        "download: s3://kamangir/bolt/openai-completion-function-2d-v3/i2i_function_code.json to ./i2i_function_code.json\n",
                        "\u001b[0;36mopenai-completion-function-2d-v3 download completed.\u001b[0m\n"
                    ]
                }
            ],
            "source": [
                "%%bash -s $object_name\n",
                "source ~/git/awesome-bash-cli/bash/abcli.sh in_notebook\n",
                "\n",
                "abcli select $1\n",
                "abcli download"
            ]
        },
        {
            "attachments": {},
            "cell_type": "markdown",
            "metadata": {},
            "source": [
                "---"
            ]
        },
        {
            "cell_type": "code",
            "execution_count": 6,
            "metadata": {},
            "outputs": [],
            "source": [
                "prompt_ = bash_prompt(prompt)"
            ]
        },
        {
            "cell_type": "code",
            "execution_count": 7,
            "metadata": {},
            "outputs": [],
            "source": [
                "func = ai_function_bash(function_name)"
            ]
        },
        {
            "cell_type": "code",
            "execution_count": 8,
            "metadata": {},
            "outputs": [
                {
                    "name": "stderr",
                    "output_type": "stream",
                    "text": [
                        "loaded 6 line(s) from /Users/kamangir/storage/abcli/openai-completion-function-2d-v3/vanwatch-description.txt.\n",
                        "prompt: to discover <area>, run vanwatch discover <area> [~upload] [--validate 1].\n",
                        "to ingest <area>, run vanwatch ingest <area> [dryrun,~upload].\n",
                        "to list <area>, run vanwatch list <area> <discovery|ingest>.\n",
                        "to list areas, run vanwatch list areas.\n",
                        "to train a model, run vanwatch train [dryrun,epochs=10,gpu_count=2,image_size=<640>,size=yolov5n|yolov5s|yolov5m|yolov5l|yolov5x,~upload].\n",
                        "\n",
                        "count the number of birds in images captured by traffic cameras in Downtown Vancouver.\n",
                        "message='Request to OpenAI API' method=post path=https://api.openai.com/v1/completions\n",
                        "message='OpenAI API response' path=https://api.openai.com/v1/completions processing_ms=26052 request_id=113d443208d0f3c44a674c875df36f2b response_code=200\n",
                        "response: {\n",
                        "  \"choices\": [\n",
                        "    {\n",
                        "      \"finish_reason\": \"stop\",\n",
                        "      \"index\": 0,\n",
                        "      \"logprobs\": null,\n",
                        "      \"text\": \"\\n\\nTo count the number of birds in the images, you can use computer vision and object detection techniques. First, you need to perform a discovery step by collecting the images from the traffic cameras in Downtown Vancouver. You can do this by running the command \\\"vanwatch discover Downtown Vancouver ~upload\\\" to collect all of the images. Next, you can ingest the images by running the command \\\"vanwatch ingest Downtown Vancouver dryrun\\\" to analyze the images and get an idea of the types of birds that appear. Finally, you can use a computer vision and object detection algorithms, such as YOLOv5, to train a model on the images collected. This can be done by running the command \\\"vanwatch train size=yolov5n dryrun epochs=10 gpu_count=2 image_size=640 ~upload\\\" to train the model on the images. Once the model is trained, you can use it to count the number of birds in the images.\"\n",
                        "    }\n",
                        "  ],\n",
                        "  \"created\": 1688414796,\n",
                        "  \"id\": \"cmpl-7YK6eJhzkewuc3Mc5nxe9Fgk18E0s\",\n",
                        "  \"model\": \"text-davinci-003\",\n",
                        "  \"object\": \"text_completion\",\n",
                        "  \"usage\": {\n",
                        "    \"completion_tokens\": 200,\n",
                        "    \"prompt_tokens\": 158,\n",
                        "    \"total_tokens\": 358\n",
                        "  }\n",
                        "}\n",
                        "openai-cli.complete(): finish_reason: stop.\n",
                        "code: \n",
                        "\n",
                        "To count the number of birds in the images, you can use computer vision and object detection techniques. First, you need to perform a discovery step by collecting the images from the traffic cameras in Downtown Vancouver. You can do this by running the command \"vanwatch discover Downtown Vancouver ~upload\" to collect all of the images. Next, you can ingest the images by running the command \"vanwatch ingest Downtown Vancouver dryrun\" to analyze the images and get an idea of the types of birds that appear. Finally, you can use a computer vision and object detection algorithms, such as YOLOv5, to train a model on the images collected. This can be done by running the command \"vanwatch train size=yolov5n dryrun epochs=10 gpu_count=2 image_size=640 ~upload\" to train the model on the images. Once the model is trained, you can use it to count the number of birds in the images.\n"
                    ]
                }
            ],
            "source": [
                "assert func.generate(prompt_.create(\n",
                "    function_name=func.function_name,\n",
                "    function_short_name=function_short_name))[0]"
            ]
        },
        {
            "cell_type": "code",
            "execution_count": 9,
            "metadata": {},
            "outputs": [
                {
                    "name": "stdout",
                    "output_type": "stream",
                    "text": [
                        "\u001b[0;36m📂 openai-completion-function-2d-v3\u001b[0m\n"
                    ]
                },
                {
                    "name": "stderr",
                    "output_type": "stream",
                    "text": [
                        "openai-completion-function-2d-v3 += #built_by_notebook.\n"
                    ]
                },
                {
                    "name": "stdout",
                    "output_type": "stream",
                    "text": [
                        "\u001b[0;36mconfirmed: openai-completion-function-2d-v3 does not exist.\u001b[0m\n",
                        "\u001b[0;36mopenai-completion-function-2d-v3 open upload started.\u001b[0m\n",
                        "upload: ./abcli.log to s3://kamangir/bolt/openai-completion-function-2d-v3/abcli.log\n"
                    ]
                },
                {
                    "name": "stderr",
                    "output_type": "stream",
                    "text": [
                        "openai-completion-function-2d-v3 += #open.\n"
                    ]
                }
            ],
            "source": [
                "%%bash -s $object_name\n",
                "source ~/git/awesome-bash-cli/bash/abcli.sh in_notebook\n",
                "\n",
                "abcli select $1\n",
                "abcli tag set . built_by_notebook\n",
                "abcli upload"
            ]
        },
        {
            "attachments": {},
            "cell_type": "markdown",
            "metadata": {},
            "source": [
                "---"
            ]
        },
        {
            "cell_type": "code",
            "execution_count": 10,
            "metadata": {},
            "outputs": [
                {
                    "name": "stderr",
                    "output_type": "stream",
                    "text": [
                        "abcli select openai-completion-function-2d-v3\n",
                        "abcli download\n",
                        "open .\n"
                    ]
                }
            ],
            "source": [
                "seed.log(\"download_object\")"
            ]
        },
        {
            "cell_type": "code",
            "execution_count": 11,
            "metadata": {},
            "outputs": [],
            "source": [
                "# END"
            ]
        }
    ],
    "metadata": {
        "kernelspec": {
            "display_name": "Python 3 (ipykernel)",
            "language": "python",
            "name": "python3"
        },
        "language_info": {
            "codemirror_mode": {
                "name": "ipython",
                "version": 3
            },
            "file_extension": ".py",
            "mimetype": "text/x-python",
            "name": "python",
            "nbconvert_exporter": "python",
            "pygments_lexer": "ipython3",
            "version": "3.9.13"
        },
        "toc": {
            "base_numbering": 1,
            "nav_menu": {},
            "number_sections": true,
            "sideBar": true,
            "skip_h1_title": false,
            "title_cell": "Table of Contents",
            "title_sidebar": "Contents",
            "toc_cell": false,
            "toc_position": {},
            "toc_section_display": true,
            "toc_window_display": false
        }
    },
    "nbformat": 4,
    "nbformat_minor": 2
}
