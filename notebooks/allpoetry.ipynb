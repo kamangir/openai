{
 "cells": [
  {
   "cell_type": "code",
   "execution_count": 1,
   "id": "d4c0a56f",
   "metadata": {},
   "outputs": [
    {
     "name": "stderr",
     "output_type": "stream",
     "text": [
      "Found credentials in shared credentials file: ~/.aws/credentials\n",
      "using openai_cli-2.54.1.\n"
     ]
    }
   ],
   "source": [
    "import os\n",
    "import requests\n",
    "from bs4 import BeautifulSoup\n",
    "from tqdm import tqdm\n",
    "from IPython.display import display, clear_output\n",
    "from abcli import file\n",
    "from abcli.modules.cookie import cookie\n",
    "from abcli.modules import objects\n",
    "from openai_cli import NAME, VERSION\n",
    "from openai_cli.DALLE.canvas import Canvas\n",
    "from openai_cli.DALLE.brush import TilingBrush\n",
    "\n",
    "import abcli.logging\n",
    "import logging\n",
    "\n",
    "logger = logging.getLogger()\n",
    "\n",
    "logger.info(f\"using {NAME}-{VERSION}.\")"
   ]
  },
  {
   "cell_type": "code",
   "execution_count": 2,
   "id": "58e16973",
   "metadata": {},
   "outputs": [],
   "source": [
    "url = \"https://allpoetry.com/16-bit-Intel-8088-chip\""
   ]
  },
  {
   "cell_type": "code",
   "execution_count": 3,
   "id": "b586783b",
   "metadata": {},
   "outputs": [
    {
     "name": "stdout",
     "output_type": "stream",
     "text": [
      "16-bit Intel 8088 chip\n"
     ]
    }
   ],
   "source": [
    "response = requests.get(url)\n",
    "\n",
    "soup = BeautifulSoup(response.content, \"html.parser\")\n",
    "\n",
    "title_element = soup.find(\"h1\", {\"class\": \"title\"})\n",
    "title = title_element.text.strip()\n",
    "\n",
    "print(title)"
   ]
  },
  {
   "cell_type": "code",
   "execution_count": 4,
   "id": "609ec009",
   "metadata": {},
   "outputs": [
    {
     "name": "stdout",
     "output_type": "stream",
     "text": [
      "['with an Apple Macintosh', \"you can't run Radio Shack programs\", 'in its disc drive.', 'nor can a Commodore 64', 'drive read a file', 'you have created on an', 'IBM Personal Computer.', 'both Kaypro and Osborne computers use', 'the CP/M operating system', \"but can't read each other's\", 'handwriting', 'for they format (write', 'on) discs in different', 'ways.', 'the Tandy 2000 runs MS-DOS but', \"can't use most programs produced for\", 'the IBM Personal Computer', 'unless certain', 'bits and bytes are', 'altered', 'but the wind still blows over', 'Savannah', 'and in the Spring', 'the turkey buzzard struts and', 'flounces before his', 'hens.']\n"
     ]
    }
   ],
   "source": [
    "poem_body = soup.find(\"div\", {\"class\": \"poem_body\"})\n",
    "poem_body = poem_body.find_all(\"div\")[1].text.strip().split(\"\\n\")\n",
    "\n",
    "print(poem_body)"
   ]
  },
  {
   "cell_type": "code",
   "execution_count": 5,
   "id": "49aee715",
   "metadata": {},
   "outputs": [],
   "source": [
    "# END"
   ]
  }
 ],
 "metadata": {
  "kernelspec": {
   "display_name": "Python 3 (ipykernel)",
   "language": "python",
   "name": "python3"
  },
  "language_info": {
   "codemirror_mode": {
    "name": "ipython",
    "version": 3
   },
   "file_extension": ".py",
   "mimetype": "text/x-python",
   "name": "python",
   "nbconvert_exporter": "python",
   "pygments_lexer": "ipython3",
   "version": "3.9.15"
  }
 },
 "nbformat": 4,
 "nbformat_minor": 5
}
