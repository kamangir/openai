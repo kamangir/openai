{
    "cells": [
        {
            "attachments": {},
            "cell_type": "markdown",
            "metadata": {},
            "source": [
                "# two-dimensional 💡"
            ]
        },
        {
            "cell_type": "code",
            "execution_count": 1,
            "metadata": {},
            "outputs": [
                {
                    "name": "stderr",
                    "output_type": "stream",
                    "text": [
                        "Found credentials in shared credentials file: ~/.aws/credentials\n",
                        "abcli-7.2302.1-unknown, built on 01 July 2023, 15:27:06\n"
                    ]
                }
            ],
            "source": [
                "import os\n",
                "\n",
                "from abcli import fullname\n",
                "from abcli import string\n",
                "from abcli.plugins import seed\n",
                "from openai_cli.completion.prompts.bash import bash_prompt\n",
                "from openai_cli.completion.functions.bash import ai_function_bash\n",
                "\n",
                "import abcli.logging\n",
                "import logging\n",
                "\n",
                "logger = logging.getLogger()\n",
                "\n",
                "logger.info(f\"{fullname()}, built on {string.pretty_date()}\")"
            ]
        },
        {
            "cell_type": "code",
            "execution_count": 2,
            "metadata": {},
            "outputs": [],
            "source": [
                "object_name = \"openai-completion-function-2d-v3\""
            ]
        },
        {
            "cell_type": "code",
            "execution_count": 3,
            "metadata": {},
            "outputs": [],
            "source": [
                "function_name = \"vancouver_watching\"\n",
                "function_short_name = \"vanwatch\"\n",
                "prompt = \"ingest vancouver.\""
            ]
        },
        {
            "cell_type": "code",
            "execution_count": 4,
            "metadata": {},
            "outputs": [
                {
                    "name": "stdout",
                    "output_type": "stream",
                    "text": [
                        "env: abcli_object_name=openai-completion-function-2d-v3\n",
                        "env: abcli_object_path=/Users/kamangir/storage/abcli/openai-completion-function-2d-v3\n"
                    ]
                }
            ],
            "source": [
                "HOME=os.getenv(\"HOME\")\n",
                "%env abcli_object_name={object_name}\n",
                "%env abcli_object_path={HOME}/storage/abcli/{object_name}"
            ]
        },
        {
            "cell_type": "code",
            "execution_count": 5,
            "metadata": {},
            "outputs": [
                {
                    "name": "stdout",
                    "output_type": "stream",
                    "text": [
                        "\u001b[0;36m📂 openai-completion-function-2d-v3\u001b[0m\n",
                        "\u001b[0;36mopenai-completion-function-2d-v3 open download started.\u001b[0m\n",
                        "download: s3://kamangir/bolt/openai-completion-function-2d-v3/abcli.log to ./abcli.log\n",
                        "\u001b[0;36mopenai-completion-function-2d-v3 download completed.\u001b[0m\n"
                    ]
                }
            ],
            "source": [
                "%%bash -s $object_name\n",
                "source ~/git/awesome-bash-cli/bash/abcli.sh in_notebook\n",
                "\n",
                "abcli select $1\n",
                "abcli download"
            ]
        },
        {
            "attachments": {},
            "cell_type": "markdown",
            "metadata": {},
            "source": [
                "---"
            ]
        },
        {
            "cell_type": "code",
            "execution_count": 6,
            "metadata": {},
            "outputs": [],
            "source": [
                "prompt_ = bash_prompt(prompt)"
            ]
        },
        {
            "cell_type": "code",
            "execution_count": 7,
            "metadata": {},
            "outputs": [],
            "source": [
                "func = ai_function_bash(function_name)"
            ]
        },
        {
            "cell_type": "code",
            "execution_count": 8,
            "metadata": {},
            "outputs": [
                {
                    "name": "stderr",
                    "output_type": "stream",
                    "text": [
                        "loaded 6 line(s) from /Users/kamangir/storage/abcli/openai-completion-function-2d-v3/vanwatch-description.txt.\n",
                        "prompt: ['to discover <area>, run vanwatch discover <area> [~upload] [--validate 1].', 'to ingest <area>, run vanwatch ingest <area> [dryrun,~upload].', 'to list <area>, run vanwatch list <area> <discovery|ingest>.', 'to list areas, run vanwatch list areas.', 'to train a model, run vanwatch train [dryrun,epochs=10,gpu_count=2,image_size=<640>,size=yolov5n|yolov5s|yolov5m|yolov5l|yolov5x,~upload].', '', 'ingest vancouver.']\n",
                        "message='Request to OpenAI API' method=post path=https://api.openai.com/v1/completions\n",
                        "message='OpenAI API response' path=https://api.openai.com/v1/completions processing_ms=20655 request_id=5a056386791fdc951ab02fd14f248f42 response_code=200\n",
                        "response: {\n",
                        "  \"choices\": [\n",
                        "    {\n",
                        "      \"finish_reason\": \"stop\",\n",
                        "      \"index\": 0,\n",
                        "      \"logprobs\": null,\n",
                        "      \"text\": \" \\n\\nThis command will launch a dedicated search for VanWatch nodes in the specified area. The VanWatch nodes will be uploaded to the VanWatch database with the ~upload option. With the --validate option, you can specify the minimum validation code for the assets to be uploaded.\"\n",
                        "    },\n",
                        "    {\n",
                        "      \"finish_reason\": \"stop\",\n",
                        "      \"index\": 1,\n",
                        "      \"logprobs\": null,\n",
                        "      \"text\": \"\\n\\nTo ingest an area, the vanwatch ingest command can be used. This command takes an area as an argument as well as the optional parameters of dryrun and upload.\\n\\nThe dryrun argument runs the ingest command without committing any changes. This allows the user to view the commands that would be run when running the ingest command without actually running them.\\n\\nThe upload argument indicates whether or not to upload the resulting changes to a web server. If this parameter is omitted, the changes will not be uploaded automatically.\"\n",
                        "    },\n",
                        "    {\n",
                        "      \"finish_reason\": \"stop\",\n",
                        "      \"index\": 2,\n",
                        "      \"logprobs\": null,\n",
                        "      \"text\": \"\\n\\nTo list areas and whether they're being watched for discovery or ingest, use the following command:\\n\\n`vanwatch list <area> <discovery|ingest>`\"\n",
                        "    },\n",
                        "    {\n",
                        "      \"finish_reason\": \"stop\",\n",
                        "      \"index\": 3,\n",
                        "      \"logprobs\": null,\n",
                        "      \"text\": \"\\n\\nTo list areas, run the command: \\n\\n\\\"Vanwatch list areas\\\"\"\n",
                        "    },\n",
                        "    {\n",
                        "      \"finish_reason\": \"stop\",\n",
                        "      \"index\": 4,\n",
                        "      \"logprobs\": null,\n",
                        "      \"text\": \" E.g.\\n\\nvanwatch train epochs=10,gpu_count=2,image_size=640,size=yolov5s,~upload\"\n",
                        "    },\n",
                        "    {\n",
                        "      \"finish_reason\": \"stop\",\n",
                        "      \"index\": 5,\n",
                        "      \"logprobs\": null,\n",
                        "      \"text\": \"WEAR INSPIRED Transforming fashion into a force of good\\n\\nFAMILY LIFE Foundation Inc. is a national 501 (C)(3) nonprofit organization that educates and empowers youth, individuals and families of diverse cultures to reach their potential and become self-sustaining. Registration #CH49174 Click here to donate\\n\\nOur Vision & Mission\\n\\nOur Mission: To cultivate long-term relationships with individuals and organizations by connecting resources, raising awareness and creating solutions.\\n\\nOur Vision: To create a global world where all lives are valued, nurtured and can reach their full and unlimited potential.\\n\\nA message from our founder,\\n\\nAzucena \\u201cSena\\u201d Alvarez\\n\\nIt's my belief that the fashion industry is powerful - it can influence our thoughts, our emotions, and our behavior. That's why I created WEAR INSPIRED, an initiative to support Family Life Foundation Inc.'s mission of creating a world where all lives are valued and can reach their full potential.\\n\\nAt WEAR INSPIRED, we believe that fashion should be a force for good. We strive to create meaningful and unique apparel that uplifts and empowers people. We believe in using fashion as a tool to create awareness and give back to those in need.\\n\\nThank you for joining our journey. Together, we can make a difference in the world.\\n\\nSincerely,\\n\\nAzucena \\u201cSena\\u201d Alvarez\"\n",
                        "    },\n",
                        "    {\n",
                        "      \"finish_reason\": \"stop\",\n",
                        "      \"index\": 6,\n",
                        "      \"logprobs\": null,\n",
                        "      \"text\": \"mat\\n\\nThe command to ingest the file \\\"vancouver.mat\\\" depends on the programming language being used. In MATLAB, the command is \\\"load('vancouver.mat')\\\" while in Python the command to use is \\\"scipy.io.loadmat('vancouver.mat')\\\".\"\n",
                        "    }\n",
                        "  ],\n",
                        "  \"created\": 1688250432,\n",
                        "  \"id\": \"cmpl-7XdLcoMdtNImWgwAsFMDv2plkeTOn\",\n",
                        "  \"model\": \"text-davinci-003\",\n",
                        "  \"object\": \"text_completion\",\n",
                        "  \"usage\": {\n",
                        "    \"completion_tokens\": 622,\n",
                        "    \"prompt_tokens\": 143,\n",
                        "    \"total_tokens\": 765\n",
                        "  }\n",
                        "}\n",
                        "openai-cli.complete(): finish_reason: stop.\n",
                        "code:  \n",
                        "\n",
                        "This command will launch a dedicated search for VanWatch nodes in the specified area. The VanWatch nodes will be uploaded to the VanWatch database with the ~upload option. With the --validate option, you can specify the minimum validation code for the assets to be uploaded.\n"
                    ]
                }
            ],
            "source": [
                "assert func.generate(prompt_.create(\n",
                "    function_name=func.function_name,\n",
                "    function_short_name=function_short_name))[0]"
            ]
        },
        {
            "cell_type": "code",
            "execution_count": 9,
            "metadata": {},
            "outputs": [
                {
                    "name": "stdout",
                    "output_type": "stream",
                    "text": [
                        "\u001b[0;36m📂 openai-completion-function-2d-v3\u001b[0m\n"
                    ]
                },
                {
                    "name": "stderr",
                    "output_type": "stream",
                    "text": [
                        "openai-completion-function-2d-v3 += #built_by_notebook.\n"
                    ]
                },
                {
                    "name": "stdout",
                    "output_type": "stream",
                    "text": [
                        "\u001b[0;36mconfirmed: openai-completion-function-2d-v3 does not exist.\u001b[0m\n",
                        "\u001b[0;36mopenai-completion-function-2d-v3 open upload started.\u001b[0m\n",
                        "upload: ./abcli.log to s3://kamangir/bolt/openai-completion-function-2d-v3/abcli.log\n",
                        "upload: ./i2i_function_code.json to s3://kamangir/bolt/openai-completion-function-2d-v3/i2i_function_code.json\n",
                        "upload: ./openai-completion-function-2d-v3 to s3://kamangir/bolt/openai-completion-function-2d-v3/openai-completion-function-2d-v3\n"
                    ]
                },
                {
                    "name": "stderr",
                    "output_type": "stream",
                    "text": [
                        "openai-completion-function-2d-v3 += #open.\n"
                    ]
                }
            ],
            "source": [
                "%%bash -s $object_name\n",
                "source ~/git/awesome-bash-cli/bash/abcli.sh in_notebook\n",
                "\n",
                "abcli select $1\n",
                "abcli tag set . built_by_notebook\n",
                "abcli upload"
            ]
        },
        {
            "attachments": {},
            "cell_type": "markdown",
            "metadata": {},
            "source": [
                "---"
            ]
        },
        {
            "cell_type": "code",
            "execution_count": 10,
            "metadata": {},
            "outputs": [
                {
                    "name": "stderr",
                    "output_type": "stream",
                    "text": [
                        "abcli select openai-completion-function-2d-v3\n",
                        "abcli download\n",
                        "open .\n"
                    ]
                }
            ],
            "source": [
                "seed.log(\"download_object\")"
            ]
        },
        {
            "cell_type": "code",
            "execution_count": 11,
            "metadata": {},
            "outputs": [],
            "source": [
                "# END"
            ]
        }
    ],
    "metadata": {
        "kernelspec": {
            "display_name": "Python 3 (ipykernel)",
            "language": "python",
            "name": "python3"
        },
        "language_info": {
            "codemirror_mode": {
                "name": "ipython",
                "version": 3
            },
            "file_extension": ".py",
            "mimetype": "text/x-python",
            "name": "python",
            "nbconvert_exporter": "python",
            "pygments_lexer": "ipython3",
            "version": "3.9.13"
        },
        "toc": {
            "base_numbering": 1,
            "nav_menu": {},
            "number_sections": true,
            "sideBar": true,
            "skip_h1_title": false,
            "title_cell": "Table of Contents",
            "title_sidebar": "Contents",
            "toc_cell": false,
            "toc_position": {},
            "toc_section_display": true,
            "toc_window_display": false
        }
    },
    "nbformat": 4,
    "nbformat_minor": 2
}
