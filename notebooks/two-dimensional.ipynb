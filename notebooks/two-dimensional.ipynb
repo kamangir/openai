{
    "cells": [
        {
            "attachments": {},
            "cell_type": "markdown",
            "metadata": {},
            "source": [
                "# two-dimensional 💡"
            ]
        },
        {
            "cell_type": "code",
            "execution_count": 1,
            "metadata": {},
            "outputs": [
                {
                    "name": "stderr",
                    "output_type": "stream",
                    "text": [
                        "Found credentials in shared credentials file: ~/.aws/credentials\n",
                        "abcli-7.2295.1-unknown, built on 26 June 2023, 18:40:01\n"
                    ]
                }
            ],
            "source": [
                "import os\n",
                "\n",
                "from abcli import file\n",
                "from abcli import fullname\n",
                "from abcli import string\n",
                "from abcli.plugins import seed\n",
                "from openai_cli.completion.prompts.generic import ai_prompt\n",
                "from openai_cli.completion.functions.bash import ai_function_bash\n",
                "\n",
                "import abcli.logging\n",
                "import logging\n",
                "\n",
                "logger = logging.getLogger()\n",
                "\n",
                "logger.info(f\"{fullname()}, built on {string.pretty_date()}\")"
            ]
        },
        {
            "cell_type": "code",
            "execution_count": 2,
            "metadata": {},
            "outputs": [],
            "source": [
                "object_name = f\"openai-completion-function-2d-{string.timestamp()}\""
            ]
        },
        {
            "cell_type": "code",
            "execution_count": 3,
            "metadata": {},
            "outputs": [
                {
                    "name": "stdout",
                    "output_type": "stream",
                    "text": [
                        "env: abcli_object_name=openai-completion-function-2d-2023-06-26-18-40-01-38477\n",
                        "env: abcli_object_path=/Users/kamangir/storage/abcli/openai-completion-function-2d-2023-06-26-18-40-01-38477\n"
                    ]
                }
            ],
            "source": [
                "HOME=os.getenv(\"HOME\")\n",
                "%env abcli_object_name={object_name}\n",
                "%env abcli_object_path={HOME}/storage/abcli/{object_name}"
            ]
        },
        {
            "cell_type": "code",
            "execution_count": 4,
            "metadata": {},
            "outputs": [
                {
                    "name": "stdout",
                    "output_type": "stream",
                    "text": [
                        "\u001b[0;36m📂 openai-completion-function-2d-2023-06-26-18-40-01-38477\u001b[0m\n",
                        "\u001b[0;36mopenai-completion-function-2d-2023-06-26-18-40-01-38477 open download started.\u001b[0m\n",
                        "\u001b[0;36mopenai-completion-function-2d-2023-06-26-18-40-01-38477 download completed.\u001b[0m\n"
                    ]
                }
            ],
            "source": [
                "%%bash -s $object_name\n",
                "source ~/git/awesome-bash-cli/bash/abcli.sh in_notebook\n",
                "\n",
                "abcli select $1\n",
                "abcli download"
            ]
        },
        {
            "attachments": {},
            "cell_type": "markdown",
            "metadata": {},
            "source": [
                "---"
            ]
        },
        {
            "cell_type": "code",
            "execution_count": 12,
            "metadata": {},
            "outputs": [],
            "source": [
                "prompt = ai_prompt([\n",
                "        \"you are working with the linux tool {function_name}.\",\n",
                "        \"To ask {function_name} to do \\\"task\\\" call {function_name} task.\",\n",
                "        \"If the task has arguments, append the command line with the arguments.\"\n",
                "        \"call {function_name} to receive help.\"\n",
                "        ])"
            ]
        },
        {
            "cell_type": "code",
            "execution_count": 7,
            "metadata": {},
            "outputs": [
                {
                    "name": "stderr",
                    "output_type": "stream",
                    "text": [
                        "message='Request to OpenAI API' method=post path=https://api.openai.com/v1/completions\n",
                        "message='OpenAI API response' path=https://api.openai.com/v1/completions processing_ms=904 request_id=3d6c00949aaddcdefee322121abc827a response_code=200\n",
                        "response: {\n",
                        "  \"choices\": [\n",
                        "    {\n",
                        "      \"finish_reason\": \"stop\",\n",
                        "      \"index\": 0,\n",
                        "      \"logprobs\": null,\n",
                        "      \"text\": \"\\n\\nTo call vanwatch for help, type:\\n\\nvanwatch -h\"\n",
                        "    }\n",
                        "  ],\n",
                        "  \"created\": 1687830007,\n",
                        "  \"id\": \"cmpl-7VryZLhsBWWfLkfXsOQmaWJx66Ljv\",\n",
                        "  \"model\": \"text-davinci-003\",\n",
                        "  \"object\": \"text_completion\",\n",
                        "  \"usage\": {\n",
                        "    \"completion_tokens\": 17,\n",
                        "    \"prompt_tokens\": 45,\n",
                        "    \"total_tokens\": 62\n",
                        "  }\n",
                        "}\n",
                        "openai-cli.complete(): finish_reason: stop.\n",
                        "code: \n",
                        "\n",
                        "To call vanwatch for help, type:\n",
                        "\n",
                        "vanwatch -h\n"
                    ]
                }
            ],
            "source": [
                "func = ai_function_bash(function_name=\"vanwatch\")\n",
                "assert func.generate(prompt.create(func.function_name))[0]"
            ]
        },
        {
            "cell_type": "code",
            "execution_count": 8,
            "metadata": {},
            "outputs": [
                {
                    "name": "stdout",
                    "output_type": "stream",
                    "text": [
                        "\u001b[0;36m📂 openai-completion-function-2d-2023-06-26-18-40-01-38477\u001b[0m\n"
                    ]
                },
                {
                    "name": "stderr",
                    "output_type": "stream",
                    "text": [
                        "openai-completion-function-2d-2023-06-26-18-40-01-38477 += #built_by_notebook.\n"
                    ]
                },
                {
                    "name": "stdout",
                    "output_type": "stream",
                    "text": [
                        "\u001b[0;36mconfirmed: openai-completion-function-2d-2023-06-26-18-40-01-38477 does not exist.\u001b[0m\n",
                        "\u001b[0;36mopenai-completion-function-2d-2023-06-26-18-40-01-38477 open upload started.\u001b[0m\n",
                        "upload: ./abcli.log to s3://kamangir/bolt/openai-completion-function-2d-2023-06-26-18-40-01-38477/abcli.log\n"
                    ]
                },
                {
                    "name": "stderr",
                    "output_type": "stream",
                    "text": [
                        "openai-completion-function-2d-2023-06-26-18-40-01-38477 += #open.\n"
                    ]
                }
            ],
            "source": [
                "%%bash -s $object_name\n",
                "source ~/git/awesome-bash-cli/bash/abcli.sh in_notebook\n",
                "\n",
                "abcli select $1\n",
                "abcli tag set . built_by_notebook\n",
                "abcli upload"
            ]
        },
        {
            "attachments": {},
            "cell_type": "markdown",
            "metadata": {},
            "source": [
                "---"
            ]
        },
        {
            "cell_type": "code",
            "execution_count": 9,
            "metadata": {},
            "outputs": [
                {
                    "name": "stderr",
                    "output_type": "stream",
                    "text": [
                        "abcli select openai-completion-function-2d-2023-06-26-18-40-01-38477\n",
                        "abcli download\n",
                        "open .\n"
                    ]
                }
            ],
            "source": [
                "seed.log(\"download_object\")"
            ]
        },
        {
            "cell_type": "code",
            "execution_count": 10,
            "metadata": {},
            "outputs": [],
            "source": [
                "# END"
            ]
        }
    ],
    "metadata": {
        "kernelspec": {
            "display_name": "Python 3 (ipykernel)",
            "language": "python",
            "name": "python3"
        },
        "language_info": {
            "codemirror_mode": {
                "name": "ipython",
                "version": 3
            },
            "file_extension": ".py",
            "mimetype": "text/x-python",
            "name": "python",
            "nbconvert_exporter": "python",
            "pygments_lexer": "ipython3",
            "version": "3.9.13"
        },
        "toc": {
            "base_numbering": 1,
            "nav_menu": {},
            "number_sections": true,
            "sideBar": true,
            "skip_h1_title": false,
            "title_cell": "Table of Contents",
            "title_sidebar": "Contents",
            "toc_cell": false,
            "toc_position": {},
            "toc_section_display": true,
            "toc_window_display": false
        }
    },
    "nbformat": 4,
    "nbformat_minor": 2
}
