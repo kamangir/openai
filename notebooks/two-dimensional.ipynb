{
    "cells": [
        {
            "attachments": {},
            "cell_type": "markdown",
            "metadata": {},
            "source": [
                "# two-dimensional 💡"
            ]
        },
        {
            "cell_type": "code",
            "execution_count": 1,
            "metadata": {},
            "outputs": [
                {
                    "name": "stderr",
                    "output_type": "stream",
                    "text": [
                        "Found credentials in shared credentials file: ~/.aws/credentials\n",
                        "abcli-7.2302.1-unknown, built on 01 July 2023, 15:23:53\n"
                    ]
                }
            ],
            "source": [
                "import os\n",
                "\n",
                "from abcli import fullname\n",
                "from abcli import string\n",
                "from abcli.plugins import seed\n",
                "from openai_cli.completion.prompts.bash import bash_prompt\n",
                "from openai_cli.completion.functions.bash import ai_function_bash\n",
                "\n",
                "import abcli.logging\n",
                "import logging\n",
                "\n",
                "logger = logging.getLogger()\n",
                "\n",
                "logger.info(f\"{fullname()}, built on {string.pretty_date()}\")"
            ]
        },
        {
            "cell_type": "code",
            "execution_count": 2,
            "metadata": {},
            "outputs": [],
            "source": [
                "object_name = \"openai-completion-function-2d-v3\""
            ]
        },
        {
            "cell_type": "code",
            "execution_count": 3,
            "metadata": {},
            "outputs": [],
            "source": [
                "function_name = \"vancouver_watching\"\n",
                "function_short_name = \"vanwatch\"\n",
                "prompt = \"ingest vancouver.\""
            ]
        },
        {
            "cell_type": "code",
            "execution_count": 4,
            "metadata": {},
            "outputs": [
                {
                    "name": "stdout",
                    "output_type": "stream",
                    "text": [
                        "env: abcli_object_name=openai-completion-function-2d-v3\n",
                        "env: abcli_object_path=/Users/kamangir/storage/abcli/openai-completion-function-2d-v3\n"
                    ]
                }
            ],
            "source": [
                "HOME=os.getenv(\"HOME\")\n",
                "%env abcli_object_name={object_name}\n",
                "%env abcli_object_path={HOME}/storage/abcli/{object_name}"
            ]
        },
        {
            "cell_type": "code",
            "execution_count": 5,
            "metadata": {},
            "outputs": [
                {
                    "name": "stdout",
                    "output_type": "stream",
                    "text": [
                        "\u001b[0;36m📂 openai-completion-function-2d-v3\u001b[0m\n",
                        "\u001b[0;36mopenai-completion-function-2d-v3 open download started.\u001b[0m\n",
                        "download: s3://kamangir/bolt/openai-completion-function-2d-v3/abcli.log to ./abcli.log\n",
                        "\u001b[0;36mopenai-completion-function-2d-v3 download completed.\u001b[0m\n"
                    ]
                }
            ],
            "source": [
                "%%bash -s $object_name\n",
                "source ~/git/awesome-bash-cli/bash/abcli.sh in_notebook\n",
                "\n",
                "abcli select $1\n",
                "abcli download"
            ]
        },
        {
            "attachments": {},
            "cell_type": "markdown",
            "metadata": {},
            "source": [
                "---"
            ]
        },
        {
            "cell_type": "code",
            "execution_count": 6,
            "metadata": {},
            "outputs": [],
            "source": [
                "prompt_ = bash_prompt(prompt)"
            ]
        },
        {
            "cell_type": "code",
            "execution_count": 8,
            "metadata": {},
            "outputs": [],
            "source": [
                "func = ai_function_bash(function_name)"
            ]
        },
        {
            "cell_type": "code",
            "execution_count": 9,
            "metadata": {},
            "outputs": [
                {
                    "name": "stderr",
                    "output_type": "stream",
                    "text": [
                        "loaded 6 line(s) from /Users/kamangir/storage/abcli/openai-completion-function-2d-v3/vanwatch-description.txt.\n"
                    ]
                },
                {
                    "ename": "AttributeError",
                    "evalue": "'list' object has no attribute 'replace'",
                    "output_type": "error",
                    "traceback": [
                        "\u001b[0;31m---------------------------------------------------------------------------\u001b[0m",
                        "\u001b[0;31mAttributeError\u001b[0m                            Traceback (most recent call last)",
                        "\u001b[1;32m/Users/kamangir/git/openai/notebooks/two-dimensional.ipynb Cell 10\u001b[0m in \u001b[0;36m<cell line: 1>\u001b[0;34m()\u001b[0m\n\u001b[0;32m----> <a href='vscode-notebook-cell:/Users/kamangir/git/openai/notebooks/two-dimensional.ipynb#X21sZmlsZQ%3D%3D?line=0'>1</a>\u001b[0m \u001b[39massert\u001b[39;00m func\u001b[39m.\u001b[39mgenerate(prompt_\u001b[39m.\u001b[39;49mcreate(\n\u001b[1;32m      <a href='vscode-notebook-cell:/Users/kamangir/git/openai/notebooks/two-dimensional.ipynb#X21sZmlsZQ%3D%3D?line=1'>2</a>\u001b[0m     function_name\u001b[39m=\u001b[39;49mfunc\u001b[39m.\u001b[39;49mfunction_name,\n\u001b[1;32m      <a href='vscode-notebook-cell:/Users/kamangir/git/openai/notebooks/two-dimensional.ipynb#X21sZmlsZQ%3D%3D?line=2'>3</a>\u001b[0m     function_short_name\u001b[39m=\u001b[39;49mfunction_short_name))[\u001b[39m0\u001b[39m]\n",
                        "File \u001b[0;32m~/git/openai/openai_cli/completion/prompts/bash.py:20\u001b[0m, in \u001b[0;36mbash_prompt.create\u001b[0;34m(self, function_name, function_short_name)\u001b[0m\n\u001b[1;32m     14\u001b[0m success, instructions \u001b[39m=\u001b[39m file\u001b[39m.\u001b[39mload_text(\n\u001b[1;32m     15\u001b[0m     objects\u001b[39m.\u001b[39mpath_of(\u001b[39mf\u001b[39m\u001b[39m\"\u001b[39m\u001b[39m{\u001b[39;00mfunction_short_name\u001b[39m}\u001b[39;00m\u001b[39m-description.txt\u001b[39m\u001b[39m\"\u001b[39m),\n\u001b[1;32m     16\u001b[0m     log\u001b[39m=\u001b[39m\u001b[39mTrue\u001b[39;00m,\n\u001b[1;32m     17\u001b[0m )\n\u001b[1;32m     18\u001b[0m \u001b[39massert\u001b[39;00m success\n\u001b[0;32m---> 20\u001b[0m \u001b[39mreturn\u001b[39;00m [\n\u001b[1;32m     21\u001b[0m     line\u001b[39m.\u001b[39mreplace(function_name, function_short_name)\n\u001b[1;32m     22\u001b[0m     \u001b[39mif\u001b[39;00m function_short_name\n\u001b[1;32m     23\u001b[0m     \u001b[39melse\u001b[39;00m line\n\u001b[1;32m     24\u001b[0m     \u001b[39mfor\u001b[39;00m line \u001b[39min\u001b[39;00m instructions \u001b[39m+\u001b[39m [\u001b[39mself\u001b[39m\u001b[39m.\u001b[39mprompt]\n\u001b[1;32m     25\u001b[0m ]\n",
                        "File \u001b[0;32m~/git/openai/openai_cli/completion/prompts/bash.py:21\u001b[0m, in \u001b[0;36m<listcomp>\u001b[0;34m(.0)\u001b[0m\n\u001b[1;32m     14\u001b[0m success, instructions \u001b[39m=\u001b[39m file\u001b[39m.\u001b[39mload_text(\n\u001b[1;32m     15\u001b[0m     objects\u001b[39m.\u001b[39mpath_of(\u001b[39mf\u001b[39m\u001b[39m\"\u001b[39m\u001b[39m{\u001b[39;00mfunction_short_name\u001b[39m}\u001b[39;00m\u001b[39m-description.txt\u001b[39m\u001b[39m\"\u001b[39m),\n\u001b[1;32m     16\u001b[0m     log\u001b[39m=\u001b[39m\u001b[39mTrue\u001b[39;00m,\n\u001b[1;32m     17\u001b[0m )\n\u001b[1;32m     18\u001b[0m \u001b[39massert\u001b[39;00m success\n\u001b[1;32m     20\u001b[0m \u001b[39mreturn\u001b[39;00m [\n\u001b[0;32m---> 21\u001b[0m     line\u001b[39m.\u001b[39;49mreplace(function_name, function_short_name)\n\u001b[1;32m     22\u001b[0m     \u001b[39mif\u001b[39;00m function_short_name\n\u001b[1;32m     23\u001b[0m     \u001b[39melse\u001b[39;00m line\n\u001b[1;32m     24\u001b[0m     \u001b[39mfor\u001b[39;00m line \u001b[39min\u001b[39;00m instructions \u001b[39m+\u001b[39m [\u001b[39mself\u001b[39m\u001b[39m.\u001b[39mprompt]\n\u001b[1;32m     25\u001b[0m ]\n",
                        "\u001b[0;31mAttributeError\u001b[0m: 'list' object has no attribute 'replace'"
                    ]
                }
            ],
            "source": [
                "assert func.generate(prompt_.create(\n",
                "    function_name=func.function_name,\n",
                "    function_short_name=function_short_name))[0]"
            ]
        },
        {
            "cell_type": "code",
            "execution_count": null,
            "metadata": {},
            "outputs": [],
            "source": [
                "%%bash -s $object_name\n",
                "source ~/git/awesome-bash-cli/bash/abcli.sh in_notebook\n",
                "\n",
                "abcli select $1\n",
                "abcli tag set . built_by_notebook\n",
                "abcli upload"
            ]
        },
        {
            "attachments": {},
            "cell_type": "markdown",
            "metadata": {},
            "source": [
                "---"
            ]
        },
        {
            "cell_type": "code",
            "execution_count": null,
            "metadata": {},
            "outputs": [],
            "source": [
                "seed.log(\"download_object\")"
            ]
        },
        {
            "cell_type": "code",
            "execution_count": null,
            "metadata": {},
            "outputs": [],
            "source": [
                "# END"
            ]
        }
    ],
    "metadata": {
        "kernelspec": {
            "display_name": "Python 3 (ipykernel)",
            "language": "python",
            "name": "python3"
        },
        "language_info": {
            "codemirror_mode": {
                "name": "ipython",
                "version": 3
            },
            "file_extension": ".py",
            "mimetype": "text/x-python",
            "name": "python",
            "nbconvert_exporter": "python",
            "pygments_lexer": "ipython3",
            "version": "3.9.13"
        },
        "toc": {
            "base_numbering": 1,
            "nav_menu": {},
            "number_sections": true,
            "sideBar": true,
            "skip_h1_title": false,
            "title_cell": "Table of Contents",
            "title_sidebar": "Contents",
            "toc_cell": false,
            "toc_position": {},
            "toc_section_display": true,
            "toc_window_display": false
        }
    },
    "nbformat": 4,
    "nbformat_minor": 2
}
