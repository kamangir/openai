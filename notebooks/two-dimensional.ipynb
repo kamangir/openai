{
    "cells": [
        {
            "attachments": {},
            "cell_type": "markdown",
            "metadata": {},
            "source": [
                "# two-dimensional 💡"
            ]
        },
        {
            "cell_type": "code",
            "execution_count": 1,
            "metadata": {},
            "outputs": [
                {
                    "name": "stderr",
                    "output_type": "stream",
                    "text": [
                        "Found credentials in shared credentials file: ~/.aws/credentials\n",
                        "abcli-7.2295.1-unknown, built on 23 June 2023, 21:06:51\n"
                    ]
                }
            ],
            "source": [
                "import os\n",
                "\n",
                "from abcli import file\n",
                "from abcli import fullname\n",
                "from abcli import string\n",
                "from abcli.plugins import seed\n",
                "from openai_cli.completion.prompts.generic import ai_prompt\n",
                "from openai_cli.completion.functions.generic import ai_function\n",
                "\n",
                "import abcli.logging\n",
                "import logging\n",
                "\n",
                "logger = logging.getLogger()\n",
                "\n",
                "logger.info(f\"{fullname()}, built on {string.pretty_date()}\")"
            ]
        },
        {
            "cell_type": "code",
            "execution_count": 2,
            "metadata": {},
            "outputs": [],
            "source": [
                "object_name = f\"openai-completion-function-2d-{string.timestamp()}\""
            ]
        },
        {
            "cell_type": "code",
            "execution_count": 3,
            "metadata": {},
            "outputs": [
                {
                    "name": "stdout",
                    "output_type": "stream",
                    "text": [
                        "env: abcli_object_name=openai-completion-function-2d-2023-06-23-21-06-51-45214\n",
                        "env: abcli_object_path=/Users/kamangir/storage/abcli/openai-completion-function-2d-2023-06-23-21-06-51-45214\n"
                    ]
                }
            ],
            "source": [
                "HOME=os.getenv(\"HOME\")\n",
                "%env abcli_object_name={object_name}\n",
                "%env abcli_object_path={HOME}/storage/abcli/{object_name}"
            ]
        },
        {
            "cell_type": "code",
            "execution_count": 4,
            "metadata": {},
            "outputs": [
                {
                    "name": "stdout",
                    "output_type": "stream",
                    "text": [
                        "\u001b[0;36m📂 openai-completion-function-2d-2023-06-23-21-06-51-45214\u001b[0m\n",
                        "\u001b[0;36mopenai-completion-function-2d-2023-06-23-21-06-51-45214 open download started.\u001b[0m\n",
                        "\u001b[0;36mopenai-completion-function-2d-2023-06-23-21-06-51-45214 download completed.\u001b[0m\n"
                    ]
                }
            ],
            "source": [
                "%%bash -s $object_name\n",
                "source ~/git/awesome-bash-cli/bash/abcli.sh in_notebook\n",
                "\n",
                "abcli select $1\n",
                "abcli download"
            ]
        },
        {
            "attachments": {},
            "cell_type": "markdown",
            "metadata": {},
            "source": [
                "---"
            ]
        },
        {
            "cell_type": "code",
            "execution_count": 5,
            "metadata": {},
            "outputs": [],
            "source": [
                "tool_name = \"vanwatch\""
            ]
        },
        {
            "cell_type": "code",
            "execution_count": 6,
            "metadata": {},
            "outputs": [],
            "source": [
                "prompt = ai_prompt(\n",
                "    objective=[\n",
                "        f\"you are working with the linux tool {tool_name}. you can call this tool as {tool_name} task args.\",\n",
                "        \"call the tool to receive help.\"\n",
                "        ],\n",
                ")"
            ]
        },
        {
            "cell_type": "code",
            "execution_count": 7,
            "metadata": {},
            "outputs": [],
            "source": [
                "func = ai_function()"
            ]
        },
        {
            "cell_type": "code",
            "execution_count": 8,
            "metadata": {},
            "outputs": [
                {
                    "name": "stderr",
                    "output_type": "stream",
                    "text": [
                        "you are working with the linux tool vanwatch. you can call this tool as vanwatch task args.\n",
                        "call the tool to receive help.\n",
                        "message='Request to OpenAI API' method=post path=https://api.openai.com/v1/completions\n",
                        "message='OpenAI API response' path=https://api.openai.com/v1/completions processing_ms=504 request_id=3b15602d1b8dad4039ccd907aae67864 response_code=200\n",
                        "response: {\n",
                        "  \"choices\": [\n",
                        "    {\n",
                        "      \"finish_reason\": \"stop\",\n",
                        "      \"index\": 0,\n",
                        "      \"logprobs\": null,\n",
                        "      \"text\": \"\\n\\nvanwatch --help\"\n",
                        "    }\n",
                        "  ],\n",
                        "  \"created\": 1687579616,\n",
                        "  \"id\": \"cmpl-7Uoq0uMWcDyMlKNH89TObpRvHt81I\",\n",
                        "  \"model\": \"text-davinci-003\",\n",
                        "  \"object\": \"text_completion\",\n",
                        "  \"usage\": {\n",
                        "    \"completion_tokens\": 6,\n",
                        "    \"prompt_tokens\": 29,\n",
                        "    \"total_tokens\": 35\n",
                        "  }\n",
                        "}\n",
                        "openai-cli.complete(): finish_reason: stop.\n",
                        "code: \n",
                        "\n",
                        "vanwatch --help\n",
                        "crash: ai_function.generate() failed.\n",
                        "exception \n",
                        "Traceback (most recent call last):\n",
                        "  File \"/Users/kamangir/git/openai/openai_cli/completion/functions/generic.py\", line 86, in generate\n",
                        "    exec(self.code)\n",
                        "  File \"<string>\", line 3, in <module>\n",
                        "NameError: name 'vanwatch' is not defined\n",
                        "5 more tries.\n",
                        "message='Request to OpenAI API' method=post path=https://api.openai.com/v1/completions\n",
                        "message='OpenAI API response' path=https://api.openai.com/v1/completions processing_ms=4 request_id=48ea6b61e390b5764ceb70f5ccf65d7a response_code=400\n",
                        "error_code=None error_message=\"'$.prompt' is invalid. Please check the API reference: https://platform.openai.com/docs/api-reference.\" error_param=None error_type=invalid_request_error message='OpenAI API error received' stream_error=False\n"
                    ]
                },
                {
                    "ename": "InvalidRequestError",
                    "evalue": "'$.prompt' is invalid. Please check the API reference: https://platform.openai.com/docs/api-reference.",
                    "output_type": "error",
                    "traceback": [
                        "\u001b[0;31m---------------------------------------------------------------------------\u001b[0m",
                        "\u001b[0;31mInvalidRequestError\u001b[0m                       Traceback (most recent call last)",
                        "\u001b[1;32m/Users/kamangir/git/openai/notebooks/two-dimensional.ipynb Cell 10\u001b[0m in \u001b[0;36m<cell line: 1>\u001b[0;34m()\u001b[0m\n\u001b[0;32m----> <a href='vscode-notebook-cell:/Users/kamangir/git/openai/notebooks/two-dimensional.ipynb#X11sZmlsZQ%3D%3D?line=0'>1</a>\u001b[0m \u001b[39massert\u001b[39;00m func\u001b[39m.\u001b[39;49mgenerate(prompt\u001b[39m.\u001b[39;49mcreate(func\u001b[39m.\u001b[39;49mfunction_name))[\u001b[39m0\u001b[39m]\n",
                        "File \u001b[0;32m~/git/openai/openai_cli/completion/functions/generic.py:117\u001b[0m, in \u001b[0;36mai_function.generate\u001b[0;34m(self, prompt, retry, validation_input)\u001b[0m\n\u001b[1;32m    114\u001b[0m     \u001b[39mreturn\u001b[39;00m \u001b[39mFalse\u001b[39;00m, metadata\n\u001b[1;32m    116\u001b[0m logger\u001b[39m.\u001b[39minfo(\u001b[39m\"\u001b[39m\u001b[39m{}\u001b[39;00m\u001b[39m more tries.\u001b[39m\u001b[39m\"\u001b[39m\u001b[39m.\u001b[39mformat(retry))\n\u001b[0;32m--> 117\u001b[0m \u001b[39mreturn\u001b[39;00m \u001b[39mself\u001b[39;49m\u001b[39m.\u001b[39;49mgenerate(retry \u001b[39m-\u001b[39;49m \u001b[39m1\u001b[39;49m)\n",
                        "File \u001b[0;32m~/git/openai/openai_cli/completion/functions/generic.py:76\u001b[0m, in \u001b[0;36mai_function.generate\u001b[0;34m(self, prompt, retry, validation_input)\u001b[0m\n\u001b[1;32m     72\u001b[0m \u001b[39mself\u001b[39m\u001b[39m.\u001b[39mprompt \u001b[39m=\u001b[39m prompt\n\u001b[1;32m     74\u001b[0m \u001b[39mself\u001b[39m\u001b[39m.\u001b[39mfunction_handle \u001b[39m=\u001b[39m \u001b[39mNone\u001b[39;00m\n\u001b[0;32m---> 76\u001b[0m success, \u001b[39mself\u001b[39m\u001b[39m.\u001b[39mcode, metadata \u001b[39m=\u001b[39m complete_prompt(\n\u001b[1;32m     77\u001b[0m     \u001b[39mself\u001b[39;49m\u001b[39m.\u001b[39;49mprompt,\n\u001b[1;32m     78\u001b[0m     verbose\u001b[39m=\u001b[39;49m\u001b[39mself\u001b[39;49m\u001b[39m.\u001b[39;49mverbose,\n\u001b[1;32m     79\u001b[0m )\n\u001b[1;32m     80\u001b[0m \u001b[39mif\u001b[39;00m \u001b[39mnot\u001b[39;00m success:\n\u001b[1;32m     81\u001b[0m     \u001b[39mreturn\u001b[39;00m success, metadata\n",
                        "File \u001b[0;32m~/git/openai/openai_cli/completion/api.py:19\u001b[0m, in \u001b[0;36mcomplete_prompt\u001b[0;34m(prompt, max_tokens, verbose)\u001b[0m\n\u001b[1;32m     14\u001b[0m \u001b[39mdef\u001b[39;00m \u001b[39mcomplete_prompt\u001b[39m(\n\u001b[1;32m     15\u001b[0m     prompt: \u001b[39mstr\u001b[39m,\n\u001b[1;32m     16\u001b[0m     max_tokens: \u001b[39mint\u001b[39m \u001b[39m=\u001b[39m \u001b[39m2000\u001b[39m,\n\u001b[1;32m     17\u001b[0m     verbose\u001b[39m=\u001b[39m\u001b[39mNone\u001b[39;00m,\n\u001b[1;32m     18\u001b[0m ) \u001b[39m-\u001b[39m\u001b[39m>\u001b[39m Tuple[\u001b[39mbool\u001b[39m, \u001b[39mstr\u001b[39m, Dict[\u001b[39mstr\u001b[39m, Any]]:\n\u001b[0;32m---> 19\u001b[0m     response \u001b[39m=\u001b[39m openai\u001b[39m.\u001b[39;49mCompletion\u001b[39m.\u001b[39;49mcreate(\n\u001b[1;32m     20\u001b[0m         model\u001b[39m=\u001b[39;49m\u001b[39m\"\u001b[39;49m\u001b[39mtext-davinci-003\u001b[39;49m\u001b[39m\"\u001b[39;49m,\n\u001b[1;32m     21\u001b[0m         prompt\u001b[39m=\u001b[39;49mprompt,\n\u001b[1;32m     22\u001b[0m         max_tokens\u001b[39m=\u001b[39;49mmax_tokens,\n\u001b[1;32m     23\u001b[0m     )\n\u001b[1;32m     25\u001b[0m     \u001b[39mif\u001b[39;00m is_jupyter() \u001b[39mif\u001b[39;00m verbose \u001b[39mis\u001b[39;00m \u001b[39mNone\u001b[39;00m \u001b[39melse\u001b[39;00m verbose:\n\u001b[1;32m     26\u001b[0m         logger\u001b[39m.\u001b[39minfo(\u001b[39m\"\u001b[39m\u001b[39mresponse: \u001b[39m\u001b[39m{}\u001b[39;00m\u001b[39m\"\u001b[39m\u001b[39m.\u001b[39mformat(response))\n",
                        "File \u001b[0;32m/usr/local/lib/python3.9/site-packages/openai/api_resources/completion.py:25\u001b[0m, in \u001b[0;36mCompletion.create\u001b[0;34m(cls, *args, **kwargs)\u001b[0m\n\u001b[1;32m     23\u001b[0m \u001b[39mwhile\u001b[39;00m \u001b[39mTrue\u001b[39;00m:\n\u001b[1;32m     24\u001b[0m     \u001b[39mtry\u001b[39;00m:\n\u001b[0;32m---> 25\u001b[0m         \u001b[39mreturn\u001b[39;00m \u001b[39msuper\u001b[39;49m()\u001b[39m.\u001b[39;49mcreate(\u001b[39m*\u001b[39;49margs, \u001b[39m*\u001b[39;49m\u001b[39m*\u001b[39;49mkwargs)\n\u001b[1;32m     26\u001b[0m     \u001b[39mexcept\u001b[39;00m TryAgain \u001b[39mas\u001b[39;00m e:\n\u001b[1;32m     27\u001b[0m         \u001b[39mif\u001b[39;00m timeout \u001b[39mis\u001b[39;00m \u001b[39mnot\u001b[39;00m \u001b[39mNone\u001b[39;00m \u001b[39mand\u001b[39;00m time\u001b[39m.\u001b[39mtime() \u001b[39m>\u001b[39m start \u001b[39m+\u001b[39m timeout:\n",
                        "File \u001b[0;32m/usr/local/lib/python3.9/site-packages/openai/api_resources/abstract/engine_api_resource.py:153\u001b[0m, in \u001b[0;36mEngineAPIResource.create\u001b[0;34m(cls, api_key, api_base, api_type, request_id, api_version, organization, **params)\u001b[0m\n\u001b[1;32m    127\u001b[0m \u001b[39m@classmethod\u001b[39m\n\u001b[1;32m    128\u001b[0m \u001b[39mdef\u001b[39;00m \u001b[39mcreate\u001b[39m(\n\u001b[1;32m    129\u001b[0m     \u001b[39mcls\u001b[39m,\n\u001b[0;32m   (...)\u001b[0m\n\u001b[1;32m    136\u001b[0m     \u001b[39m*\u001b[39m\u001b[39m*\u001b[39mparams,\n\u001b[1;32m    137\u001b[0m ):\n\u001b[1;32m    138\u001b[0m     (\n\u001b[1;32m    139\u001b[0m         deployment_id,\n\u001b[1;32m    140\u001b[0m         engine,\n\u001b[0;32m   (...)\u001b[0m\n\u001b[1;32m    150\u001b[0m         api_key, api_base, api_type, api_version, organization, \u001b[39m*\u001b[39m\u001b[39m*\u001b[39mparams\n\u001b[1;32m    151\u001b[0m     )\n\u001b[0;32m--> 153\u001b[0m     response, _, api_key \u001b[39m=\u001b[39m requestor\u001b[39m.\u001b[39;49mrequest(\n\u001b[1;32m    154\u001b[0m         \u001b[39m\"\u001b[39;49m\u001b[39mpost\u001b[39;49m\u001b[39m\"\u001b[39;49m,\n\u001b[1;32m    155\u001b[0m         url,\n\u001b[1;32m    156\u001b[0m         params\u001b[39m=\u001b[39;49mparams,\n\u001b[1;32m    157\u001b[0m         headers\u001b[39m=\u001b[39;49mheaders,\n\u001b[1;32m    158\u001b[0m         stream\u001b[39m=\u001b[39;49mstream,\n\u001b[1;32m    159\u001b[0m         request_id\u001b[39m=\u001b[39;49mrequest_id,\n\u001b[1;32m    160\u001b[0m         request_timeout\u001b[39m=\u001b[39;49mrequest_timeout,\n\u001b[1;32m    161\u001b[0m     )\n\u001b[1;32m    163\u001b[0m     \u001b[39mif\u001b[39;00m stream:\n\u001b[1;32m    164\u001b[0m         \u001b[39m# must be an iterator\u001b[39;00m\n\u001b[1;32m    165\u001b[0m         \u001b[39massert\u001b[39;00m \u001b[39mnot\u001b[39;00m \u001b[39misinstance\u001b[39m(response, OpenAIResponse)\n",
                        "File \u001b[0;32m/usr/local/lib/python3.9/site-packages/openai/api_requestor.py:226\u001b[0m, in \u001b[0;36mAPIRequestor.request\u001b[0;34m(self, method, url, params, headers, files, stream, request_id, request_timeout)\u001b[0m\n\u001b[1;32m    205\u001b[0m \u001b[39mdef\u001b[39;00m \u001b[39mrequest\u001b[39m(\n\u001b[1;32m    206\u001b[0m     \u001b[39mself\u001b[39m,\n\u001b[1;32m    207\u001b[0m     method,\n\u001b[0;32m   (...)\u001b[0m\n\u001b[1;32m    214\u001b[0m     request_timeout: Optional[Union[\u001b[39mfloat\u001b[39m, Tuple[\u001b[39mfloat\u001b[39m, \u001b[39mfloat\u001b[39m]]] \u001b[39m=\u001b[39m \u001b[39mNone\u001b[39;00m,\n\u001b[1;32m    215\u001b[0m ) \u001b[39m-\u001b[39m\u001b[39m>\u001b[39m Tuple[Union[OpenAIResponse, Iterator[OpenAIResponse]], \u001b[39mbool\u001b[39m, \u001b[39mstr\u001b[39m]:\n\u001b[1;32m    216\u001b[0m     result \u001b[39m=\u001b[39m \u001b[39mself\u001b[39m\u001b[39m.\u001b[39mrequest_raw(\n\u001b[1;32m    217\u001b[0m         method\u001b[39m.\u001b[39mlower(),\n\u001b[1;32m    218\u001b[0m         url,\n\u001b[0;32m   (...)\u001b[0m\n\u001b[1;32m    224\u001b[0m         request_timeout\u001b[39m=\u001b[39mrequest_timeout,\n\u001b[1;32m    225\u001b[0m     )\n\u001b[0;32m--> 226\u001b[0m     resp, got_stream \u001b[39m=\u001b[39m \u001b[39mself\u001b[39;49m\u001b[39m.\u001b[39;49m_interpret_response(result, stream)\n\u001b[1;32m    227\u001b[0m     \u001b[39mreturn\u001b[39;00m resp, got_stream, \u001b[39mself\u001b[39m\u001b[39m.\u001b[39mapi_key\n",
                        "File \u001b[0;32m/usr/local/lib/python3.9/site-packages/openai/api_requestor.py:599\u001b[0m, in \u001b[0;36mAPIRequestor._interpret_response\u001b[0;34m(self, result, stream)\u001b[0m\n\u001b[1;32m    591\u001b[0m     \u001b[39mreturn\u001b[39;00m (\n\u001b[1;32m    592\u001b[0m         \u001b[39mself\u001b[39m\u001b[39m.\u001b[39m_interpret_response_line(\n\u001b[1;32m    593\u001b[0m             line, result\u001b[39m.\u001b[39mstatus_code, result\u001b[39m.\u001b[39mheaders, stream\u001b[39m=\u001b[39m\u001b[39mTrue\u001b[39;00m\n\u001b[1;32m    594\u001b[0m         )\n\u001b[1;32m    595\u001b[0m         \u001b[39mfor\u001b[39;00m line \u001b[39min\u001b[39;00m parse_stream(result\u001b[39m.\u001b[39miter_lines())\n\u001b[1;32m    596\u001b[0m     ), \u001b[39mTrue\u001b[39;00m\n\u001b[1;32m    597\u001b[0m \u001b[39melse\u001b[39;00m:\n\u001b[1;32m    598\u001b[0m     \u001b[39mreturn\u001b[39;00m (\n\u001b[0;32m--> 599\u001b[0m         \u001b[39mself\u001b[39;49m\u001b[39m.\u001b[39;49m_interpret_response_line(\n\u001b[1;32m    600\u001b[0m             result\u001b[39m.\u001b[39;49mcontent, result\u001b[39m.\u001b[39;49mstatus_code, result\u001b[39m.\u001b[39;49mheaders, stream\u001b[39m=\u001b[39;49m\u001b[39mFalse\u001b[39;49;00m\n\u001b[1;32m    601\u001b[0m         ),\n\u001b[1;32m    602\u001b[0m         \u001b[39mFalse\u001b[39;00m,\n\u001b[1;32m    603\u001b[0m     )\n",
                        "File \u001b[0;32m/usr/local/lib/python3.9/site-packages/openai/api_requestor.py:655\u001b[0m, in \u001b[0;36mAPIRequestor._interpret_response_line\u001b[0;34m(self, rbody, rcode, rheaders, stream)\u001b[0m\n\u001b[1;32m    653\u001b[0m stream_error \u001b[39m=\u001b[39m stream \u001b[39mand\u001b[39;00m \u001b[39m\"\u001b[39m\u001b[39merror\u001b[39m\u001b[39m\"\u001b[39m \u001b[39min\u001b[39;00m resp\u001b[39m.\u001b[39mdata\n\u001b[1;32m    654\u001b[0m \u001b[39mif\u001b[39;00m stream_error \u001b[39mor\u001b[39;00m \u001b[39mnot\u001b[39;00m \u001b[39m200\u001b[39m \u001b[39m<\u001b[39m\u001b[39m=\u001b[39m rcode \u001b[39m<\u001b[39m \u001b[39m300\u001b[39m:\n\u001b[0;32m--> 655\u001b[0m     \u001b[39mraise\u001b[39;00m \u001b[39mself\u001b[39m\u001b[39m.\u001b[39mhandle_error_response(\n\u001b[1;32m    656\u001b[0m         rbody, rcode, resp\u001b[39m.\u001b[39mdata, rheaders, stream_error\u001b[39m=\u001b[39mstream_error\n\u001b[1;32m    657\u001b[0m     )\n\u001b[1;32m    658\u001b[0m \u001b[39mreturn\u001b[39;00m resp\n",
                        "\u001b[0;31mInvalidRequestError\u001b[0m: '$.prompt' is invalid. Please check the API reference: https://platform.openai.com/docs/api-reference."
                    ]
                }
            ],
            "source": [
                "assert func.generate(prompt.create(func.function_name))[0]"
            ]
        },
        {
            "cell_type": "code",
            "execution_count": null,
            "metadata": {},
            "outputs": [],
            "source": [
                "%%bash -s $object_name\n",
                "source ~/git/awesome-bash-cli/bash/abcli.sh in_notebook\n",
                "\n",
                "abcli select $1\n",
                "abcli tag set . built_by_notebook\n",
                "abcli upload"
            ]
        },
        {
            "attachments": {},
            "cell_type": "markdown",
            "metadata": {},
            "source": [
                "---"
            ]
        },
        {
            "cell_type": "code",
            "execution_count": null,
            "metadata": {},
            "outputs": [],
            "source": [
                "seed.log(\"download_object\")"
            ]
        },
        {
            "cell_type": "code",
            "execution_count": null,
            "metadata": {},
            "outputs": [],
            "source": [
                "# END"
            ]
        }
    ],
    "metadata": {
        "kernelspec": {
            "display_name": "Python 3 (ipykernel)",
            "language": "python",
            "name": "python3"
        },
        "language_info": {
            "codemirror_mode": {
                "name": "ipython",
                "version": 3
            },
            "file_extension": ".py",
            "mimetype": "text/x-python",
            "name": "python",
            "nbconvert_exporter": "python",
            "pygments_lexer": "ipython3",
            "version": "3.9.13"
        },
        "toc": {
            "base_numbering": 1,
            "nav_menu": {},
            "number_sections": true,
            "sideBar": true,
            "skip_h1_title": false,
            "title_cell": "Table of Contents",
            "title_sidebar": "Contents",
            "toc_cell": false,
            "toc_position": {},
            "toc_section_display": true,
            "toc_window_display": false
        }
    },
    "nbformat": 4,
    "nbformat_minor": 2
}
