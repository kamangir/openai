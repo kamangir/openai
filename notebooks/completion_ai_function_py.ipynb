{
    "cells": [
        {
            "attachments": {},
            "cell_type": "markdown",
            "metadata": {},
            "source": [
                "# [OpenAi completion/ai_function_py](../openai_commands/completion/functions/python.py)"
            ]
        },
        {
            "cell_type": "code",
            "execution_count": null,
            "metadata": {},
            "outputs": [],
            "source": [
                "from openai_commands import NAME, VERSION\n",
                "from openai_commands.completion.prompts.structured import structured_prompt\n",
                "from openai_commands.completion.functions.python import ai_function_py\n",
                "from openai_commands.logger import logger\n",
                "\n",
                "logger.info(f\"using {NAME}-{VERSION}.\")"
            ]
        },
        {
            "cell_type": "code",
            "execution_count": null,
            "metadata": {},
            "outputs": [],
            "source": [
                "prompt = structured_prompt(\n",
                "    inputs=[\"a number\"],\n",
                "    returns=[\"that number plus 12\"],\n",
                "    requirements=[\"returns 0 if the input is less than 10\"],\n",
                ")"
            ]
        },
        {
            "cell_type": "code",
            "execution_count": null,
            "metadata": {},
            "outputs": [],
            "source": [
                "func = ai_function_py(\n",
                "    output_class_name=\"int\",\n",
                "    validation_input = 10)"
            ]
        },
        {
            "cell_type": "code",
            "execution_count": null,
            "metadata": {},
            "outputs": [],
            "source": [
                "assert func.generate(prompt.create(func.function_name))[0]"
            ]
        },
        {
            "cell_type": "code",
            "execution_count": null,
            "metadata": {},
            "outputs": [],
            "source": [
                "for input_value in [9, 11]:\n",
                "    output_value = func.compute(input_value)\n",
                "    assert output_value is not None\n",
                "    print(f\"{input_value} -> {output_value}\")"
            ]
        },
        {
            "cell_type": "code",
            "execution_count": null,
            "metadata": {},
            "outputs": [],
            "source": [
                "# END"
            ]
        }
    ],
    "metadata": {
        "kernelspec": {
            "display_name": "Python 3",
            "language": "python",
            "name": "python3"
        },
        "language_info": {
            "codemirror_mode": {
                "name": "ipython",
                "version": 3
            },
            "file_extension": ".py",
            "mimetype": "text/x-python",
            "name": "python",
            "nbconvert_exporter": "python",
            "pygments_lexer": "ipython3",
            "version": "3.9.18"
        },
        "orig_nbformat": 4
    },
    "nbformat": 4,
    "nbformat_minor": 2
}