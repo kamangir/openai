{
 "cells": [
  {
   "attachments": {},
   "cell_type": "markdown",
   "metadata": {},
   "source": [
    "# [OpenAi completion/ai function.py](../openai_cli/completion/functions/root.py)"
   ]
  },
  {
   "cell_type": "code",
   "execution_count": 1,
   "metadata": {},
   "outputs": [
    {
     "name": "stderr",
     "output_type": "stream",
     "text": [
      "Found credentials in shared credentials file: ~/.aws/credentials\n",
      "using openai_cli-2.112.1.\n"
     ]
    }
   ],
   "source": [
    "import os\n",
    "from openai_cli import NAME, VERSION\n",
    "from openai_cli.completion.prompts.structured import structured_prompt\n",
    "from openai_cli.completion.functions.python import ai_function_py\n",
    "import abcli.logging\n",
    "import logging\n",
    "\n",
    "logger = logging.getLogger()\n",
    "\n",
    "logger.info(f\"using {NAME}-{VERSION}.\")"
   ]
  },
  {
   "cell_type": "code",
   "execution_count": 2,
   "metadata": {},
   "outputs": [],
   "source": [
    "prompt = structured_prompt(\n",
    "    inputs=[\"a number\"],\n",
    "    returns=[\"that number plus 12\"],\n",
    "    requirements=[\"returns 0 if the input is less than 10\"],\n",
    ")"
   ]
  },
  {
   "cell_type": "code",
   "execution_count": 3,
   "metadata": {},
   "outputs": [],
   "source": [
    "func = ai_function_py(output_class_name=\"int\")"
   ]
  },
  {
   "cell_type": "code",
   "execution_count": 4,
   "metadata": {},
   "outputs": [
    {
     "name": "stderr",
     "output_type": "stream",
     "text": [
      "Write a python function named ai_function_py_24169449 that\n",
      " inputs a number and\n",
      " returns 0 if the input is less than 10 and\n",
      " returns that number plus 12.\n",
      "message='Request to OpenAI API' method=post path=https://api.openai.com/v1/completions\n",
      "message='OpenAI API response' path=https://api.openai.com/v1/completions processing_ms=2114 request_id=97d4cb929e2a22a68ee487e2c8af5dd1 response_code=200\n",
      "response: {\n",
      "  \"choices\": [\n",
      "    {\n",
      "      \"finish_reason\": \"stop\",\n",
      "      \"index\": 0,\n",
      "      \"logprobs\": null,\n",
      "      \"text\": \"\\n\\ndef ai_function_py_24169449(number):\\n  if number < 10:\\n    return 0\\n  else:\\n    return number + 12\"\n",
      "    }\n",
      "  ],\n",
      "  \"created\": 1687689061,\n",
      "  \"id\": \"cmpl-7VHJFgC13pXZOvbnVArbQwRBAEa2k\",\n",
      "  \"model\": \"text-davinci-003\",\n",
      "  \"object\": \"text_completion\",\n",
      "  \"usage\": {\n",
      "    \"completion_tokens\": 37,\n",
      "    \"prompt_tokens\": 39,\n",
      "    \"total_tokens\": 76\n",
      "  }\n",
      "}\n",
      "openai-cli.complete(): finish_reason: stop.\n",
      "code: \n",
      "\n",
      "def ai_function_py_24169449(number):\n",
      "  if number < 10:\n",
      "    return 0\n",
      "  else:\n",
      "    return number + 12\n",
      "ai_function_py.compute(int)\n",
      "-> int\n"
     ]
    }
   ],
   "source": [
    "assert func.generate(\n",
    "            prompt.create(func.function_name),\n",
    "            validation_input = 10\n",
    "        )[0]"
   ]
  },
  {
   "cell_type": "code",
   "execution_count": 5,
   "metadata": {},
   "outputs": [
    {
     "name": "stderr",
     "output_type": "stream",
     "text": [
      "ai_function_py.compute(int)\n",
      "-> int\n"
     ]
    },
    {
     "name": "stdout",
     "output_type": "stream",
     "text": [
      "11 -> 23\n"
     ]
    }
   ],
   "source": [
    "\n",
    "input_value = 11\n",
    "output_value = func.compute(input_value)\n",
    "assert output_value is not None\n",
    "print(f\"{input_value} -> {output_value}\")"
   ]
  },
  {
   "cell_type": "code",
   "execution_count": 6,
   "metadata": {},
   "outputs": [],
   "source": [
    "# END"
   ]
  }
 ],
 "metadata": {
  "kernelspec": {
   "display_name": "Python 3",
   "language": "python",
   "name": "python3"
  },
  "language_info": {
   "codemirror_mode": {
    "name": "ipython",
    "version": 3
   },
   "file_extension": ".py",
   "mimetype": "text/x-python",
   "name": "python",
   "nbconvert_exporter": "python",
   "pygments_lexer": "ipython3",
   "version": "3.9.13"
  },
  "orig_nbformat": 4
 },
 "nbformat": 4,
 "nbformat_minor": 2
}
