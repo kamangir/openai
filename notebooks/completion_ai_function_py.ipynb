{
 "cells": [
  {
   "attachments": {},
   "cell_type": "markdown",
   "metadata": {},
   "source": [
    "# [OpenAi completion/ai_function_py](../openai_cli/completion/functions/python.py)"
   ]
  },
  {
   "cell_type": "code",
   "execution_count": 1,
   "metadata": {},
   "outputs": [
    {
     "name": "stderr",
     "output_type": "stream",
     "text": [
      "Found credentials in shared credentials file: ~/.aws/credentials\n",
      "using openai_cli-2.147.1.\n"
     ]
    }
   ],
   "source": [
    "from openai_commands import NAME, VERSION\n",
    "from openai_commands.completion.prompts.structured import structured_prompt\n",
    "from openai_commands.completion.functions.python import ai_function_py\n",
    "from openai_commands.logger import logger\n",
    "\n",
    "logger.info(f\"using {NAME}-{VERSION}.\")"
   ]
  },
  {
   "cell_type": "code",
   "execution_count": 2,
   "metadata": {},
   "outputs": [],
   "source": [
    "prompt = structured_prompt(\n",
    "    inputs=[\"a number\"],\n",
    "    returns=[\"that number plus 12\"],\n",
    "    requirements=[\"returns 0 if the input is less than 10\"],\n",
    ")"
   ]
  },
  {
   "cell_type": "code",
   "execution_count": 3,
   "metadata": {},
   "outputs": [],
   "source": [
    "func = ai_function_py(\n",
    "    output_class_name=\"int\",\n",
    "    validation_input = 10)"
   ]
  },
  {
   "cell_type": "code",
   "execution_count": 4,
   "metadata": {},
   "outputs": [
    {
     "name": "stderr",
     "output_type": "stream",
     "text": [
      "prompt: Write a python function named ai_function_py_14540916 that\n",
      " inputs a number and\n",
      " returns 0 if the input is less than 10 and\n",
      " returns that number plus 12.\n",
      "HTTP Request: POST https://api.openai.com/v1/chat/completions \"HTTP/1.1 200 OK\"\n",
      "response: ChatCompletion(id='chatcmpl-8NtjdD5z9iUcZZ6Ppegosd1YliVsw', choices=[Choice(finish_reason='stop', index=0, message=ChatCompletionMessage(content='Here is the implementation of the required function in Python:\\n\\n```python\\ndef ai_function_py_14540916(number):\\n    if number < 10:\\n        return 0\\n    else:\\n        return number + 12\\n```\\n\\nYou can use this function to input a number and get the desired result. For example:\\n\\n```python\\n# Input: 5 (less than 10)\\nresult1 = ai_function_py_14540916(5)\\nprint(result1)  # Output: 0\\n\\n# Input: 15 (greater than 10)\\nresult2 = ai_function_py_14540916(15)\\nprint(result2)  # Output: 27\\n```\\n\\nHope this helps!', role='assistant', function_call=None, tool_calls=None))], created=1700706481, model='gpt-3.5-turbo-0613', object='chat.completion', system_fingerprint=None, usage=CompletionUsage(completion_tokens=145, prompt_tokens=46, total_tokens=191))\n",
      "openai-cli.complete(): finish_reason: stop.\n",
      "code: Here is the implementation of the required function in Python:\n",
      "\n",
      "```python\n",
      "def ai_function_py_14540916(number):\n",
      "    if number < 10:\n",
      "        return 0\n",
      "    else:\n",
      "        return number + 12\n",
      "```\n",
      "\n",
      "You can use this function to input a number and get the desired result. For example:\n",
      "\n",
      "```python\n",
      "# Input: 5 (less than 10)\n",
      "result1 = ai_function_py_14540916(5)\n",
      "print(result1)  # Output: 0\n",
      "\n",
      "# Input: 15 (greater than 10)\n",
      "result2 = ai_function_py_14540916(15)\n",
      "print(result2)  # Output: 27\n",
      "```\n",
      "\n",
      "Hope this helps!\n",
      "crash: ai_function_py.generate() failed.\n",
      "exception \n",
      "Traceback (most recent call last):\n",
      "  File \"/Users/kamangir/git/openai/openai_cli/completion/functions/python.py\", line 74, in generate\n",
      "    exec(self.code)\n",
      "  File \"<string>\", line 1\n",
      "    Here is the implementation of the required function in Python:\n",
      "                ^^^^^^^^^^^^^^\n",
      "SyntaxError: invalid syntax\n",
      "5 more tries.\n",
      "prompt: Write a python function named ai_function_py_14540916 that\n",
      " inputs a number and\n",
      " returns 0 if the input is less than 10 and\n",
      " returns that number plus 12.\n",
      "HTTP Request: POST https://api.openai.com/v1/chat/completions \"HTTP/1.1 200 OK\"\n",
      "response: ChatCompletion(id='chatcmpl-8NtjhmBvnYHwDODiAvsQqUn6NhwTJ', choices=[Choice(finish_reason='stop', index=0, message=ChatCompletionMessage(content='def ai_function_py_14540916(number):\\n    if number < 10:\\n        return 0\\n    else:\\n        return number + 12', role='assistant', function_call=None, tool_calls=None))], created=1700706485, model='gpt-3.5-turbo-0613', object='chat.completion', system_fingerprint=None, usage=CompletionUsage(completion_tokens=31, prompt_tokens=46, total_tokens=77))\n",
      "openai-cli.complete(): finish_reason: stop.\n",
      "code: def ai_function_py_14540916(number):\n",
      "    if number < 10:\n",
      "        return 0\n",
      "    else:\n",
      "        return number + 12\n",
      "ai_function_py.compute(int)\n",
      "-> int\n"
     ]
    }
   ],
   "source": [
    "assert func.generate(prompt.create(func.function_name))[0]"
   ]
  },
  {
   "cell_type": "code",
   "execution_count": 5,
   "metadata": {},
   "outputs": [
    {
     "name": "stderr",
     "output_type": "stream",
     "text": [
      "ai_function_py.compute(int)\n",
      "-> int\n",
      "ai_function_py.compute(int)\n",
      "-> int\n"
     ]
    },
    {
     "name": "stdout",
     "output_type": "stream",
     "text": [
      "9 -> 0\n",
      "11 -> 23\n"
     ]
    }
   ],
   "source": [
    "for input_value in [9, 11]:\n",
    "    output_value = func.compute(input_value)\n",
    "    assert output_value is not None\n",
    "    print(f\"{input_value} -> {output_value}\")"
   ]
  },
  {
   "cell_type": "code",
   "execution_count": 6,
   "metadata": {},
   "outputs": [],
   "source": [
    "# END"
   ]
  }
 ],
 "metadata": {
  "kernelspec": {
   "display_name": "Python 3",
   "language": "python",
   "name": "python3"
  },
  "language_info": {
   "codemirror_mode": {
    "name": "ipython",
    "version": 3
   },
   "file_extension": ".py",
   "mimetype": "text/x-python",
   "name": "python",
   "nbconvert_exporter": "python",
   "pygments_lexer": "ipython3",
   "version": "3.11.5"
  },
  "orig_nbformat": 4
 },
 "nbformat": 4,
 "nbformat_minor": 2
}
