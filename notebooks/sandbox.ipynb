{
 "cells": [
  {
   "attachments": {},
   "cell_type": "markdown",
   "metadata": {},
   "source": [
    "# [OpenAi completion/ai function](../openai_cli/completion/functions/root.py): fractal"
   ]
  },
  {
   "cell_type": "code",
   "execution_count": 1,
   "metadata": {},
   "outputs": [
    {
     "name": "stderr",
     "output_type": "stream",
     "text": [
      "using openai_cli-2.98.1.\n"
     ]
    }
   ],
   "source": [
    "import os\n",
    "from openai_cli import NAME, VERSION\n",
    "from openai_cli.completion.functions.generic import ai_function\n",
    "import abcli.logging\n",
    "import logging\n",
    "\n",
    "logger = logging.getLogger()\n",
    "\n",
    "logger.info(f\"using {NAME}-{VERSION}.\")"
   ]
  },
  {
   "cell_type": "code",
   "execution_count": 2,
   "metadata": {},
   "outputs": [
    {
     "name": "stderr",
     "output_type": "stream",
     "text": [
      "ai_function.prompt=Write a python function named ai_function_90638690 that\n",
      "returns a fractal as a 1024 x 1024 numpy array.\n"
     ]
    }
   ],
   "source": [
    "func = ai_function(\n",
    "    inputs=[],\n",
    "    returns=[\"a fractal as a 1024 x 1024 numpy array\"],\n",
    "    requirements=[],\n",
    "    output_class_name=\"ndarray\",\n",
    "    verbose=True,\n",
    ")"
   ]
  },
  {
   "cell_type": "code",
   "execution_count": 4,
   "metadata": {},
   "outputs": [
    {
     "name": "stderr",
     "output_type": "stream",
     "text": [
      "message='Request to OpenAI API' method=post path=https://api.openai.com/v1/completions\n",
      "message='OpenAI API response' path=https://api.openai.com/v1/completions processing_ms=4292 request_id=8847baacd210e2cc371c7fce83c0ff9e response_code=200\n",
      "response: {\n",
      "  \"choices\": [\n",
      "    {\n",
      "      \"finish_reason\": \"stop\",\n",
      "      \"index\": 0,\n",
      "      \"logprobs\": null,\n",
      "      \"text\": \"\\n\\nimport numpy as np\\n\\ndef ai_function_90638690():\\n  fractal = np.zeros((1024,1024))\\n  # Construct the fractal \\n  for x in range(0, 1024):\\n    for y in range(0, 1024):\\n      fractal[x,y] = (x/1024) * (y/1024) * 255\\n  return fractal\"\n",
      "    }\n",
      "  ],\n",
      "  \"created\": 1687320238,\n",
      "  \"id\": \"cmpl-7TjMUS1AGGCz71CcHO46uXWvTuZPu\",\n",
      "  \"model\": \"text-davinci-003\",\n",
      "  \"object\": \"text_completion\",\n",
      "  \"usage\": {\n",
      "    \"completion_tokens\": 92,\n",
      "    \"prompt_tokens\": 30,\n",
      "    \"total_tokens\": 122\n",
      "  }\n",
      "}\n",
      "openai-cli.complete(): finish_reason: stop.\n",
      "code: \n",
      "\n",
      "import numpy as np\n",
      "\n",
      "def ai_function_90638690():\n",
      "  fractal = np.zeros((1024,1024))\n",
      "  # Construct the fractal \n",
      "  for x in range(0, 1024):\n",
      "    for y in range(0, 1024):\n",
      "      fractal[x,y] = (x/1024) * (y/1024) * 255\n",
      "  return fractal\n"
     ]
    }
   ],
   "source": [
    "assert func.generate()[0]"
   ]
  },
  {
   "cell_type": "code",
   "execution_count": null,
   "metadata": {},
   "outputs": [],
   "source": [
    "\n",
    "input_value = 11\n",
    "output_value = func.compute(input_value)\n",
    "assert output_value is not None\n",
    "print(f\"{input_value} -> {output_value}\")"
   ]
  },
  {
   "cell_type": "code",
   "execution_count": null,
   "metadata": {},
   "outputs": [],
   "source": [
    "# END"
   ]
  }
 ],
 "metadata": {
  "kernelspec": {
   "display_name": "Python 3",
   "language": "python",
   "name": "python3"
  },
  "language_info": {
   "codemirror_mode": {
    "name": "ipython",
    "version": 3
   },
   "file_extension": ".py",
   "mimetype": "text/x-python",
   "name": "python",
   "nbconvert_exporter": "python",
   "pygments_lexer": "ipython3",
   "version": "3.9.13"
  },
  "orig_nbformat": 4
 },
 "nbformat": 4,
 "nbformat_minor": 2
}
