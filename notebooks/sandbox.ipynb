{
    "cells": [
        {
            "attachments": {},
            "cell_type": "markdown",
            "metadata": {},
            "source": [
                "# OpenAI Sandbox\n",
                "\n",
                "using https://github.com/openai/openai-python/discussions/742"
            ]
        },
        {
            "cell_type": "code",
            "execution_count": 1,
            "metadata": {},
            "outputs": [
                {
                    "name": "stderr",
                    "output_type": "stream",
                    "text": [
                        "abcli-7.2497.1-2023-06-aws-batch-a, built on 22 November 2023, 18:25:35\n"
                    ]
                }
            ],
            "source": [
                "import json\n",
                "from abcli import fullname, string\n",
                "from abcli.modules.cookie import cookie\n",
                "from openai import OpenAI\n",
                "import abcli.logging\n",
                "import logging\n",
                "\n",
                "logger = logging.getLogger()\n",
                "\n",
                "logger.info(f\"{fullname()}, built on {string.pretty_date()}\")"
            ]
        },
        {
            "cell_type": "code",
            "execution_count": 2,
            "metadata": {},
            "outputs": [],
            "source": [
                "client = OpenAI(api_key=cookie[\"openai_api_key\"])"
            ]
        },
        {
            "cell_type": "code",
            "execution_count": 3,
            "metadata": {},
            "outputs": [],
            "source": [
                "prompt = \"describe mathematics\""
            ]
        },
        {
            "cell_type": "code",
            "execution_count": 4,
            "metadata": {},
            "outputs": [
                {
                    "name": "stderr",
                    "output_type": "stream",
                    "text": [
                        "HTTP Request: POST https://api.openai.com/v1/chat/completions \"HTTP/1.1 200 OK\"\n"
                    ]
                }
            ],
            "source": [
                "response = client.chat.completions.create(\n",
                "    messages=[\n",
                "        {\n",
                "            \"role\": \"user\",\n",
                "            \"content\": prompt,\n",
                "        }\n",
                "    ],\n",
                "    model=\"gpt-3.5-turbo\",\n",
                ")"
            ]
        },
        {
            "cell_type": "code",
            "execution_count": 5,
            "metadata": {},
            "outputs": [
                {
                    "name": "stderr",
                    "output_type": "stream",
                    "text": [
                        "[\n",
                        "    {\n",
                        "        \"finish_reason\": \"stop\",\n",
                        "        \"index\": 0,\n",
                        "        \"message\": {\n",
                        "            \"content\": \"Mathematics is a branch of knowledge that deals with numbers, quantities, patterns, structures, and relationships. It involves the study of various concepts such as arithmetic, algebra, geometry, calculus, statistics, and probability.\\n\\nMathematics provides a framework for understanding the world around us and helps us solve problems in a logical and systematic way. It is a universal language that transcends cultural and linguistic barriers, allowing people from different backgrounds to communicate and share ideas.\\n\\nMathematics is characterized by its precision, rigor, and logical reasoning. It involves not only computation but also abstract thinking and problem-solving skills. It is both a science and an art, combining creativity and critical thinking to explore new ideas and concepts.\\n\\nMathematics has numerous applications in various disciplines, from physics and engineering to economics and computer science. It is used to model and solve real-world problems, make predictions, analyze data, and optimize systems. It also plays a fundamental role in the development of technology and the advancement of society.\\n\\nOverall, mathematics is a fundamental field of study that provides a framework for logical reasoning, problem-solving, and understanding the world around us. It is a versatile and powerful tool that has had a profound impact on human civilization.\",\n",
                        "            \"role\": \"assistant\",\n",
                        "            \"function_call\": null,\n",
                        "            \"tool_calls\": null\n",
                        "        }\n",
                        "    }\n",
                        "]\n"
                    ]
                }
            ],
            "source": [
                "logger.info(json.dumps([choice.model_dump() for choice in response.choices],indent=4))"
            ]
        },
        {
            "cell_type": "code",
            "execution_count": 6,
            "metadata": {},
            "outputs": [
                {
                    "name": "stderr",
                    "output_type": "stream",
                    "text": [
                        "Mathematics is a branch of knowledge that deals with numbers, quantities, patterns, structures, and relationships. It involves the study of various concepts such as arithmetic, algebra, geometry, calculus, statistics, and probability.\n",
                        "\n",
                        "Mathematics provides a framework for understanding the world around us and helps us solve problems in a logical and systematic way. It is a universal language that transcends cultural and linguistic barriers, allowing people from different backgrounds to communicate and share ideas.\n",
                        "\n",
                        "Mathematics is characterized by its precision, rigor, and logical reasoning. It involves not only computation but also abstract thinking and problem-solving skills. It is both a science and an art, combining creativity and critical thinking to explore new ideas and concepts.\n",
                        "\n",
                        "Mathematics has numerous applications in various disciplines, from physics and engineering to economics and computer science. It is used to model and solve real-world problems, make predictions, analyze data, and optimize systems. It also plays a fundamental role in the development of technology and the advancement of society.\n",
                        "\n",
                        "Overall, mathematics is a fundamental field of study that provides a framework for logical reasoning, problem-solving, and understanding the world around us. It is a versatile and powerful tool that has had a profound impact on human civilization.\n"
                    ]
                }
            ],
            "source": [
                "if response.choices:\n",
                "    logger.info(response.choices[0].message.content)"
            ]
        },
        {
            "cell_type": "code",
            "execution_count": 7,
            "metadata": {},
            "outputs": [],
            "source": [
                "# END"
            ]
        }
    ],
    "metadata": {
        "kernelspec": {
            "display_name": "Python 3 (ipykernel)",
            "language": "python",
            "name": "python3"
        },
        "language_info": {
            "codemirror_mode": {
                "name": "ipython",
                "version": 3
            },
            "file_extension": ".py",
            "mimetype": "text/x-python",
            "name": "python",
            "nbconvert_exporter": "python",
            "pygments_lexer": "ipython3",
            "version": "3.11.5"
        },
        "toc": {
            "base_numbering": 1,
            "nav_menu": {},
            "number_sections": true,
            "sideBar": true,
            "skip_h1_title": false,
            "title_cell": "Table of Contents",
            "title_sidebar": "Contents",
            "toc_cell": false,
            "toc_position": {},
            "toc_section_display": true,
            "toc_window_display": false
        }
    },
    "nbformat": 4,
    "nbformat_minor": 2
}
